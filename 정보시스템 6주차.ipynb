{
 "cells": [
  {
   "cell_type": "markdown",
   "metadata": {},
   "source": [
    "### 객체지향 프로그래밍"
   ]
  },
  {
   "cell_type": "code",
   "execution_count": 2,
   "metadata": {},
   "outputs": [
    {
     "name": "stdout",
     "output_type": "stream",
     "text": [
      "보\n",
      "가위\n"
     ]
    }
   ],
   "source": [
    "# 모듈 호출\n",
    "import random\n",
    "candidates = ['가위', '바위', '보']\n",
    "print(random.choice(candidates))\n",
    "print(candidates[random.randint(0, 2)])"
   ]
  },
  {
   "cell_type": "code",
   "execution_count": 3,
   "metadata": {},
   "outputs": [
    {
     "name": "stdout",
     "output_type": "stream",
     "text": [
      "보\n",
      "바위\n"
     ]
    }
   ],
   "source": [
    "from random import * # 함수가 메모리에 전부 다 옴\n",
    "candidates = ['가위', '바위', '보']\n",
    "print(choice(candidates)) # random. 이 필요없음\n",
    "print(candidates[randint(0, 2)])"
   ]
  },
  {
   "cell_type": "code",
   "execution_count": 4,
   "metadata": {},
   "outputs": [
    {
     "name": "stdout",
     "output_type": "stream",
     "text": [
      "Writing my_module.py\n"
     ]
    }
   ],
   "source": [
    "%%file my_module.py \n",
    "# 모듈 작성 \n",
    "def random_rsp():\n",
    "    import random\n",
    "    return random.choice(['가위', '바위', '보'])\n",
    "rock = '바위'\n",
    "scissors='가위'\n",
    "paper = '보'\n",
    "\n",
    "if __name__ == '__main__': #해당 파일이 자체적으로 실행될 때만 아래부분 실행\n",
    "    print('자체실행 되었음')\n",
    "else: \n",
    "    print('import 되었음') #import 될 때만 실행"
   ]
  },
  {
   "cell_type": "code",
   "execution_count": 5,
   "metadata": {
    "scrolled": true
   },
   "outputs": [
    {
     "name": "stdout",
     "output_type": "stream",
     "text": [
      "import 되었음\n",
      "바위\n",
      "바위\n"
     ]
    }
   ],
   "source": [
    "# 생성 모듈 호출\n",
    "import my_module\n",
    "print(my_module.random_rsp()) # random_rsp() \n",
    "print(my_module.rock) # rock 변수 호출"
   ]
  },
  {
   "cell_type": "code",
   "execution_count": 6,
   "metadata": {
    "scrolled": true
   },
   "outputs": [
    {
     "name": "stdout",
     "output_type": "stream",
     "text": [
      "자체실행 되었음\n"
     ]
    }
   ],
   "source": [
    "# 모듈 파일 자제 실행\n",
    "!python my_module.py"
   ]
  },
  {
   "cell_type": "markdown",
   "metadata": {},
   "source": [
    "#### [실습1] “파이의 값은 (3.141592…) 입니다.”를 math 모듈을 활용하여 출력"
   ]
  },
  {
   "cell_type": "code",
   "execution_count": 12,
   "metadata": {},
   "outputs": [
    {
     "name": "stdout",
     "output_type": "stream",
     "text": [
      "파이의 값은 3.141592653589793 입니다.\n",
      "파이의 값은 3.141592653589793 입니다.\n",
      "파이의 값은 3.1416입니다.\n",
      "파이의 값은 3.141592653589793입니다.\n",
      "파이의 값은 3.1416입니다.\n",
      "===============================================\n",
      "파이의 값은 3.141592653589793 입니다.\n",
      "파이의 값은 3.141592653589793 입니다.\n",
      "파이의 값은 3.1416입니다.\n",
      "파이의 값은 3.141592653589793입니다.\n",
      "파이의 값은 3.1416입니다.\n"
     ]
    }
   ],
   "source": [
    "import math\n",
    "print(\"파이의 값은\", math.pi,\"입니다.\")\n",
    "print(\"파이의 값은 %s 입니다.\" %math.pi)\n",
    "print(\"파이의 값은 {:2.4f}입니다.\".format(math.pi))\n",
    "print(f\"파이의 값은 {math.pi}입니다.\")\n",
    "print(f\"파이의 값은 {math.pi:2.4f}입니다.\") # 2: 앞부분 두 자리, 뒷부분 네 자리\n",
    "\n",
    "\n",
    "print(\"===============================================\")\n",
    "from math import *\n",
    "print(\"파이의 값은\", pi,\"입니다.\") # math. 하지 않아도 됨\n",
    "print(\"파이의 값은 %s 입니다.\" %pi)\n",
    "print(\"파이의 값은 {:2.4f}입니다.\".format(pi))\n",
    "print(f\"파이의 값은 {pi}입니다.\")\n",
    "print(f\"파이의 값은 {pi:2.4f}입니다.\")"
   ]
  },
  {
   "cell_type": "markdown",
   "metadata": {},
   "source": [
    "#### [실습] mynumberlist=[1, 2, 3, 4, 5] 중에서 한 개의 값을 선택하는 pickone함수를 갖는 newmodule이라는 모듈을 만들고, 이를 호출하시오. \n"
   ]
  },
  {
   "cell_type": "code",
   "execution_count": 13,
   "metadata": {},
   "outputs": [
    {
     "name": "stdout",
     "output_type": "stream",
     "text": [
      "Writing newmodule.py\n"
     ]
    }
   ],
   "source": [
    "%%file newmodule.py\n",
    "\n",
    "mynumberlist = [1, 2, 3, 4, 5]\n",
    "def pickone():\n",
    "    import random\n",
    "    return random.choice(mynumberlist)"
   ]
  },
  {
   "cell_type": "code",
   "execution_count": 26,
   "metadata": {},
   "outputs": [
    {
     "name": "stdout",
     "output_type": "stream",
     "text": [
      "4\n"
     ]
    }
   ],
   "source": [
    "import newmodule\n",
    "newmodule.pickone()"
   ]
  },
  {
   "cell_type": "markdown",
   "metadata": {},
   "source": [
    "### 객체지향 프로그래밍"
   ]
  },
  {
   "cell_type": "markdown",
   "metadata": {},
   "source": [
    "- 클래스(Class) - 같은 종류(또는 문제 해결을 위한)의 집단(객체)의  속성(attribute)과 행위(action)를 정의한 설계도\n",
    "> 대표적인 클래스 : 자료형(int, float, str, list, tuple,…)\n",
    "- 메서드(Method) – 클래스내 객체의 행위를 정의한 부분,                                                                  \t               - 클래스내에 정의된 일종의 함수\n",
    "- 객체(Object) - 객체는 속성값을 가지며, 클래스에서 정의한 행위(action) 수행\n",
    "- 인스턴스(Instance)  - 객체의 실제 구현체\n"
   ]
  },
  {
   "cell_type": "code",
   "execution_count": 29,
   "metadata": {},
   "outputs": [
    {
     "name": "stdout",
     "output_type": "stream",
     "text": [
      "김도현\n",
      "80\n"
     ]
    }
   ],
   "source": [
    "class Human():\n",
    "    def __init__(self, name1, weight1):\n",
    "        self.name = name1\n",
    "        self.weight = weight1\n",
    "        \n",
    "kimdohyun = Human('김도현', 80)\n",
    "print(kimdohyun.name)\n",
    "print(kimdohyun.weight)"
   ]
  },
  {
   "cell_type": "code",
   "execution_count": 34,
   "metadata": {},
   "outputs": [
    {
     "name": "stdout",
     "output_type": "stream",
     "text": [
      "이름: 김다윗\n",
      "몸무게: 100\n",
      "키: 180\n"
     ]
    }
   ],
   "source": [
    "class David():\n",
    "    def __init__(self, name, weight, height):\n",
    "        self.name = name\n",
    "        self.weight = weight\n",
    "        self.height = height\n",
    "        \n",
    "david = David('김다윗', 100, 180)\n",
    "print('이름: %s' %david.name)\n",
    "print('몸무게: %s' %david.weight)\n",
    "print('키: %s' %david.height)"
   ]
  },
  {
   "cell_type": "code",
   "execution_count": 36,
   "metadata": {},
   "outputs": [
    {
     "name": "stdout",
     "output_type": "stream",
     "text": [
      "생성된 사람은  김도현이고, 몸무게는 80입니다.\n"
     ]
    }
   ],
   "source": [
    "class Human():\n",
    "    def __init__(self, name1, weight1): ## 인스턴스 생성 및 속성 정의\n",
    "        self.name = name1\n",
    "        self.weight = weight1\n",
    "\n",
    "    def __str__(self): ## 인스턴스 출력내용 결정\n",
    "        return(f\"생성된 사람은  {self.name}이고, 몸무게는 {self.weight}입니다.\")\n",
    "    \n",
    "kimdohyun=Human(\"김도현\", 80)\n",
    "print(kimdohyun)"
   ]
  },
  {
   "cell_type": "markdown",
   "metadata": {},
   "source": [
    "#### [실습] \n",
    "#### 1. 수업명과 강사이름을 받아서 인스턴스를 만들어내는 Lecture 클래스를 생성하는 코드를 작성하시오. \n",
    "#### 2. 인스턴스를 출력했을 때, “(수업명)과목의 강사는 (강사이름)입니다”가 출력되도록 메소드를 작성하시오.\n",
    "#### 3. 정보시스템 (infosystem)이라는 객체를 생성하시오. (단, infosystem의 수업명은 “정보시스템분석 및 설계”, 강사이름은 “김도현”)"
   ]
  },
  {
   "cell_type": "code",
   "execution_count": 42,
   "metadata": {},
   "outputs": [
    {
     "name": "stdout",
     "output_type": "stream",
     "text": [
      "정보시스템분석 및 설계과목의 강사는 김도현입니다.\n",
      "정보시스템분석 및 설계과목의 강사는 김도현입니다. 시간은 7시입니다.\n"
     ]
    }
   ],
   "source": [
    "class Lecture(): # 동일한 행위들을 하는 객체끼리 모아놓음\n",
    "    def __init__(self, classname, teacher): # 생성자\n",
    "        self.classname = classname\n",
    "        self.teacher = teacher\n",
    "    \n",
    "    def __str__(self):\n",
    "        return(f\"{self.classname}과목의 강사는 {self.teacher}입니다.\")\n",
    "    \n",
    "    def time(self, time):\n",
    "        return(f\"{self.classname}과목의 강사는 {self.teacher}입니다. 시간은 {time}입니다.\")\n",
    "    \n",
    "infosystem = Lecture('정보시스템분석 및 설계', '김도현')\n",
    "infosystem.time('7시')\n",
    "print(infosystem)\n",
    "print(infosystem.time('7시'))"
   ]
  },
  {
   "cell_type": "markdown",
   "metadata": {},
   "source": [
    "### 상속과 다형성"
   ]
  },
  {
   "cell_type": "markdown",
   "metadata": {},
   "source": [
    "상속\n",
    "> 상속이라는 것은 상위의 부모 클래스의 변수, 메소드를 모두 흡수해서 완전히 새로운 클래스를 만드는 것으로, 원래의 상위 클래스의 변경없이 확장된 클래스를 만들게 됨"
   ]
  },
  {
   "cell_type": "code",
   "execution_count": 44,
   "metadata": {},
   "outputs": [
    {
     "name": "stdout",
     "output_type": "stream",
     "text": [
      "걷는다.\n",
      "먹는다.\n",
      "걷는다.\n",
      "먹는다.\n"
     ]
    }
   ],
   "source": [
    "class Human( ):\n",
    "    def walk(self):\n",
    "        print(\"걷는다.\")\n",
    "    def eat(self):\n",
    "        print(\"먹는다.\")\n",
    "    def wave(self):\n",
    "        print(\"손을 흔든다\")\n",
    "        \n",
    "class Dog():\n",
    "    def walk(self):\n",
    "        print(\"걷는다.\")\n",
    "    def eat(self):\n",
    "        print(\"먹는다.\")\n",
    "    def wag(self):\n",
    "        print(\"꼬리를 흔든다.\")\n",
    "\n",
    "person=Human()\n",
    "dog=Dog()\n",
    "\n",
    "person.walk()\n",
    "person.eat()\n",
    "dog.walk()\n",
    "dog.eat()\n",
    "        "
   ]
  },
  {
   "cell_type": "code",
   "execution_count": 45,
   "metadata": {},
   "outputs": [
    {
     "name": "stdout",
     "output_type": "stream",
     "text": [
      "걷는다.\n"
     ]
    }
   ],
   "source": [
    "class Human( ):\n",
    "    def walk(self):\n",
    "        print(\"걷는다.\")\n",
    "    def eat(self):\n",
    "        print(\"먹는다.\")\n",
    "    def wave(self):\n",
    "        print(\"손을 흔든다\")\n",
    "        \n",
    "class Dog():\n",
    "    def walk(self):\n",
    "        print(\"걷는다.\")\n",
    "    def eat(self):\n",
    "        print(\"먹는다.\")\n",
    "    def wag(self):\n",
    "        print(\"꼬리를 흔든다.\")\n",
    "\n",
    "dog1=Dog()\n",
    "dog1.walk()        "
   ]
  },
  {
   "cell_type": "code",
   "execution_count": 49,
   "metadata": {},
   "outputs": [
    {
     "name": "stdout",
     "output_type": "stream",
     "text": [
      "꼬리를 흔든다.\n",
      "걷는다.\n"
     ]
    }
   ],
   "source": [
    "class Animal():\n",
    "    def walk(self):\n",
    "        print(\"걷는다.\")\n",
    "    def eat(self):\n",
    "        print(\"먹는다.\")\n",
    "        \n",
    "class Human(Animal):\n",
    "    def wave(self):\n",
    "        print(\"손을 흔든다\")\n",
    "        \n",
    "class Dog(Animal):\n",
    "    def wag(self):\n",
    "        print(\"꼬리를 흔든다.\")\n",
    "\n",
    "dog1=Dog()\n",
    "dog1.wag()\n",
    "dog1.walk()"
   ]
  },
  {
   "cell_type": "markdown",
   "metadata": {},
   "source": [
    "다형성\n",
    "> 부모 클래스가 메소드를 만들고 자식 클래스 계층에서 이를 오버라이드(재정의)하여 각각의 자식 클래스 별로 다른 기능을 수행하도록 하는 것\n",
    "부모 클래스와 자식 클래스의 메소드가 겹치는 경우, 자식 클래스의 메소드를 따름 "
   ]
  },
  {
   "cell_type": "code",
   "execution_count": 52,
   "metadata": {},
   "outputs": [
    {
     "name": "stdout",
     "output_type": "stream",
     "text": [
      "손을 흔든다\n",
      "꼬리를 흔든다\n",
      "인사한다\n"
     ]
    }
   ],
   "source": [
    "# 부모의 메서드는 무시하고 자식의 메서드로 재정의\n",
    "\n",
    "class Animal( ):\n",
    "    def greet( self ):\n",
    "        print( \"인사한다\" )\n",
    "\n",
    "class Human( Animal ):\n",
    "    def greet( self ):\n",
    "        print( \"손을 흔든다\" )\n",
    "\n",
    "class Dog( Animal ):\n",
    "    def greet( self ):\n",
    "        print( \"꼬리를 흔든다\" )\n",
    "        \n",
    "person=Human()\n",
    "dog=Dog()\n",
    "\n",
    "person.greet()\n",
    "dog.greet ()\n",
    "        \n",
    "Animal().greet()"
   ]
  },
  {
   "cell_type": "markdown",
   "metadata": {},
   "source": [
    "#### super() : 자식클래스에서 부모클래스의 메소드를 사용하고 싶은 경우에 사용"
   ]
  },
  {
   "cell_type": "code",
   "execution_count": 53,
   "metadata": {},
   "outputs": [
    {
     "name": "stdout",
     "output_type": "stream",
     "text": [
      "인사하며\n",
      "손을 흔든다\n",
      "인사하며\n",
      "꼬리를 흔든다\n"
     ]
    }
   ],
   "source": [
    "class Animal( ):\n",
    "    def greet( self ):\n",
    "        print( \"인사하며\" )\n",
    "\n",
    "class Human( Animal ):\n",
    "    def greet( self ):\n",
    "        super().greet() # 부모 클래스의 greet를 실행\n",
    "        print( \"손을 흔든다\" )\n",
    "\n",
    "class Dog( Animal ):\n",
    "    def greet( self ):\n",
    "        super().greet()\n",
    "        print( \"꼬리를 흔든다\" )\n",
    "\n",
    "person=Human()\n",
    "person.greet()\n",
    "\n",
    "dog=Dog()\n",
    "dog.greet()"
   ]
  },
  {
   "cell_type": "markdown",
   "metadata": {},
   "source": [
    "#### [실습] 아래의 코드를 실행하였을 때, 트럭이 달립니다.”가 출력되도록 다음의 코드를 수정하시오.\n",
    "> truck = Truck()\n",
    "\n",
    "> truck.run()"
   ]
  },
  {
   "cell_type": "code",
   "execution_count": 57,
   "metadata": {},
   "outputs": [
    {
     "name": "stdout",
     "output_type": "stream",
     "text": [
      "트럭이 달립니다.\n"
     ]
    },
    {
     "ename": "AttributeError",
     "evalue": "'Car' object has no attribute 'load'",
     "output_type": "error",
     "traceback": [
      "\u001b[1;31m---------------------------------------------------------------------------\u001b[0m",
      "\u001b[1;31mAttributeError\u001b[0m                            Traceback (most recent call last)",
      "\u001b[1;32m<ipython-input-57-bb9288f9b7d4>\u001b[0m in \u001b[0;36m<module>\u001b[1;34m\u001b[0m\n\u001b[0;32m     14\u001b[0m \u001b[1;33m\u001b[0m\u001b[0m\n\u001b[0;32m     15\u001b[0m \u001b[0mcar\u001b[0m \u001b[1;33m=\u001b[0m \u001b[0mCar\u001b[0m\u001b[1;33m(\u001b[0m\u001b[1;33m)\u001b[0m\u001b[1;33m\u001b[0m\u001b[1;33m\u001b[0m\u001b[0m\n\u001b[1;32m---> 16\u001b[1;33m \u001b[0mcar\u001b[0m\u001b[1;33m.\u001b[0m\u001b[0mload\u001b[0m\u001b[1;33m(\u001b[0m\u001b[1;33m)\u001b[0m \u001b[1;31m# 부모 클래스는 자식클래스의 것을 가져올 수 없다.\u001b[0m\u001b[1;33m\u001b[0m\u001b[1;33m\u001b[0m\u001b[0m\n\u001b[0m",
      "\u001b[1;31mAttributeError\u001b[0m: 'Car' object has no attribute 'load'"
     ]
    }
   ],
   "source": [
    "class Car():\n",
    "    def run(self):\n",
    "        print('차가 달립니다.')\n",
    "    \n",
    "class Truck(Car):\n",
    "    def load(self):\n",
    "        print('짐을 실었습니다.')\n",
    "        \n",
    "    def run(self): # 다형성 적용\n",
    "        print('트럭이 달립니다.')\n",
    "        \n",
    "truck = Truck()\n",
    "truck.run()\n",
    "\n",
    "car = Car()\n",
    "car.load() # 부모 클래스는 자식클래스의 것을 가져올 수 없다."
   ]
  },
  {
   "cell_type": "code",
   "execution_count": null,
   "metadata": {},
   "outputs": [],
   "source": []
  },
  {
   "cell_type": "code",
   "execution_count": null,
   "metadata": {},
   "outputs": [],
   "source": []
  },
  {
   "cell_type": "code",
   "execution_count": null,
   "metadata": {},
   "outputs": [],
   "source": []
  },
  {
   "cell_type": "code",
   "execution_count": null,
   "metadata": {},
   "outputs": [],
   "source": []
  },
  {
   "cell_type": "code",
   "execution_count": null,
   "metadata": {},
   "outputs": [],
   "source": []
  },
  {
   "cell_type": "code",
   "execution_count": null,
   "metadata": {},
   "outputs": [],
   "source": []
  },
  {
   "cell_type": "code",
   "execution_count": null,
   "metadata": {},
   "outputs": [],
   "source": []
  },
  {
   "cell_type": "code",
   "execution_count": null,
   "metadata": {},
   "outputs": [],
   "source": []
  },
  {
   "cell_type": "code",
   "execution_count": null,
   "metadata": {},
   "outputs": [],
   "source": []
  },
  {
   "cell_type": "code",
   "execution_count": null,
   "metadata": {},
   "outputs": [],
   "source": []
  },
  {
   "cell_type": "code",
   "execution_count": null,
   "metadata": {},
   "outputs": [],
   "source": []
  },
  {
   "cell_type": "code",
   "execution_count": null,
   "metadata": {},
   "outputs": [],
   "source": []
  },
  {
   "cell_type": "code",
   "execution_count": null,
   "metadata": {},
   "outputs": [],
   "source": []
  },
  {
   "cell_type": "code",
   "execution_count": null,
   "metadata": {},
   "outputs": [],
   "source": []
  },
  {
   "cell_type": "code",
   "execution_count": null,
   "metadata": {},
   "outputs": [],
   "source": []
  },
  {
   "cell_type": "code",
   "execution_count": null,
   "metadata": {},
   "outputs": [],
   "source": []
  },
  {
   "cell_type": "code",
   "execution_count": null,
   "metadata": {},
   "outputs": [],
   "source": []
  },
  {
   "cell_type": "code",
   "execution_count": null,
   "metadata": {},
   "outputs": [],
   "source": []
  }
 ],
 "metadata": {
  "kernelspec": {
   "display_name": "Python 3",
   "language": "python",
   "name": "python3"
  },
  "language_info": {
   "codemirror_mode": {
    "name": "ipython",
    "version": 3
   },
   "file_extension": ".py",
   "mimetype": "text/x-python",
   "name": "python",
   "nbconvert_exporter": "python",
   "pygments_lexer": "ipython3",
   "version": "3.7.6"
  }
 },
 "nbformat": 4,
 "nbformat_minor": 4
}
