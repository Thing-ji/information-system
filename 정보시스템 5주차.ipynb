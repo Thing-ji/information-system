{
 "cells": [
  {
   "cell_type": "markdown",
   "metadata": {},
   "source": [
    "### Part 2. 본격 파이썬 입문, 1장. 자료형(계속)"
   ]
  },
  {
   "cell_type": "code",
   "execution_count": 3,
   "metadata": {},
   "outputs": [
    {
     "name": "stdout",
     "output_type": "stream",
     "text": [
      "{0, 1, 2, 3, 4, 5, 8}\n",
      "{0, 1, 2, 3, 4, 5, 6, 7, 8, 9}\n"
     ]
    }
   ],
   "source": [
    "my_list1=[0, 1, 2, 2, 3, 4, 4, 4, 5, 8, 8]\n",
    "my_list2=[3, 3, 3, 4, 4, 5, 6, 6, 7, 8, 9]\n",
    "\n",
    "my_set1 = set(my_list1) # set(집합) 으로 형변환\n",
    "my_set2 = set(my_list2)\n",
    "\n",
    "set_intersection = my_set1 & my_set2 # 교집합\n",
    "set_union = my_set1 | my_set2 # 합집합\n",
    "set_diff = my_set1 - my_set2 # 차집합\n",
    "\n",
    "print(my_set1)\n",
    "print(set_union)"
   ]
  },
  {
   "cell_type": "code",
   "execution_count": 12,
   "metadata": {},
   "outputs": [
    {
     "name": "stdout",
     "output_type": "stream",
     "text": [
      "{' ', 'o', 'g', 'h', 'n', 'm', 'y', 'r', 'p', 'i', 'a', 't'}\n",
      "{' ', 'o', 'g', 'h', 'n', 'y', 'r', 'p', 'i', 'a', 'q', 't'}\n"
     ]
    }
   ],
   "source": [
    "my_str=\"python programming\" \n",
    "my_str_set = set(my_str) # set은 순서가 없음\n",
    "print(my_str_set)\n",
    "\n",
    "my_str_set.add('q') # set에 q 추가\n",
    "my_str_set.remove('m') # set에 m 제거\n",
    "print(my_str_set)"
   ]
  },
  {
   "cell_type": "code",
   "execution_count": 13,
   "metadata": {},
   "outputs": [
    {
     "name": "stdout",
     "output_type": "stream",
     "text": [
      "4\n",
      "[2]\n",
      "[2, 3, 4, 5, 6, 7, 8, 9, 10]\n",
      "[1, 2, 3]\n",
      "[1, 2, 3, 4, 5, 6, 7, 8, 9, 10]\n",
      "[1, 3, 5, 7, 9]\n",
      "[10, 9, 8, 7, 6, 5, 4, 3, 2]\n",
      "0\n",
      "=============================\n",
      "h\n",
      "y\n",
      "ython programming\n",
      "pyt\n",
      "python programming\n",
      "[1, 3, 5, 7, 9]\n",
      "gr ot\n",
      "10\n"
     ]
    }
   ],
   "source": [
    "# list\n",
    "my_list=[1, 2, 3, 4, 5, 6, 7, 8, 9, 10]\n",
    "print(my_list[3]) # 4\n",
    "print(my_list[1:2]) # 2\n",
    "print(my_list[1:]) # 2, 3, 4 ~~\n",
    "print(my_list[:3]) # 1, 2, 3\n",
    "print(my_list[:])\n",
    "print(my_list[0:10:2])\n",
    "print(my_list[10:0:-1])\n",
    "print(my_list.index(1))\n",
    "\n",
    "print('=============================')\n",
    "#str\n",
    "my_str=\"python programming\"\n",
    "print(my_str[3]) # h\n",
    "print(my_str[1:2]) # y\n",
    "print(my_str[1:]) # ython ~\n",
    "print(my_str[:3]) \n",
    "print(my_str[:])\n",
    "print(my_list[0:10:2])\n",
    "print(my_str[10:0: -2])\n",
    "print(my_str.index(\"g\"))\n"
   ]
  },
  {
   "cell_type": "code",
   "execution_count": 16,
   "metadata": {},
   "outputs": [
    {
     "name": "stdout",
     "output_type": "stream",
     "text": [
      "['0', '3', '/', '2', '8', '/', '2', '0', '1', '6']\n",
      "['a', 'b', 'c', 'd', 'e', 'f', 'g', 'h', 'i']\n",
      "['python', 'is', 'the', 'best', 'computer', 'language']\n",
      "['03', '28', '2016']\n",
      "abcdefghi\n",
      "python is the best computer language\n",
      "03:28:2016\n"
     ]
    }
   ],
   "source": [
    "# str -> list\n",
    "mylist1=list(\"abcdefghi\")\n",
    "mylist2=\"python is the best computer language\".split() # 공백을 기준으로 쪼개짐\n",
    "mylist3=\"03/28/2016\".split(\"/\") # / 을 기준으로 쪼개짐\n",
    "\n",
    "print(list('03/28/2016'))\n",
    "print(mylist1)\n",
    "print(mylist2)\n",
    "print(mylist3)\n",
    "\n",
    "# list -> str\n",
    "mystr1=\"\".join(mylist1) # 리스트 내용을 합칠 때 \"\"에 내용이 없으면 그냥 붙임\n",
    "mystr2=\" \".join(mylist2) # \" \" 은 공백과 함께 붙임\n",
    "mystr3=\":\".join(mylist3) # : 과 함께 붙임\n",
    "\n",
    "print(mystr1)\n",
    "print(mystr2)\n",
    "print(mystr3)\n"
   ]
  },
  {
   "cell_type": "markdown",
   "metadata": {},
   "source": [
    "#### [실습] 1. 리스트 rainbow에 무지개 색을 입력한 후, 무지개 색을 거꾸로 출력하시오.\n",
    "\n"
   ]
  },
  {
   "cell_type": "code",
   "execution_count": 20,
   "metadata": {},
   "outputs": [
    {
     "data": {
      "text/plain": [
       "['보라', '남색', '파랑', '초록', '노랑', '주황', '빨강']"
      ]
     },
     "execution_count": 20,
     "metadata": {},
     "output_type": "execute_result"
    }
   ],
   "source": [
    "rainbow = [\"빨강\", \"주황\", \"노랑\", \"초록\", \"파랑\", \"남색\", \"보라\"]\n",
    "rainbow[::-1] # 리스트에서 거꾸로 출력\n",
    "rainbow[6:0:-1] # 뒤 기준 인덱스자리 6 ~ 0으로 거꾸로 출력(-1)\n",
    "rainbow[6::-1]"
   ]
  },
  {
   "cell_type": "markdown",
   "metadata": {},
   "source": [
    "#### [실습] 2. 무지개색을 빨강부터 하나건너 하나씩 출력하시오"
   ]
  },
  {
   "cell_type": "code",
   "execution_count": 24,
   "metadata": {},
   "outputs": [
    {
     "name": "stdout",
     "output_type": "stream",
     "text": [
      "['빨강', '노랑', '파랑', '보라']\n",
      "['빨강', '노랑', '파랑', '보라']\n"
     ]
    }
   ],
   "source": [
    "print(rainbow[0::2]) # 가운데 자리를 비워두면 끝가지 간다고 생각하면됨, 두칸씩 띄어서\n",
    "print(rainbow[0:7:2]) # 0부터 7까지 두칸씩 띄어서"
   ]
  },
  {
   "cell_type": "markdown",
   "metadata": {},
   "source": [
    "#### [실습] 무지개색을 “빨강/주황/…/보라”로 형태로 출력하시오. "
   ]
  },
  {
   "cell_type": "code",
   "execution_count": 25,
   "metadata": {},
   "outputs": [
    {
     "name": "stdout",
     "output_type": "stream",
     "text": [
      "빨강/주황/노랑/초록/파랑/남색/보라\n"
     ]
    }
   ],
   "source": [
    "print(\"/\".join(rainbow))"
   ]
  },
  {
   "cell_type": "markdown",
   "metadata": {},
   "source": [
    "#### list comprehension"
   ]
  },
  {
   "cell_type": "code",
   "execution_count": 27,
   "metadata": {},
   "outputs": [
    {
     "name": "stdout",
     "output_type": "stream",
     "text": [
      "[1, 4, 9, 16, 25, 36, 49, 64, 81]\n",
      "[1, 4, 9, 16, 25, 36, 49, 64, 81]\n"
     ]
    }
   ],
   "source": [
    "#for 문을 활용해서 1부터 10미만값의 제곱값을 출력하는 프로그램을 작성해 보세요\n",
    "squares=[]\n",
    "for i in range(1, 10):\n",
    "    squares=squares + [i*i] # list + list = list\n",
    "print(squares)\n",
    "\n",
    "squares2=[]\n",
    "squares2 = [i*i for i  in range(1, 10)]\n",
    "print(squares2)"
   ]
  },
  {
   "cell_type": "code",
   "execution_count": 30,
   "metadata": {
    "scrolled": true
   },
   "outputs": [
    {
     "data": {
      "text/plain": [
       "[5, 10, 15, 20, 25, 30, 35, 40, 45, 50]"
      ]
     },
     "execution_count": 30,
     "metadata": {},
     "output_type": "execute_result"
    }
   ],
   "source": [
    "# 5부터 5의 배수를 50까지 출력하는 프로그램을 작성해주세요\n",
    "five = []\n",
    "five2 = [5*i for i in range(1, 11)]\n",
    "five2"
   ]
  },
  {
   "cell_type": "code",
   "execution_count": 31,
   "metadata": {},
   "outputs": [
    {
     "name": "stdout",
     "output_type": "stream",
     "text": [
      "[4, 16, 36, 64]\n",
      "[4, 16, 36, 64]\n"
     ]
    }
   ],
   "source": [
    "# for 문을 활용해서 1부터 10사이의 짝수의 제곱값을 출력하는 프로그램을 작성해 보세요\n",
    "squares=[]\n",
    "for i in range(1, 10):\n",
    "    if i%2==0: # 나머지가 0이면\n",
    "        squares=squares + [i*i]\n",
    "print(squares)\n",
    "\n",
    "squares2=[]\n",
    "squares2 = [i*i for i  in range(1, 10) if i%2==0]\n",
    "print(squares2)"
   ]
  },
  {
   "cell_type": "code",
   "execution_count": 34,
   "metadata": {},
   "outputs": [
    {
     "name": "stdout",
     "output_type": "stream",
     "text": [
      "[(1, 1), (1, 2), (1, 3), (1, 4), (1, 5), (1, 6), (1, 7), (1, 8), (1, 9), (1, 10), (2, 1), (2, 2), (2, 3), (2, 4), (2, 5), (2, 6), (2, 7), (2, 8), (2, 9), (2, 10), (3, 1), (3, 2), (3, 3), (3, 4), (3, 5), (3, 6), (3, 7), (3, 8), (3, 9), (3, 10), (4, 1), (4, 2), (4, 3), (4, 4), (4, 5), (4, 6), (4, 7), (4, 8), (4, 9), (4, 10), (5, 1), (5, 2), (5, 3), (5, 4), (5, 5), (5, 6), (5, 7), (5, 8), (5, 9), (5, 10), (6, 1), (6, 2), (6, 3), (6, 4), (6, 5), (6, 6), (6, 7), (6, 8), (6, 9), (6, 10), (7, 1), (7, 2), (7, 3), (7, 4), (7, 5), (7, 6), (7, 7), (7, 8), (7, 9), (7, 10), (8, 1), (8, 2), (8, 3), (8, 4), (8, 5), (8, 6), (8, 7), (8, 8), (8, 9), (8, 10), (9, 1), (9, 2), (9, 3), (9, 4), (9, 5), (9, 6), (9, 7), (9, 8), (9, 9), (9, 10), (10, 1), (10, 2), (10, 3), (10, 4), (10, 5), (10, 6), (10, 7), (10, 8), (10, 9), (10, 10)]\n"
     ]
    }
   ],
   "source": [
    "# x축이 1부터 10까지의 정수값을 갖고, y축이 1부터 10까지의 정수값을 갖는 (x, y)의 좌표값을 출력하는 프로그램을 작성해 보세요\n",
    "\n",
    "squares3=[]\n",
    "squares3 = [(x, y) for x in range(1, 11) for y in range(1, 11)] # x가 바깥거, y가 안에꺼\n",
    "print(squares3)"
   ]
  },
  {
   "cell_type": "code",
   "execution_count": 39,
   "metadata": {},
   "outputs": [
    {
     "name": "stdout",
     "output_type": "stream",
     "text": [
      "[(2, 2), (2, 4), (2, 6), (2, 8), (2, 10), (4, 2), (4, 4), (4, 6), (4, 8), (4, 10), (6, 2), (6, 4), (6, 6), (6, 8), (6, 10), (8, 2), (8, 4), (8, 6), (8, 8), (8, 10), (10, 2), (10, 4), (10, 6), (10, 8), (10, 10)]\n"
     ]
    }
   ],
   "source": [
    "# x축 좌표값 짝수, y축 좌표값 짝수\n",
    "\n",
    "suqares4 = []\n",
    "suqares4 = [(x, y) for x in range(1, 11) for y in range(1, 11) if x%2==0 if y%2==0]\n",
    "print(suqares4)"
   ]
  },
  {
   "cell_type": "code",
   "execution_count": 41,
   "metadata": {},
   "outputs": [
    {
     "name": "stdout",
     "output_type": "stream",
     "text": [
      "[(1, 1), (1, 3), (1, 5), (1, 7), (1, 9), (3, 1), (3, 3), (3, 5), (3, 7), (3, 9), (5, 1), (5, 3), (5, 5), (5, 7), (5, 9), (7, 1), (7, 3), (7, 5), (7, 7), (7, 9), (9, 1), (9, 3), (9, 5), (9, 7), (9, 9)]\n"
     ]
    }
   ],
   "source": [
    "# x축 좌표값 홀수, y축 좌표값 홀수\n",
    "\n",
    "suqares4 = []\n",
    "suqares4 = [(x, y) for x in range(1, 11) for y in range(1, 11) if x%2!=0 if y%2!=0]\n",
    "print(suqares4)"
   ]
  },
  {
   "cell_type": "markdown",
   "metadata": {},
   "source": [
    "### Dictionary comprehension"
   ]
  },
  {
   "cell_type": "code",
   "execution_count": 43,
   "metadata": {},
   "outputs": [
    {
     "name": "stdout",
     "output_type": "stream",
     "text": [
      "[(1, 4), (2, 5), (3, 6)]\n",
      "[('a', 'd'), ('b', 'e'), ('c', 'f')]\n",
      "0 body\n",
      "1 foo\n",
      "2 bar\n"
     ]
    }
   ],
   "source": [
    "#zip : 동일한 개수로 이루어진 자료형을 묶어주는 함수\n",
    "print(list(zip([1, 2, 3], [4, 5, 6])))\n",
    "\n",
    "print(list(zip(\"abc\", \"def\")))\n",
    "\n",
    "\n",
    "#enumerate : 자료형(리스트, 튜플, 문자열)을 입력으로 받아 인덱스 값을 포함하는 값으로 리턴하는 함수\n",
    "for i, name in enumerate(['body', 'foo', 'bar']):\n",
    "    print(i, name)"
   ]
  },
  {
   "cell_type": "code",
   "execution_count": 48,
   "metadata": {},
   "outputs": [
    {
     "name": "stdout",
     "output_type": "stream",
     "text": [
      "{0: 'body'}\n",
      "{1: 'foo'}\n",
      "{2: 'bar'}\n"
     ]
    }
   ],
   "source": [
    "#순서를 key, 문자열을 value로 갖는 dictionary 생성방법\n",
    "\n",
    "for index, string in enumerate(['body', 'foo', 'bar']):\n",
    "    table={index:string} # index: key역할, string: value역할\n",
    "    print(table)"
   ]
  },
  {
   "cell_type": "code",
   "execution_count": 47,
   "metadata": {},
   "outputs": [
    {
     "name": "stdout",
     "output_type": "stream",
     "text": [
      "{'송혜교': 98}\n",
      "{'송중기': 94}\n",
      "{'김지원': 96}\n",
      "{'진구': 97}\n"
     ]
    }
   ],
   "source": [
    "# students=[“송혜교”, “송중기”, “김지원”, “진구”], scores=[98, 94, 96, 97]일 때, 학생이름을 key, 점수를 value로 갖는 dictionary 생성방법\n",
    "students=[\"송혜교\", \"송중기\", \"김지원\", \"진구\"]\n",
    "scores=[98, 94, 96, 97]\n",
    "for name, score in zip(students, scores):\n",
    "    table={name:score}\n",
    "    print(table)"
   ]
  },
  {
   "cell_type": "code",
   "execution_count": 49,
   "metadata": {},
   "outputs": [
    {
     "name": "stdout",
     "output_type": "stream",
     "text": [
      "{'송혜교': 98}\n",
      "{'송중기': 94}\n",
      "{'김지원': 96}\n",
      "{'진구': 97}\n",
      "{'송혜교': 98, '송중기': 94, '김지원': 96, '진구': 97}\n"
     ]
    }
   ],
   "source": [
    "#학생이름을 key, 점수를 value로 갖는 dictionary을 Dictionary Comprehension를 활용하여 생성하는 방법\n",
    "for name, score in zip(students, scores):\n",
    "    table={name:score}\n",
    "    print(table)\n",
    "\n",
    "score_table = {name : score for name, score in zip(students, scores)}\n",
    "print(score_table)\n",
    "\n",
    "### 위와 동일하게 출력할 수 있는 방법은??\n"
   ]
  },
  {
   "cell_type": "code",
   "execution_count": 59,
   "metadata": {},
   "outputs": [
    {
     "name": "stdout",
     "output_type": "stream",
     "text": [
      "{'송혜교': 98}\n",
      "{'송중기': 94}\n",
      "{'김지원': 96}\n",
      "{'진구': 97}\n",
      "{'송혜교': 98, '송중기': 94, '김지원': 96, '진구': 97}\n",
      "{'송혜교': 98}\n",
      "{'송중기': 94}\n",
      "{'김지원': 96}\n",
      "{'진구': 97}\n"
     ]
    }
   ],
   "source": [
    "#학생이름을 key, 점수를 value로 갖는 dictionary을 Dictionary Comprehension를 활용하여 생성하는 방법\n",
    "for name, score in zip(students, scores):\n",
    "    table={name:score}\n",
    "    print(table)\n",
    "\n",
    "score_table = {name : score for name, score in zip(students, scores)}\n",
    "print(score_table)\n",
    "\n",
    "### 위와 동일하게 출력할 수 있는 방법은??\n",
    "score_table = {print({name : score}) for name, score in zip(students, scores)}"
   ]
  },
  {
   "cell_type": "markdown",
   "metadata": {},
   "source": [
    "#### [실습] items=[“컴퓨터”, “마우스”, “키보드”], prices=[10000, 500, 200], Dictionary comprehension을 활용하여 item별 가격을 가지는 dictionary를 생성하시오\n"
   ]
  },
  {
   "cell_type": "code",
   "execution_count": 67,
   "metadata": {},
   "outputs": [
    {
     "name": "stdout",
     "output_type": "stream",
     "text": [
      "{'컴퓨터': 10000, '마우스': 500, '키보드': 200}\n",
      "{10000: '컴퓨터', 500: '마우스', 200: '키보드'}\n"
     ]
    }
   ],
   "source": [
    "items=['컴퓨터', '마우스', '키보드']\n",
    "prices=[10000, 500, 200]\n",
    "\n",
    "table = {item:prices for item, prices in zip(items, prices)}\n",
    "print(table)\n",
    "\n",
    "table = {prices:item for item, prices in zip(items, prices)}\n",
    "print(table)"
   ]
  },
  {
   "cell_type": "markdown",
   "metadata": {},
   "source": [
    "#### [실습] students=[“송혜교”, “송중기”, “김지원”, “진구”]에 100번부터 103번까지의 key를 부여하는 dictionary를 구성하고, 101번을 출력하시오\n"
   ]
  },
  {
   "cell_type": "code",
   "execution_count": 65,
   "metadata": {},
   "outputs": [
    {
     "name": "stdout",
     "output_type": "stream",
     "text": [
      "{100: '송혜교', 101: '송중기', 102: '김지원', 103: '진구'}\n"
     ]
    }
   ],
   "source": [
    "students=['송혜교', '송중기', '김지원', '진구']\n",
    "\n",
    "table = {keys:name for keys, name in zip(range(100, 104), students)}\n",
    "print(table)"
   ]
  },
  {
   "cell_type": "markdown",
   "metadata": {},
   "source": [
    "####  break vs. continue"
   ]
  },
  {
   "cell_type": "code",
   "execution_count": 68,
   "metadata": {},
   "outputs": [
    {
     "name": "stdout",
     "output_type": "stream",
     "text": [
      "3\n",
      "6\n",
      "9\n",
      "========================\n",
      "3\n"
     ]
    }
   ],
   "source": [
    "# break : 강제적으로 반복문 중단\n",
    "# 예제: 첫번째 3의 배수를 출력하는 방법\n",
    "list=[1,2,3,4,5,6,7,8,9]\n",
    "for i in list:\n",
    "    if i%3==0:\n",
    "        print(i)\n",
    "\n",
    "print(\"========================\")        \n",
    "list=[1,2,3,4,5,6,7,8,9] # 첫번째 3의 배수를 만나면 break\n",
    "for i in list:\n",
    "    if i%3==0:\n",
    "        print(i)\n",
    "        break"
   ]
  },
  {
   "cell_type": "code",
   "execution_count": 69,
   "metadata": {},
   "outputs": [
    {
     "name": "stdout",
     "output_type": "stream",
     "text": [
      "1\n",
      "3\n",
      "5\n",
      "7\n",
      "9\n",
      "========================\n",
      "1\n",
      "3\n",
      "5\n",
      "7\n",
      "9\n"
     ]
    }
   ],
   "source": [
    "# continue : 반복문의 나머지 부분을 보지 않고, 반복문의 처음으로 돌아가는 기능 (SKIP)\n",
    "# 예제: 홀수만 출력하는 방법\n",
    "list=[1,2,3,4,5,6,7,8,9]\n",
    "for i in list:\n",
    "    if i%2!=0:\n",
    "        print(i)\n",
    "print(\"========================\")\n",
    "list=[1,2,3,4,5,6,7,8,9]\n",
    "for i in list:\n",
    "    if i%2==0: # 짝수인 경우 뛰어넘기\n",
    "        continue \n",
    "    print(i)\n"
   ]
  },
  {
   "cell_type": "markdown",
   "metadata": {},
   "source": [
    "#### [실습] 20부터 100까지 첫번째 8의 배수만 출력하시오. "
   ]
  },
  {
   "cell_type": "code",
   "execution_count": 70,
   "metadata": {},
   "outputs": [
    {
     "name": "stdout",
     "output_type": "stream",
     "text": [
      "24\n"
     ]
    }
   ],
   "source": [
    "for value in range(20, 100):\n",
    "    if value%8==0:\n",
    "        print(value)\n",
    "        break"
   ]
  },
  {
   "cell_type": "markdown",
   "metadata": {},
   "source": [
    "#### [실습] continue문을 이용하여 20부터 100까지 숫자중에서 6의 배수를 출력하시오\n"
   ]
  },
  {
   "cell_type": "code",
   "execution_count": 72,
   "metadata": {},
   "outputs": [
    {
     "name": "stdout",
     "output_type": "stream",
     "text": [
      "24\n",
      "30\n",
      "36\n",
      "42\n",
      "48\n",
      "54\n",
      "60\n",
      "66\n",
      "72\n",
      "78\n",
      "84\n",
      "90\n",
      "96\n"
     ]
    }
   ],
   "source": [
    "for value in range(20, 100):\n",
    "    if value%6 ==0:\n",
    "        print(value)"
   ]
  },
  {
   "cell_type": "code",
   "execution_count": 71,
   "metadata": {},
   "outputs": [
    {
     "name": "stdout",
     "output_type": "stream",
     "text": [
      "24\n",
      "30\n",
      "36\n",
      "42\n",
      "48\n",
      "54\n",
      "60\n",
      "66\n",
      "72\n",
      "78\n",
      "84\n",
      "90\n",
      "96\n"
     ]
    }
   ],
   "source": [
    "for value in range(20, 100):\n",
    "    if value%6!=0:\n",
    "        continue\n",
    "    print(value)"
   ]
  },
  {
   "cell_type": "markdown",
   "metadata": {},
   "source": [
    "### 예외처리 (try ~ except 구문)"
   ]
  },
  {
   "cell_type": "code",
   "execution_count": 73,
   "metadata": {},
   "outputs": [
    {
     "name": "stdout",
     "output_type": "stream",
     "text": [
      "100%는 숫자가 아니네요.\n"
     ]
    }
   ],
   "source": [
    "text='100%'\n",
    "try:\n",
    "    number=int(text)\n",
    "except ValueError:\n",
    "    print('{}는 숫자가 아니네요.'.format(text))"
   ]
  },
  {
   "cell_type": "code",
   "execution_count": 74,
   "metadata": {
    "scrolled": true
   },
   "outputs": [
    {
     "ename": "ValueError",
     "evalue": "invalid literal for int() with base 10: '100%'",
     "output_type": "error",
     "traceback": [
      "\u001b[1;31m---------------------------------------------------------------------------\u001b[0m",
      "\u001b[1;31mValueError\u001b[0m                                Traceback (most recent call last)",
      "\u001b[1;32m<ipython-input-74-b96c138b418a>\u001b[0m in \u001b[0;36m<module>\u001b[1;34m\u001b[0m\n\u001b[0;32m      1\u001b[0m \u001b[0mtext\u001b[0m\u001b[1;33m=\u001b[0m\u001b[1;34m'100%'\u001b[0m\u001b[1;33m\u001b[0m\u001b[1;33m\u001b[0m\u001b[0m\n\u001b[1;32m----> 2\u001b[1;33m \u001b[0mnumber\u001b[0m\u001b[1;33m=\u001b[0m\u001b[0mint\u001b[0m\u001b[1;33m(\u001b[0m\u001b[0mtext\u001b[0m\u001b[1;33m)\u001b[0m\u001b[1;33m\u001b[0m\u001b[1;33m\u001b[0m\u001b[0m\n\u001b[0m",
      "\u001b[1;31mValueError\u001b[0m: invalid literal for int() with base 10: '100%'"
     ]
    }
   ],
   "source": [
    "text='100%'\n",
    "number=int(text)"
   ]
  },
  {
   "cell_type": "code",
   "execution_count": 76,
   "metadata": {},
   "outputs": [
    {
     "name": "stdout",
     "output_type": "stream",
     "text": [
      "3.141592 는 무리수예요\n",
      "3.141592는 무리수예요\n",
      "3.14는 무리수예요\n",
      "3.14는 무리수예요\n",
      "3.14는 무리수예요\n"
     ]
    }
   ],
   "source": [
    "### 형식을 포함한 프린트\n",
    "\n",
    "pi = 3.141592 # 원하는 출력값 \"3.14는 무리수예요\"\n",
    "print(pi,'는 무리수예요')\n",
    "print('%s는 무리수예요'%pi)\n",
    "print('%1.2f는 무리수예요'%pi)\n",
    "print('{:1.2f}는 무리수예요'.format(pi))\n",
    "print(f'{pi :1.2f}는 무리수예요') # format 대신"
   ]
  },
  {
   "cell_type": "code",
   "execution_count": 79,
   "metadata": {},
   "outputs": [
    {
     "name": "stdout",
     "output_type": "stream",
     "text": [
      "3.14는 무리수예요. 12.33 이것두요.\n"
     ]
    }
   ],
   "source": [
    "si = 12.33\n",
    "print(f'{pi :1.2f}는 무리수예요. {si:1.2f} 이것두요.') # format 대신"
   ]
  },
  {
   "cell_type": "code",
   "execution_count": null,
   "metadata": {},
   "outputs": [],
   "source": []
  },
  {
   "cell_type": "code",
   "execution_count": null,
   "metadata": {},
   "outputs": [],
   "source": []
  },
  {
   "cell_type": "code",
   "execution_count": null,
   "metadata": {},
   "outputs": [],
   "source": []
  },
  {
   "cell_type": "code",
   "execution_count": null,
   "metadata": {},
   "outputs": [],
   "source": []
  },
  {
   "cell_type": "code",
   "execution_count": null,
   "metadata": {},
   "outputs": [],
   "source": []
  },
  {
   "cell_type": "code",
   "execution_count": null,
   "metadata": {},
   "outputs": [],
   "source": []
  },
  {
   "cell_type": "code",
   "execution_count": null,
   "metadata": {},
   "outputs": [],
   "source": []
  },
  {
   "cell_type": "code",
   "execution_count": null,
   "metadata": {},
   "outputs": [],
   "source": []
  },
  {
   "cell_type": "code",
   "execution_count": null,
   "metadata": {},
   "outputs": [],
   "source": []
  }
 ],
 "metadata": {
  "kernelspec": {
   "display_name": "Python 3",
   "language": "python",
   "name": "python3"
  },
  "language_info": {
   "codemirror_mode": {
    "name": "ipython",
    "version": 3
   },
   "file_extension": ".py",
   "mimetype": "text/x-python",
   "name": "python",
   "nbconvert_exporter": "python",
   "pygments_lexer": "ipython3",
   "version": "3.7.6"
  }
 },
 "nbformat": 4,
 "nbformat_minor": 4
}
