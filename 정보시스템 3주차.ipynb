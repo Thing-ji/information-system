{
 "cells": [
  {
   "cell_type": "markdown",
   "metadata": {},
   "source": [
    "### 4장 함수"
   ]
  },
  {
   "cell_type": "code",
   "execution_count": 1,
   "metadata": {},
   "outputs": [
    {
     "data": {
      "text/plain": [
       "151"
      ]
     },
     "execution_count": 1,
     "metadata": {},
     "output_type": "execute_result"
    }
   ],
   "source": [
    "def f(x):\n",
    "    return (2 * x + 7)\n",
    "\n",
    "def g(x):\n",
    "    return (x ** 2)\n",
    "\n",
    "f(2) + g(2) + f(g(2)) + g(f(2))"
   ]
  },
  {
   "cell_type": "markdown",
   "metadata": {},
   "source": [
    "어떤 출력값을 나오게 하고 싶다면 return"
   ]
  },
  {
   "cell_type": "code",
   "execution_count": 7,
   "metadata": {
    "scrolled": true
   },
   "outputs": [
    {
     "name": "stdout",
     "output_type": "stream",
     "text": [
      "None\n",
      "None\n",
      "None\n",
      "24\n",
      "(1, 2)\n"
     ]
    }
   ],
   "source": [
    "def a_rectangleArea():\n",
    "    result = 4 * 6\n",
    "def b_rectangleArea(x, y):\n",
    "    result = x * y\n",
    "def c_rectangleArea():\n",
    "    return 4*6\n",
    "def d_rectangleArea(x, y):\n",
    "    return x, y\n",
    "\n",
    "print(a_rectangleArea())\n",
    "print(b_rectangleArea(5, 7))\n",
    "print(b_rectangleArea(x = 5, y = 7))\n",
    "print(c_rectangleArea())\n",
    "print(d_rectangleArea(1, 2))"
   ]
  },
  {
   "cell_type": "markdown",
   "metadata": {},
   "source": [
    "반환값이 있으면 반환 값을 사용\\\n",
    "그런 것이 아니라면 출력되지 않음\n",
    "\n",
    "None은 반환값이 없기 때문에 출력이 안되는 것"
   ]
  },
  {
   "cell_type": "code",
   "execution_count": 8,
   "metadata": {},
   "outputs": [
    {
     "name": "stdout",
     "output_type": "stream",
     "text": [
      "Dohyun Kim\n"
     ]
    }
   ],
   "source": [
    "Professor = 'Dohyun Kim'\n",
    "print(Professor)"
   ]
  },
  {
   "cell_type": "code",
   "execution_count": 9,
   "metadata": {},
   "outputs": [
    {
     "name": "stdout",
     "output_type": "stream",
     "text": [
      "12\n"
     ]
    }
   ],
   "source": [
    "a = 7\n",
    "b = 5\n",
    "print(a + b)"
   ]
  },
  {
   "cell_type": "code",
   "execution_count": 15,
   "metadata": {},
   "outputs": [
    {
     "name": "stdout",
     "output_type": "stream",
     "text": [
      "아무거나 입력해보세요.\n",
      "100\n",
      "출력값: 100\n"
     ]
    }
   ],
   "source": [
    "keyboard_input = input('아무거나 입력해보세요.\\n')\n",
    "print('출력값:', keyboard_input)"
   ]
  },
  {
   "cell_type": "code",
   "execution_count": 18,
   "metadata": {},
   "outputs": [
    {
     "name": "stdout",
     "output_type": "stream",
     "text": [
      "a: 5 b: 7 a + b: 12 total: 0\n",
      "a: 5 b: 7 a + b: 12 total: 12\n",
      "total: 0 Sum: 12\n"
     ]
    }
   ],
   "source": [
    "a = 5 # a,b는 전역변수, 전체에서 사용됨\n",
    "b = 7\n",
    "total = 0\n",
    "\n",
    "def calculate(x, y):\n",
    "    total = x + y # 함수 내에서만 사용되는 total\n",
    "    print('a:', a, 'b:', b, 'a + b:', a+b, 'total:', total)\n",
    "    return total\n",
    "\n",
    "print('a:', a, 'b:', b, 'a + b:', a+b, 'total:', total)\n",
    "\n",
    "sum = calculate(a, b)\n",
    "print('total:', total, 'Sum:', sum) # sum에서 함수에 있는 total만 반환(return)함\n"
   ]
  },
  {
   "cell_type": "code",
   "execution_count": 26,
   "metadata": {},
   "outputs": [
    {
     "name": "stdout",
     "output_type": "stream",
     "text": [
      "a: 5 b: 7 a + b: 12 total: 0\n",
      "a: 5 b: 7 a + b: 12 total: 12\n",
      "total: 12 Sum: 12\n"
     ]
    }
   ],
   "source": [
    "a = 5\n",
    "b = 7\n",
    "total = 0\n",
    "\n",
    "def calculate(x, y):\n",
    "    global total # 전역변수에 있는 total을 가져와서 쓰겠다.\n",
    "    total = x + y # -> 새로운 값이 할당되어 함수내 total은 지역변수였는데 전역변수가 됨\n",
    "    print('a:', a, 'b:', b, 'a + b:', a+b, 'total:', total)\n",
    "    return total\n",
    "\n",
    "print('a:', a, 'b:', b, 'a + b:', a+b, 'total:', total)\n",
    "\n",
    "sum = calculate(a, b)\n",
    "print('total:', total, 'Sum:', sum) # sum에서 함수에 있는 total만 반환(return)함"
   ]
  },
  {
   "cell_type": "code",
   "execution_count": 28,
   "metadata": {
    "scrolled": true
   },
   "outputs": [
    {
     "name": "stdout",
     "output_type": "stream",
     "text": [
      "1\n",
      "2\n",
      "3\n",
      "4\n",
      "5\n",
      "6\n",
      "7\n",
      "8\n",
      "9\n",
      "10\n",
      "11\n",
      "12\n"
     ]
    }
   ],
   "source": [
    "def count(number):\n",
    "    n = 1\n",
    "    while n <= number:\n",
    "        print(n)\n",
    "        n += 1\n",
    "        \n",
    "count(12)"
   ]
  },
  {
   "cell_type": "code",
   "execution_count": 33,
   "metadata": {},
   "outputs": [
    {
     "name": "stdout",
     "output_type": "stream",
     "text": [
      "1 x 12 = 12\n",
      "2 x 12 = 24\n",
      "3 x 12 = 36\n",
      "4 x 12 = 48\n",
      "5 x 12 = 60\n",
      "6 x 12 = 72\n",
      "7 x 12 = 84\n",
      "8 x 12 = 96\n",
      "9 x 12 = 108\n"
     ]
    }
   ],
   "source": [
    "def times_tables(num):\n",
    "    n = 1\n",
    "    while n <= 9:\n",
    "        print(n, 'x', num, '=', n*num)\n",
    "        n += 1\n",
    "        \n",
    "times_tables(12)"
   ]
  },
  {
   "cell_type": "code",
   "execution_count": 35,
   "metadata": {},
   "outputs": [
    {
     "name": "stdout",
     "output_type": "stream",
     "text": [
      "1 x 3 = 3\n",
      "2 x 3 = 6\n",
      "3 x 3 = 9\n",
      "4 x 3 = 12\n",
      "5 x 3 = 15\n",
      "6 x 3 = 18\n",
      "7 x 3 = 21\n",
      "8 x 3 = 24\n",
      "9 x 3 = 27\n",
      "10 x 3 = 30\n",
      "11 x 3 = 33\n",
      "12 x 3 = 36\n"
     ]
    }
   ],
   "source": [
    "def times_tables(how_far, num):\n",
    "    n = 1\n",
    "    while n <= how_far:\n",
    "        print(n, 'x', num, '=', n*num)\n",
    "        n += 1\n",
    "        \n",
    "times_tables(12, 3)"
   ]
  },
  {
   "cell_type": "markdown",
   "metadata": {},
   "source": [
    "##### 숫자 맞추기 게임"
   ]
  },
  {
   "cell_type": "code",
   "execution_count": 2,
   "metadata": {},
   "outputs": [
    {
     "name": "stdout",
     "output_type": "stream",
     "text": [
      "안녕\n",
      "난 1부터 100 중 숫자 하나를 골랐어요.\n",
      "내가 고른게 뭔지 맞춰보세요.\n",
      " 뭔지 쓰고 엔터키를 누르세요.33\n",
      "그것 보단 높습니다. 다시 생각해보세요.\n",
      "53\n",
      "그것 보단 낮습니다. 다시 생각해보세요.\n",
      "23\n",
      "그것 보단 높습니다. 다시 생각해보세요.\n",
      "43\n",
      "그것 보단 높습니다. 다시 생각해보세요.\n",
      "50\n",
      "그것 보단 낮습니다. 다시 생각해보세요.\n",
      "46\n",
      "그것 보단 높습니다. 다시 생각해보세요.\n",
      "48\n",
      "그것 보단 낮습니다. 다시 생각해보세요.\n",
      "47\n",
      "정답\n",
      "잘 했어요. \n",
      "\n",
      "\n",
      "마치려면 엔터키를 누르세요.\n"
     ]
    },
    {
     "data": {
      "text/plain": [
       "''"
      ]
     },
     "execution_count": 2,
     "metadata": {},
     "output_type": "execute_result"
    }
   ],
   "source": [
    "import random\n",
    "\n",
    "computer_number = random.randint(1, 100)\n",
    "\n",
    "def is_same(target, number):\n",
    "    if target == number:\n",
    "        result = 'win'\n",
    "    elif target > number:\n",
    "        result = 'Low'\n",
    "    else:\n",
    "        result = 'high'\n",
    "    return result\n",
    "\n",
    "print('안녕\\n난 1부터 100 중 숫자 하나를 골랐어요.')\n",
    "\n",
    "guess = int(input('내가 고른게 뭔지 맞춰보세요.\\n 뭔지 쓰고 엔터키를 누르세요.'))\n",
    "\n",
    "higher_or_lower = is_same(computer_number, guess)\n",
    "\n",
    "while higher_or_lower != 'win':\n",
    "    if higher_or_lower == 'Low':\n",
    "        guess = int(input('그것 보단 높습니다. 다시 생각해보세요.\\n'))\n",
    "    else:\n",
    "        guess = int(input('그것 보단 낮습니다. 다시 생각해보세요.\\n'))\n",
    "    \n",
    "    higher_or_lower = is_same(computer_number, guess)\n",
    "    \n",
    "input('정답\\n잘 했어요. \\n\\n\\n마치려면 엔터키를 누르세요.')"
   ]
  },
  {
   "cell_type": "markdown",
   "metadata": {},
   "source": [
    "##### 실습: 구구단 코드를 수정하여 몇 단의 구구단을 원하는 지 물어보는 프로그램으로 코드를 수정하시오."
   ]
  },
  {
   "cell_type": "code",
   "execution_count": 3,
   "metadata": {},
   "outputs": [
    {
     "name": "stdout",
     "output_type": "stream",
     "text": [
      "안녕하세요.\n",
      " 어느 구구단을 좋아하시나요?  9\n",
      "원하는 행이 몇개인가요? 숫자를 입력해주시와요.:   9\n",
      "\n",
      "1 x 9 = 9\n",
      "2 x 9 = 18\n",
      "3 x 9 = 27\n",
      "4 x 9 = 36\n",
      "5 x 9 = 45\n",
      "6 x 9 = 54\n",
      "7 x 9 = 63\n",
      "8 x 9 = 72\n",
      "9 x 9 = 81\n"
     ]
    }
   ],
   "source": [
    "which_table = int(input('안녕하세요.\\n 어느 구구단을 좋아하시나요?  '))\n",
    "how_many_rows = int(input('원하는 행이 몇개인가요? 숫자를 입력해주시와요.:   '))\n",
    "\n",
    "def times_tables(how_far, num):\n",
    "    n = 1\n",
    "    while n <= how_far:\n",
    "        print(n, 'x', num, '=', n*num)\n",
    "        n += 1\n",
    "print()\n",
    "\n",
    "times_tables(how_many_rows, which_table)"
   ]
  },
  {
   "cell_type": "markdown",
   "metadata": {},
   "source": [
    "##### 실습: 숫자맞추기 게임코드를 수정하여 몇번만에 맞췄는 지를 세어서 알려주는 프로그램을 작성하시오."
   ]
  },
  {
   "cell_type": "code",
   "execution_count": 1,
   "metadata": {},
   "outputs": [
    {
     "name": "stdout",
     "output_type": "stream",
     "text": [
      "안녕\n",
      "난 1부터 100 중 숫자 하나를 골랐어요.\n",
      "내가 고른게 뭔지 맞춰보세요.\n",
      " 뭔지 쓰고 엔터키를 누르세요.50\n",
      "그것 보단 높습니다. 다시 생각해보세요.\n",
      "70\n",
      "그것 보단 높습니다. 다시 생각해보세요.\n",
      "80\n",
      "그것 보단 낮습니다. 다시 생각해보세요.\n",
      "75\n",
      "그것 보단 낮습니다. 다시 생각해보세요.\n",
      "73\n",
      "그것 보단 높습니다. 다시 생각해보세요.\n",
      "74\n",
      "정답\n",
      "잘 했어요. 5번 만에 맞추셨네요. \n",
      "\n",
      "\n",
      "마치려면 엔터키를 누르세요.\n"
     ]
    },
    {
     "data": {
      "text/plain": [
       "''"
      ]
     },
     "execution_count": 1,
     "metadata": {},
     "output_type": "execute_result"
    }
   ],
   "source": [
    "import random\n",
    "\n",
    "computer_number = random.randint(1, 100)\n",
    "\n",
    "def is_same(target, number):\n",
    "    if target == number:\n",
    "        result = 'win'\n",
    "    elif target > number:\n",
    "        result = 'Low'\n",
    "    else:\n",
    "        result = 'high'\n",
    "    return result\n",
    "\n",
    "print('안녕\\n난 1부터 100 중 숫자 하나를 골랐어요.')\n",
    "\n",
    "guess = int(input('내가 고른게 뭔지 맞춰보세요.\\n 뭔지 쓰고 엔터키를 누르세요.'))\n",
    "\n",
    "higher_or_lower = is_same(computer_number, guess)\n",
    "\n",
    "count = 1\n",
    "while higher_or_lower != 'win':\n",
    "    if higher_or_lower == 'Low':\n",
    "        guess = int(input('그것 보단 높습니다. 다시 생각해보세요.\\n'))\n",
    "        count += 1\n",
    "    else:\n",
    "        guess = int(input('그것 보단 낮습니다. 다시 생각해보세요.\\n'))\n",
    "        count += 1\n",
    "    \n",
    "    higher_or_lower = is_same(computer_number, guess)\n",
    "    \n",
    "input('정답\\n잘 했어요. %d번 만에 맞추셨네요. \\n\\n\\n마치려면 엔터키를 누르세요.' % count)"
   ]
  },
  {
   "cell_type": "markdown",
   "metadata": {},
   "source": [
    "##### 실습: 숫자맞추기 게임코드를 수정하여 난이도를 선택할 수 있도록 코드를 수정하시오.\n",
    "\n",
    "\n",
    "##### 하: 1 - 10, 중: 1 - 20, 상: 1 - 100 사이의 숫자생성"
   ]
  },
  {
   "cell_type": "code",
   "execution_count": 1,
   "metadata": {},
   "outputs": [
    {
     "name": "stdout",
     "output_type": "stream",
     "text": [
      "안녕하세요.\n",
      "게임 레벨을 골라보세요.\n",
      "하\n",
      "하 을 선택하셨습니다. 게임을 시작해보시죠.\n",
      "\n",
      "\n",
      "내가 고른게 뭔지 맞춰보세요.\n",
      " 뭔지 쓰고 엔터키를 누르세요.5\n",
      "그것 보단 낮습니다. 다시 생각해보세요.\n",
      "3\n",
      "그것 보단 높습니다. 다시 생각해보세요.\n",
      "4\n",
      "정답\n",
      "잘 했어요. 3번 만에 맞추셨네요. \n",
      "\n",
      "\n",
      "마치려면 엔터키를 누르세요.\n"
     ]
    },
    {
     "data": {
      "text/plain": [
       "''"
      ]
     },
     "execution_count": 1,
     "metadata": {},
     "output_type": "execute_result"
    }
   ],
   "source": [
    "import random\n",
    "\n",
    "level = input('안녕하세요.\\n게임 레벨을 골라보세요.\\n')\n",
    "\n",
    "while level != '상' and level != '중' and level != '하':\n",
    "    level = input('죄송하지만 숫자를 제대로 입력하세요.\\n 상, 중, 하 중에 하나를 고르세요.\\n')\n",
    "    \n",
    "if level == '하':\n",
    "    upper_limit = 10\n",
    "elif level == '중':\n",
    "    upper_limit = 20\n",
    "else:\n",
    "    upper_limit = 100\n",
    "\n",
    "# 레벨 정하기.\n",
    "\n",
    "computer_number = random.randint(1, upper_limit) # 정한 레벨에 대한 수치 random에 넣어주기\n",
    "\n",
    "def is_same(target, number):\n",
    "    if target == number:\n",
    "        result = 'win'\n",
    "    elif target > number:\n",
    "        result = 'Low'\n",
    "    else:\n",
    "        result = 'high'\n",
    "    return result\n",
    "\n",
    "print(level,'을 선택하셨습니다. 게임을 시작해보시죠.\\n')\n",
    "print()\n",
    "\n",
    "guess = int(input('내가 고른게 뭔지 맞춰보세요.\\n 뭔지 쓰고 엔터키를 누르세요.'))\n",
    "\n",
    "higher_or_lower = is_same(computer_number, guess)\n",
    "\n",
    "count = 1\n",
    "while higher_or_lower != 'win':\n",
    "    if higher_or_lower == 'Low':\n",
    "        guess = int(input('그것 보단 높습니다. 다시 생각해보세요.\\n'))\n",
    "        count += 1\n",
    "    else:\n",
    "        guess = int(input('그것 보단 낮습니다. 다시 생각해보세요.\\n'))\n",
    "        count += 1\n",
    "    \n",
    "    higher_or_lower = is_same(computer_number, guess)\n",
    "    \n",
    "input('정답\\n잘 했어요. %d번 만에 맞추셨네요. \\n\\n\\n마치려면 엔터키를 누르세요.' % count)"
   ]
  }
 ],
 "metadata": {
  "kernelspec": {
   "display_name": "Python 3",
   "language": "python",
   "name": "python3"
  },
  "language_info": {
   "codemirror_mode": {
    "name": "ipython",
    "version": 3
   },
   "file_extension": ".py",
   "mimetype": "text/x-python",
   "name": "python",
   "nbconvert_exporter": "python",
   "pygments_lexer": "ipython3",
   "version": "3.7.6"
  }
 },
 "nbformat": 4,
 "nbformat_minor": 4
}
