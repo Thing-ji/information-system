{
 "cells": [
  {
   "cell_type": "code",
   "execution_count": 7,
   "metadata": {
    "scrolled": true
   },
   "outputs": [
    {
     "name": "stdout",
     "output_type": "stream",
     "text": [
      "Question: What goes clip? \n",
      " Answer: A one legged horse.\n",
      "Question: What goes clip? \t Answer: A one legged horse.\n",
      "Question: What goes clip? \\ Answer: A one legged horse.\n",
      "Question: What goes clip? \" Answer: A one legged horse.\n"
     ]
    }
   ],
   "source": [
    "print('Question: What goes clip? \\n Answer: A one legged horse.')\n",
    "print('Question: What goes clip? \\t Answer: A one legged horse.')\n",
    "print('Question: What goes clip? \\\\ Answer: A one legged horse.')\n",
    "print('Question: What goes clip? \\\" Answer: A one legged horse.')"
   ]
  },
  {
   "cell_type": "code",
   "execution_count": 15,
   "metadata": {},
   "outputs": [
    {
     "name": "stdout",
     "output_type": "stream",
     "text": [
      "i say \"high\"\n",
      "i say \"High\"\n"
     ]
    }
   ],
   "source": [
    "print('i say \"high\"')\n",
    "print(\"i say \\\"High\\\"\")"
   ]
  },
  {
   "cell_type": "code",
   "execution_count": 12,
   "metadata": {},
   "outputs": [
    {
     "name": "stdout",
     "output_type": "stream",
     "text": [
      "1+2+3+4+5\n",
      "15\n",
      "1+2+3+4+5 = 15\n"
     ]
    }
   ],
   "source": [
    "print(\"1+2+3+4+5\")\n",
    "print(1+2+3+4+5)\n",
    "print(\"1+2+3+4+5 =\",1+2+3+4+5)"
   ]
  },
  {
   "cell_type": "code",
   "execution_count": 18,
   "metadata": {},
   "outputs": [
    {
     "name": "stdout",
     "output_type": "stream",
     "text": [
      "2.5\n",
      "9\n",
      "2.75\n",
      "2\n",
      "3\n"
     ]
    }
   ],
   "source": [
    "print(10/4) # 나누기\n",
    "print(3*3) # 곱하기\n",
    "print(11/4) \n",
    "print(11//4) # 몫\n",
    "print(11%4) # 나머지"
   ]
  },
  {
   "cell_type": "code",
   "execution_count": 19,
   "metadata": {},
   "outputs": [
    {
     "name": "stdout",
     "output_type": "stream",
     "text": [
      "111을 4로 나누면? 27.75\n",
      "11을 4로 나누면? 2.75\n"
     ]
    }
   ],
   "source": [
    "print(\"111을 4로 나누면?\", 111/4)\n",
    "print(\"11을 4로 나누면?\", 11/4)"
   ]
  },
  {
   "cell_type": "code",
   "execution_count": 22,
   "metadata": {},
   "outputs": [
    {
     "name": "stdout",
     "output_type": "stream",
     "text": [
      "x의 값은 3 입니다.\n",
      "x의 값은 123입니다.\n",
      "x의 값은 3, y의 값은 4입니다.\n"
     ]
    }
   ],
   "source": [
    "x = 3\n",
    "y = 4\n",
    "print(\"x의 값은\", x, '입니다.')\n",
    "print(\"x의 값은 %d입니다.\"%123)\n",
    "print(\"x의 값은 %s, y의 값은 %s입니다.\" %(x, y))"
   ]
  },
  {
   "cell_type": "code",
   "execution_count": 23,
   "metadata": {},
   "outputs": [
    {
     "name": "stdout",
     "output_type": "stream",
     "text": [
      "나는 수업 시간에 프로그래밍을 하지 않겠습니다. \n",
      "나는 수업 시간에 프로그래밍을 하지 않겠습니다. \n",
      "나는 수업 시간에 프로그래밍을 하지 않겠습니다. \n",
      "\n"
     ]
    }
   ],
   "source": [
    "print('나는 수업 시간에 프로그래밍을 하지 않겠습니다. \\n' * 3)"
   ]
  },
  {
   "cell_type": "code",
   "execution_count": 25,
   "metadata": {},
   "outputs": [
    {
     "name": "stdout",
     "output_type": "stream",
     "text": [
      "1 번 출력\n",
      "2 번 출력\n",
      "3 번 출력\n",
      "4 번 출력\n",
      "5 번 출력\n",
      "6 번 출력\n",
      "7 번 출력\n",
      "8 번 출력\n",
      "9 번 출력\n",
      "10 번 출력\n",
      "11 번 출력\n",
      "12 번 출력\n",
      "13 번 출력\n",
      "14 번 출력\n",
      "15 번 출력\n",
      "16 번 출력\n",
      "17 번 출력\n",
      "18 번 출력\n",
      "19 번 출력\n",
      "20 번 출력\n",
      "21 번 출력\n",
      "22 번 출력\n",
      "23 번 출력\n",
      "24 번 출력\n",
      "25 번 출력\n",
      "26 번 출력\n",
      "27 번 출력\n",
      "28 번 출력\n",
      "29 번 출력\n",
      "30 번 출력\n",
      "31 번 출력\n",
      "32 번 출력\n",
      "33 번 출력\n",
      "34 번 출력\n",
      "35 번 출력\n",
      "36 번 출력\n",
      "37 번 출력\n",
      "38 번 출력\n",
      "39 번 출력\n",
      "40 번 출력\n",
      "41 번 출력\n",
      "42 번 출력\n",
      "43 번 출력\n",
      "44 번 출력\n",
      "45 번 출력\n",
      "46 번 출력\n",
      "47 번 출력\n",
      "48 번 출력\n",
      "49 번 출력\n",
      "종료\n"
     ]
    }
   ],
   "source": [
    "lines = 1\n",
    "\n",
    "while lines < 50:\n",
    "    print(lines,'번 출력')\n",
    "    lines += 1\n",
    "\n",
    "print(\"종료\")"
   ]
  },
  {
   "cell_type": "code",
   "execution_count": 27,
   "metadata": {},
   "outputs": [
    {
     "name": "stdout",
     "output_type": "stream",
     "text": [
      "5 X 1 = 5\n",
      "5 X 2 = 10\n",
      "5 X 3 = 15\n",
      "5 X 4 = 20\n",
      "5 X 5 = 25\n",
      "5 X 6 = 30\n",
      "5 X 7 = 35\n",
      "5 X 8 = 40\n",
      "5 X 9 = 45\n",
      "종료\n"
     ]
    }
   ],
   "source": [
    "# 구구단에서 5단 만들기\n",
    "num = 1\n",
    "\n",
    "while num < 10:\n",
    "    print(5,'X',num, '=', 5*num)\n",
    "    num += 1\n",
    "print('종료')"
   ]
  },
  {
   "cell_type": "code",
   "execution_count": 31,
   "metadata": {},
   "outputs": [
    {
     "name": "stdout",
     "output_type": "stream",
     "text": [
      "1 X 5 = 5\n",
      "2 X 5 = 10\n",
      "3 X 5 = 15\n",
      "4 X 5 = 20\n",
      "5 X 5 = 25\n",
      "6 X 5 = 30\n",
      "7 X 5 = 35\n",
      "8 X 5 = 40\n",
      "9 X 5 = 45\n"
     ]
    }
   ],
   "source": [
    "num = 1\n",
    "\n",
    "while num < 10:\n",
    "    print(\"%s X 5 = %s\" % (num, num*5))\n",
    "    num += 1\n"
   ]
  },
  {
   "cell_type": "code",
   "execution_count": 30,
   "metadata": {
    "scrolled": true
   },
   "outputs": [
    {
     "name": "stdout",
     "output_type": "stream",
     "text": [
      "11을 4로 나누면? 2.75 나머지는? 3\n"
     ]
    }
   ],
   "source": [
    "print(\"11을 4로 나누면?\", 11/4, '나머지는?', 11%4)"
   ]
  },
  {
   "cell_type": "markdown",
   "metadata": {},
   "source": [
    "# 2교시"
   ]
  },
  {
   "cell_type": "code",
   "execution_count": 32,
   "metadata": {},
   "outputs": [
    {
     "name": "stdout",
     "output_type": "stream",
     "text": [
      "이름이 뭘까요?\n",
      "다비드\n",
      "안녕 다비드\n"
     ]
    }
   ],
   "source": [
    "name = input('이름이 뭘까요?\\n')\n",
    "print('안녕', name)"
   ]
  },
  {
   "cell_type": "code",
   "execution_count": 141,
   "metadata": {},
   "outputs": [
    {
     "data": {
      "text/plain": [
       "4"
      ]
     },
     "execution_count": 141,
     "metadata": {},
     "output_type": "execute_result"
    }
   ],
   "source": [
    "import random\n",
    "random.randint(1, 6) # 숫자 한개만 랜덤으로  생성"
   ]
  },
  {
   "cell_type": "code",
   "execution_count": 72,
   "metadata": {},
   "outputs": [
    {
     "name": "stdout",
     "output_type": "stream",
     "text": [
      "이름을 적으면 랜덤으로 숫자를 줄게잉\n",
      "다비드\n",
      "다비드, 너의 랜덤 번호는!???? 두두둑두굳굳ㄱ둑둑 4!!임.\n"
     ]
    }
   ],
   "source": [
    "name = input('이름을 적으면 랜덤으로 숫자를 줄게잉\\n')\n",
    "rand = random.randint(1, 10)\n",
    "\n",
    "print('{0}, 너의 랜덤 번호는!???? 두두둑두굳굳ㄱ둑둑 {1}!!임.'.format(name, rand))"
   ]
  },
  {
   "cell_type": "code",
   "execution_count": 126,
   "metadata": {},
   "outputs": [
    {
     "name": "stdout",
     "output_type": "stream",
     "text": [
      "게임 스타트!!\n",
      "조언을 구해보세요!!d\n",
      "d\n",
      "고민중...\n",
      "고민중...\n",
      "고민중...\n",
      "고민중...\n",
      "고민중...\n",
      "\n",
      "당신이라면 할 수 있어요!\n"
     ]
    }
   ],
   "source": [
    "import random\n",
    "\n",
    "# 답변을 입력해 봅세~\n",
    "\n",
    "ans1 = '자! 해보세요!'\n",
    "ans2 = '됐네요. 이 사람아~'\n",
    "ans3 = '뭐라고? 다시 생각해보세요.'\n",
    "ans4 = '모르니 두려운 겁니다.'\n",
    "ans5 = '칠푼인가요?? 제 정신이 아니군요!'\n",
    "ans6 = '당신이라면 할 수 있어요!'\n",
    "ans7 = '야야야!!'\n",
    "ans8 = '어이가없네?'\n",
    "\n",
    "print(\"게임 스타트!!\")\n",
    "print(input('조언을 구해보세요!!'))\n",
    "\n",
    "\n",
    "rand = random.randint(1,9)\n",
    "\n",
    "if rand == 1:\n",
    "    answer = ans1\n",
    "elif rand == 2:\n",
    "    answer = ans2\n",
    "elif rand == 3:\n",
    "    answer = ans3\n",
    "elif rand == 4:\n",
    "    answer = ans4\n",
    "elif rand == 5:\n",
    "    answer = ans5\n",
    "elif rand == 6:\n",
    "    answer = ans6\n",
    "elif rand == 7:\n",
    "    answer = ans7\n",
    "else:\n",
    "    answer = ans8\n",
    "    \n",
    "print('고민중...\\n'*5)\n",
    "    \n",
    "    \n",
    "print(answer)\n"
   ]
  },
  {
   "cell_type": "code",
   "execution_count": 143,
   "metadata": {},
   "outputs": [
    {
     "name": "stdout",
     "output_type": "stream",
     "text": [
      "86 x 123 = 10578\n",
      "이름을 입력하시오.\n",
      "김다윗\n",
      "김다윗님, 다음 수업시간에 뵙겠습니다.\n"
     ]
    }
   ],
   "source": [
    "import random\n",
    "\n",
    "rand1 = random.randint(1, 99)\n",
    "rand2 = random.randint(100, 199)\n",
    "\n",
    "print('{0} x {1} = {2}'.format(rand1, rand2, rand1*rand2))\n",
    "\n",
    "\n",
    "name = input('이름을 입력하시오.\\n')\n",
    "print('{}님, 다음 수업시간에 뵙겠습니다.'.format(name))"
   ]
  },
  {
   "cell_type": "code",
   "execution_count": 171,
   "metadata": {},
   "outputs": [
    {
     "name": "stdout",
     "output_type": "stream",
     "text": [
      "A < B\n"
     ]
    }
   ],
   "source": [
    "A = random.randint(1, 100)\n",
    "B = random.randint(1, 100)\n",
    "\n",
    "if A > B:\n",
    "    print('A > B')\n",
    "elif A < B:\n",
    "    print('A < B')\n",
    "elif A == B:\n",
    "    print('A == B')"
   ]
  },
  {
   "cell_type": "code",
   "execution_count": null,
   "metadata": {},
   "outputs": [],
   "source": []
  },
  {
   "cell_type": "code",
   "execution_count": null,
   "metadata": {},
   "outputs": [],
   "source": []
  },
  {
   "cell_type": "code",
   "execution_count": null,
   "metadata": {},
   "outputs": [],
   "source": []
  }
 ],
 "metadata": {
  "kernelspec": {
   "display_name": "Python 3",
   "language": "python",
   "name": "python3"
  },
  "language_info": {
   "codemirror_mode": {
    "name": "ipython",
    "version": 3
   },
   "file_extension": ".py",
   "mimetype": "text/x-python",
   "name": "python",
   "nbconvert_exporter": "python",
   "pygments_lexer": "ipython3",
   "version": "3.7.6"
  }
 },
 "nbformat": 4,
 "nbformat_minor": 4
}
