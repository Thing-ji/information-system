{
 "cells": [
  {
   "cell_type": "markdown",
   "metadata": {},
   "source": [
    "### Part 2. 본격 파이썬 입문, 1장. 자료형(계속)"
   ]
  },
  {
   "cell_type": "code",
   "execution_count": null,
   "metadata": {},
   "outputs": [],
   "source": [
    "my_list1=[0, 1, 2, 2, 3, 4, 4, 4, 5, 8, 8]\n",
    "my_list2=[3, 3, 3, 4, 4, 5, 6, 6, 7, 8, 9]\n",
    "my_set1 = set(my_list1) # {0, 1, 2, 3, 4, 5, 8}\n",
    "my_set2 = set(my_list2) # {3, 4, 5, 6, 7, 8, 9}\n",
    "set_intersection = my_set1 & my_set2 # {3, 4, 5, 8}\n",
    "set_union = my_set1 | my_set2 # {0, 1, 2, 3, 4, 5, 6, 7, 8, 9}\n",
    "set_diff = my_set1 - my_set2 # {0, 1, 2}\n",
    "\n"
   ]
  },
  {
   "cell_type": "code",
   "execution_count": null,
   "metadata": {},
   "outputs": [],
   "source": [
    "#set\n",
    "my_str=\"python programming\" \n",
    "my_str_set=set(my_str) # {'i', 'r', 'n', ' ', 'm', 'y', 't', 'a', 'p', 'h', 'g', 'o'} \n",
    "my_str_set.add(\"q\") # {'i', 'r', 'q', 'n', ' ', 'm', 'y', 't', 'a', 'p', 'h', 'g', 'o'}\n",
    "my_str_set.remove(\"m\") # {'i', 'r', 'q', 'n', ' ', 'y', 't', 'a', 'p', 'h', 'g', 'o'}"
   ]
  },
  {
   "cell_type": "code",
   "execution_count": null,
   "metadata": {},
   "outputs": [],
   "source": [
    "# list\n",
    "my_list=[1, 2, 3, 4, 5, 6, 7, 8, 9, 10]\n",
    "print(my_list[3])\n",
    "print(my_list[1:2])\n",
    "print(my_list[1:])\n",
    "print(my_list[:3])\n",
    "print(my_list[:])\n",
    "print(my_list[0:10:2])\n",
    "print(my_list[10:0:-1])\n",
    "print(my_list.index(1))\n",
    "\n",
    "print('=============================')\n",
    "#str\n",
    "my_str=\"python programming\"\n",
    "print(my_str[3])\n",
    "print(my_str[1:2])\n",
    "print(my_str[1:])\n",
    "print(my_str[:3])\n",
    "print(my_str[:])\n",
    "print(my_list[0:10:2])\n",
    "print(my_str[10:0: -2])\n",
    "print(my_str.index(\"g\"))\n",
    "\n",
    "\n"
   ]
  },
  {
   "cell_type": "code",
   "execution_count": 1,
   "metadata": {},
   "outputs": [
    {
     "name": "stdout",
     "output_type": "stream",
     "text": [
      "['a', 'b', 'c', 'd', 'e', 'f', 'g', 'h', 'i']\n",
      "['python', 'is', 'the', 'best', 'computer', 'language']\n",
      "['03', '28', '2016']\n",
      "abcdefghi\n",
      "python is the best computer language\n",
      "03:28:2016\n"
     ]
    }
   ],
   "source": [
    "# str -> list\n",
    "mylist1=list(\"abcdefghi\")\n",
    "mylist2=\"python is the best computer language\".split()\n",
    "mylist3=\"03/28/2016\".split(\"/\")\n",
    "\n",
    "print(mylist1)\n",
    "print(mylist2)\n",
    "print(mylist3)\n",
    "\n",
    "# list -> str\n",
    "mystr1=\"\".join(mylist1)\n",
    "mystr2=\" \".join(mylist2)\n",
    "mystr3=\":\".join(mylist3)\n",
    "\n",
    "print(mystr1)\n",
    "print(mystr2)\n",
    "print(mystr3)\n",
    "\n",
    "\n"
   ]
  },
  {
   "cell_type": "markdown",
   "metadata": {},
   "source": [
    "#### [실습] 1. 리스트 rainbow에 무지개 색을 입력한 후, 무지개 색을 거꾸로 출력하시오.\n",
    "\n"
   ]
  },
  {
   "cell_type": "code",
   "execution_count": 3,
   "metadata": {},
   "outputs": [
    {
     "data": {
      "text/plain": [
       "['보라', '남색', '파랑', '초록', '노랑', '주황', '빨강']"
      ]
     },
     "execution_count": 3,
     "metadata": {},
     "output_type": "execute_result"
    }
   ],
   "source": [
    "rainbow = [\"빨강\", \"주황\", \"노랑\", \"초록\", \"파랑\", \"남색\", \"보라\"]\n",
    "rainbow[6::-1]\n",
    "# cf. rainbow[6:0:-1] "
   ]
  },
  {
   "cell_type": "markdown",
   "metadata": {},
   "source": [
    "#### [실습] 2. 무지개색을 빨강부터 하나건너 하나씩 출력하시오"
   ]
  },
  {
   "cell_type": "code",
   "execution_count": 4,
   "metadata": {},
   "outputs": [
    {
     "data": {
      "text/plain": [
       "(['빨강', '노랑', '파랑', '보라'], ['빨강', '노랑', '파랑', '보라'])"
      ]
     },
     "execution_count": 4,
     "metadata": {},
     "output_type": "execute_result"
    }
   ],
   "source": [
    "rainbow[0::2], rainbow[0:7:2]\n"
   ]
  },
  {
   "cell_type": "markdown",
   "metadata": {},
   "source": [
    "#### [실습] 무지개색을 “빨강/주황/…/보라”로 형태로 출력하시오. "
   ]
  },
  {
   "cell_type": "code",
   "execution_count": 5,
   "metadata": {},
   "outputs": [
    {
     "name": "stdout",
     "output_type": "stream",
     "text": [
      "빨강/주황/노랑/초록/파랑/남색/보라\n"
     ]
    }
   ],
   "source": [
    "print(\"/\".join(rainbow))\n"
   ]
  },
  {
   "cell_type": "markdown",
   "metadata": {},
   "source": [
    "#### list comprehension"
   ]
  },
  {
   "cell_type": "code",
   "execution_count": 6,
   "metadata": {},
   "outputs": [
    {
     "name": "stdout",
     "output_type": "stream",
     "text": [
      "[1, 4, 9, 16, 25, 36, 49, 64, 81]\n",
      "[1, 4, 9, 16, 25, 36, 49, 64, 81]\n"
     ]
    }
   ],
   "source": [
    "#for 문을 활용해서 1부터 10미만값의 제곱값을 출력하는 프로그램을 작성해 보세요\n",
    "squares=[]\n",
    "for i in range(1, 10):\n",
    "    squares=squares + [i*i]\n",
    "print(squares)\n",
    "\n",
    "squares2=[]\n",
    "squares2 = [i*i for i  in range(1, 10)]\n",
    "print(squares2)\n"
   ]
  },
  {
   "cell_type": "code",
   "execution_count": 7,
   "metadata": {},
   "outputs": [
    {
     "name": "stdout",
     "output_type": "stream",
     "text": [
      "[4, 16, 36, 64]\n",
      "[4, 16, 36, 64]\n"
     ]
    }
   ],
   "source": [
    "# for 문을 활용해서 1부터 10사이의 짝수의 제곱값을 출력하는 프로그램을 작성해 보세요\n",
    "squares=[]\n",
    "for i in range(1, 10):\n",
    "    if i%2==0:\n",
    "        squares=squares + [i*i]\n",
    "print(squares)\n",
    "\n",
    "squares2=[]\n",
    "squares2 = [i*i for i  in range(1, 10) if i%2==0]\n",
    "print(squares2)\n"
   ]
  },
  {
   "cell_type": "code",
   "execution_count": 8,
   "metadata": {},
   "outputs": [
    {
     "name": "stdout",
     "output_type": "stream",
     "text": [
      "[(1, 1), (1, 2), (1, 3), (1, 4), (1, 5), (1, 6), (1, 7), (1, 8), (1, 9), (1, 10), (2, 1), (2, 2), (2, 3), (2, 4), (2, 5), (2, 6), (2, 7), (2, 8), (2, 9), (2, 10), (3, 1), (3, 2), (3, 3), (3, 4), (3, 5), (3, 6), (3, 7), (3, 8), (3, 9), (3, 10), (4, 1), (4, 2), (4, 3), (4, 4), (4, 5), (4, 6), (4, 7), (4, 8), (4, 9), (4, 10), (5, 1), (5, 2), (5, 3), (5, 4), (5, 5), (5, 6), (5, 7), (5, 8), (5, 9), (5, 10), (6, 1), (6, 2), (6, 3), (6, 4), (6, 5), (6, 6), (6, 7), (6, 8), (6, 9), (6, 10), (7, 1), (7, 2), (7, 3), (7, 4), (7, 5), (7, 6), (7, 7), (7, 8), (7, 9), (7, 10), (8, 1), (8, 2), (8, 3), (8, 4), (8, 5), (8, 6), (8, 7), (8, 8), (8, 9), (8, 10), (9, 1), (9, 2), (9, 3), (9, 4), (9, 5), (9, 6), (9, 7), (9, 8), (9, 9), (9, 10), (10, 1), (10, 2), (10, 3), (10, 4), (10, 5), (10, 6), (10, 7), (10, 8), (10, 9), (10, 10)]\n"
     ]
    }
   ],
   "source": [
    "# x축이 1부터 10까지의 정수값을 갖고, y축이 1부터 10까지의 정수값을 갖는 (x, y)의 좌표값을 출력하는 프로그램을 작성해 보세요\n",
    "\n",
    "squares3=[]\n",
    "squares3 = [(x, y) for x in range(1, 11) for y in range(1, 11)]\n",
    "print(squares3)\n"
   ]
  },
  {
   "cell_type": "markdown",
   "metadata": {},
   "source": [
    "#### [실습] 다음의 식을 이용하여 x축이 1부터 10까지 사이의 짝수값을 갖고, y축이 1부터 10까지의 짝수값을 갖는 (x, y)의 좌표값을 출력하는 프로그램을 작성해 보세요\n"
   ]
  },
  {
   "cell_type": "code",
   "execution_count": 12,
   "metadata": {},
   "outputs": [
    {
     "name": "stdout",
     "output_type": "stream",
     "text": [
      "[(1, 1), (1, 2), (1, 3), (1, 4), (1, 5), (1, 6), (1, 7), (1, 8), (1, 9), (1, 10), (2, 1), (2, 2), (2, 3), (2, 4), (2, 5), (2, 6), (2, 7), (2, 8), (2, 9), (2, 10), (3, 1), (3, 2), (3, 3), (3, 4), (3, 5), (3, 6), (3, 7), (3, 8), (3, 9), (3, 10), (4, 1), (4, 2), (4, 3), (4, 4), (4, 5), (4, 6), (4, 7), (4, 8), (4, 9), (4, 10), (5, 1), (5, 2), (5, 3), (5, 4), (5, 5), (5, 6), (5, 7), (5, 8), (5, 9), (5, 10), (6, 1), (6, 2), (6, 3), (6, 4), (6, 5), (6, 6), (6, 7), (6, 8), (6, 9), (6, 10), (7, 1), (7, 2), (7, 3), (7, 4), (7, 5), (7, 6), (7, 7), (7, 8), (7, 9), (7, 10), (8, 1), (8, 2), (8, 3), (8, 4), (8, 5), (8, 6), (8, 7), (8, 8), (8, 9), (8, 10), (9, 1), (9, 2), (9, 3), (9, 4), (9, 5), (9, 6), (9, 7), (9, 8), (9, 9), (9, 10), (10, 1), (10, 2), (10, 3), (10, 4), (10, 5), (10, 6), (10, 7), (10, 8), (10, 9), (10, 10)]\n"
     ]
    }
   ],
   "source": [
    "squares4=[]\n",
    "squares4 = [(x, y) for x in range(1, 11) for y in range(1, 11)]\n",
    "print(squares4)\n"
   ]
  },
  {
   "cell_type": "code",
   "execution_count": 13,
   "metadata": {},
   "outputs": [
    {
     "name": "stdout",
     "output_type": "stream",
     "text": [
      "[(2, 2), (2, 4), (2, 6), (2, 8), (2, 10), (4, 2), (4, 4), (4, 6), (4, 8), (4, 10), (6, 2), (6, 4), (6, 6), (6, 8), (6, 10), (8, 2), (8, 4), (8, 6), (8, 8), (8, 10), (10, 2), (10, 4), (10, 6), (10, 8), (10, 10)]\n",
      "[(2, 2), (2, 4), (2, 6), (2, 8), (2, 10), (4, 2), (4, 4), (4, 6), (4, 8), (4, 10), (6, 2), (6, 4), (6, 6), (6, 8), (6, 10), (8, 2), (8, 4), (8, 6), (8, 8), (8, 10), (10, 2), (10, 4), (10, 6), (10, 8), (10, 10)]\n"
     ]
    }
   ],
   "source": [
    "\n",
    "squares4=[]\n",
    "squares4 = [(x, y) for x in range(1, 11) for y in range(1, 11) if x%2==0 if y%2==0]\n",
    "print(squares4)\n",
    "\n",
    "squares4=[]\n",
    "squares4 = [(x, y) for x in range(1, 11) for y in range(1, 11) if x%2==0 and y%2==0]\n",
    "print(squares4)"
   ]
  },
  {
   "cell_type": "markdown",
   "metadata": {},
   "source": [
    "### Dictionary comprehension"
   ]
  },
  {
   "cell_type": "code",
   "execution_count": 14,
   "metadata": {},
   "outputs": [
    {
     "name": "stdout",
     "output_type": "stream",
     "text": [
      "[(1, 4), (2, 5), (3, 6)]\n",
      "[('a', 'd'), ('b', 'e'), ('c', 'f')]\n",
      "0 body\n",
      "1 foo\n",
      "2 bar\n"
     ]
    }
   ],
   "source": [
    "#zip : 동일한 개수로 이루어진 자료형을 묶어주는 함수\n",
    "print(list(zip([1, 2, 3], [4, 5, 6])))\n",
    "\n",
    "print(list(zip(\"abc\", \"def\")))\n",
    "\n",
    "\n",
    "#enumerate : 자료형(리스트, 튜플, 문자열)을 입력으로 받아 인덱스 값을 포함하는 값으로 리턴하는 함수\n",
    "for i, name in enumerate(['body', 'foo', 'bar']):\n",
    "    print(i, name)\n"
   ]
  },
  {
   "cell_type": "code",
   "execution_count": 15,
   "metadata": {},
   "outputs": [
    {
     "name": "stdout",
     "output_type": "stream",
     "text": [
      "{0: 'body'}\n",
      "{1: 'foo'}\n",
      "{2: 'bar'}\n"
     ]
    }
   ],
   "source": [
    "#순서를 key, 문자열을 value로 갖는 dictionary 생성방법\n",
    "\n",
    "for name, score in enumerate(['body', 'foo', 'bar']):\n",
    "    table={name:score}\n",
    "    print(table)\n"
   ]
  },
  {
   "cell_type": "code",
   "execution_count": 31,
   "metadata": {},
   "outputs": [
    {
     "name": "stdout",
     "output_type": "stream",
     "text": [
      "{'송혜교': 98}\n",
      "{'송중기': 94}\n",
      "{'김지원': 96}\n",
      "{'진구': 97}\n"
     ]
    }
   ],
   "source": [
    "# students=[“송혜교”, “송중기”, “김지원”, “진구”], scores=[98, 94, 96, 97]일 때, 학생이름을 key, 점수를 value로 갖는 dictionary 생성방법\n",
    "students=[\"송혜교\", \"송중기\", \"김지원\", \"진구\"]\n",
    "scores=[98, 94, 96, 97]\n",
    "for name, score in zip(students, scores):\n",
    "    table={name:score}\n",
    "    print(table)\n"
   ]
  },
  {
   "cell_type": "code",
   "execution_count": 38,
   "metadata": {},
   "outputs": [
    {
     "name": "stdout",
     "output_type": "stream",
     "text": [
      "{'송혜교': 98}\n",
      "{'송중기': 94}\n",
      "{'김지원': 96}\n",
      "{'진구': 97}\n",
      "{'송혜교': 98, '송중기': 94, '김지원': 96, '진구': 97}\n"
     ]
    }
   ],
   "source": [
    "#학생이름을 key, 점수를 value로 갖는 dictionary을 Dictionary Comprehension를 활용하여 생성하는 방법\n",
    "for name, score in zip(students, scores):\n",
    "    table={name:score}\n",
    "    print(table)\n",
    "\n",
    "score_table = {name : score for name, score in zip(students, scores)}\n",
    "print(score_table)\n",
    "\n",
    "### 위와 동일하게 출력할 수 있는 방법은??\n",
    "\n",
    "\n",
    "\n",
    "                     \n"
   ]
  },
  {
   "cell_type": "markdown",
   "metadata": {},
   "source": [
    "#### [실습] items=[“컴퓨터”, “마우스”, “키보드”], prices=[10000, 500, 200], Dictionary comprehension을 활용하여 item별 가격을 가지는 dictionary를 생성하시오\n"
   ]
  },
  {
   "cell_type": "code",
   "execution_count": 40,
   "metadata": {},
   "outputs": [
    {
     "name": "stdout",
     "output_type": "stream",
     "text": [
      "{'컴퓨터': 10000, '마우스': 500, '키보드': 200}\n"
     ]
    }
   ],
   "source": [
    "items=[\"컴퓨터\", \"마우스\", \"키보드\"]\n",
    "prices=[10000, 500, 200]\n",
    "Dict_item = {item : price for item, price in zip(items, prices)}\n",
    "print(Dict_item)\n"
   ]
  },
  {
   "cell_type": "markdown",
   "metadata": {},
   "source": [
    "#### [실습] students=[“송혜교”, “송중기”, “김지원”, “진구”]에 100번부터 103번까지의 key를 부여하는 dictionary를 구성하고, 101번을 출력하시오\n"
   ]
  },
  {
   "cell_type": "code",
   "execution_count": 42,
   "metadata": {},
   "outputs": [
    {
     "name": "stdout",
     "output_type": "stream",
     "text": [
      "{100: '송혜교', 101: '송중기', 102: '김지원'}\n"
     ]
    },
    {
     "data": {
      "text/plain": [
       "'송중기'"
      ]
     },
     "execution_count": 42,
     "metadata": {},
     "output_type": "execute_result"
    }
   ],
   "source": [
    "students=[\"송혜교\", \"송중기\", \"김지원\", \"진구\"]  \n",
    "score_table = {number: student for number, student in zip(range(100,103), students)}\n",
    "print(score_table)\n",
    "score_table[101]\n"
   ]
  },
  {
   "cell_type": "markdown",
   "metadata": {},
   "source": [
    "####  break vs. continue"
   ]
  },
  {
   "cell_type": "code",
   "execution_count": 43,
   "metadata": {},
   "outputs": [
    {
     "name": "stdout",
     "output_type": "stream",
     "text": [
      "3\n",
      "6\n",
      "9\n",
      "========================\n",
      "3\n"
     ]
    }
   ],
   "source": [
    "# break : 강제적으로 반복문 중단\n",
    "# 예제: 첫번째 3의 배수를 출력하는 방법\n",
    "list=[1,2,3,4,5,6,7,8,9]\n",
    "for i in list:\n",
    "    if i%3==0:\n",
    "        print(i)\n",
    "\n",
    "print(\"========================\")        \n",
    "list=[1,2,3,4,5,6,7,8,9]\n",
    "for i in list:\n",
    "    if i%3==0:\n",
    "        print(i)\n",
    "        break\n",
    "        \n"
   ]
  },
  {
   "cell_type": "code",
   "execution_count": 44,
   "metadata": {},
   "outputs": [
    {
     "name": "stdout",
     "output_type": "stream",
     "text": [
      "1\n",
      "3\n",
      "5\n",
      "7\n",
      "9\n",
      "========================\n",
      "1\n",
      "3\n",
      "5\n",
      "7\n",
      "9\n"
     ]
    }
   ],
   "source": [
    "# continue : 반복문의 나머지 부분을 보지 않고, 반복문의 처음으로 돌아가는 기능 (SKIP)\n",
    "# 예제: 홀수만 출력하는 방법\n",
    "list=[1,2,3,4,5,6,7,8,9]\n",
    "for i in list:\n",
    "    if i%2!=0:\n",
    "        print(i)\n",
    "print(\"========================\")\n",
    "list=[1,2,3,4,5,6,7,8,9]\n",
    "for i in list:\n",
    "    if i%2==0:\n",
    "        continue\n",
    "    print(i)\n"
   ]
  },
  {
   "cell_type": "markdown",
   "metadata": {},
   "source": [
    "#### [실습] 20부터 100까지 첫번째 8의 배수만 출력하시오. \n"
   ]
  },
  {
   "cell_type": "code",
   "execution_count": 46,
   "metadata": {},
   "outputs": [
    {
     "name": "stdout",
     "output_type": "stream",
     "text": [
      "24\n"
     ]
    }
   ],
   "source": [
    "for value in range(20, 100):\n",
    "    if value%8==0:\n",
    "        print(value)\n",
    "        break\n"
   ]
  },
  {
   "cell_type": "markdown",
   "metadata": {},
   "source": [
    "#### [실습] continue문을 이용하여 20부터 100까지 숫자중에서 6의 배수를 출력하시오\n"
   ]
  },
  {
   "cell_type": "code",
   "execution_count": 47,
   "metadata": {},
   "outputs": [
    {
     "name": "stdout",
     "output_type": "stream",
     "text": [
      "24\n",
      "30\n",
      "36\n",
      "42\n",
      "48\n",
      "54\n",
      "60\n",
      "66\n",
      "72\n",
      "78\n",
      "84\n",
      "90\n",
      "96\n"
     ]
    }
   ],
   "source": [
    "for value in range(20, 100):\n",
    "    if value%6!=0:\n",
    "        continue\n",
    "    print(value)\n"
   ]
  },
  {
   "cell_type": "markdown",
   "metadata": {},
   "source": [
    "### 예외처리 (try ~ except 구문)"
   ]
  },
  {
   "cell_type": "code",
   "execution_count": 104,
   "metadata": {},
   "outputs": [
    {
     "name": "stdout",
     "output_type": "stream",
     "text": [
      "100%는 숫자가 아니네요.\n"
     ]
    }
   ],
   "source": [
    "text='100%'\n",
    "try:\n",
    "    number=int(text)\n",
    "except ValueError:\n",
    "    print('{}는 숫자가 아니네요.'.format(text))"
   ]
  },
  {
   "cell_type": "code",
   "execution_count": 113,
   "metadata": {},
   "outputs": [
    {
     "name": "stdout",
     "output_type": "stream",
     "text": [
      "3.141592 는 무리수예요\n",
      "3.14는 무리수예요\n",
      "3.14는 무리수예요\n",
      "3.14는 무리수예요\n"
     ]
    }
   ],
   "source": [
    "### 형식을 포함한 프린트\n",
    "\n",
    "pi = 3.141592 # 원하는 출력값 \"3.14는 무리수예요\"\n",
    "print(pi,'는 무리수예요')\n",
    "print('%1.2f는 무리수예요'%pi)\n",
    "print('{:1.2f}는 무리수예요'.format(pi))\n",
    "print(f'{pi :1.2f}는 무리수예요')\n"
   ]
  },
  {
   "cell_type": "code",
   "execution_count": 114,
   "metadata": {},
   "outputs": [
    {
     "name": "stdout",
     "output_type": "stream",
     "text": [
      "Not divided by 0\n",
      "10.0\n",
      "5.0\n",
      "3.3333333333333335\n",
      "2.5\n",
      "2.0\n",
      "1.6666666666666667\n",
      "1.4285714285714286\n",
      "1.25\n",
      "1.1111111111111112\n"
     ]
    }
   ],
   "source": [
    "# Error 코드를 아는 경우\n",
    "for i in range(10):\n",
    "    try:\n",
    "        result = 10 / i\n",
    "    except ZeroDivisionError:\n",
    "        print(\"Not divided by 0\")\n",
    "    else:\n",
    "        print(10 / i)\n"
   ]
  },
  {
   "cell_type": "code",
   "execution_count": 115,
   "metadata": {},
   "outputs": [
    {
     "name": "stdout",
     "output_type": "stream",
     "text": [
      "error가 발생했습니다. \n"
     ]
    }
   ],
   "source": [
    "# Error 코드를 모르는 경우\n",
    "try:\n",
    "    a=10/0\n",
    "except:\n",
    "    print(\"error가 발생했습니다. \")\n"
   ]
  },
  {
   "cell_type": "code",
   "execution_count": 116,
   "metadata": {},
   "outputs": [
    {
     "name": "stdout",
     "output_type": "stream",
     "text": [
      "error가 발생했습니다.  division by zero\n"
     ]
    }
   ],
   "source": [
    "# Error 코드는 모르지만, 이를 알고 싶은 경우\n",
    "try:\n",
    "    a=10/0\n",
    "except Exception as ex:\n",
    "    print(\"error가 발생했습니다. \", ex)"
   ]
  },
  {
   "cell_type": "code",
   "execution_count": null,
   "metadata": {},
   "outputs": [],
   "source": [
    "# Error 코드는 모르는 경우\n",
    "try:\n",
    "    a=10/0\n",
    "except:\n",
    "    print(\"error가 발생했습니다. \")\n",
    "finally :\n",
    "    print(\"종료되었습니다.\")\n"
   ]
  },
  {
   "cell_type": "code",
   "execution_count": null,
   "metadata": {},
   "outputs": [],
   "source": [
    "# Error가 생기더라도 무시하고 싶은 경우\n",
    "try:\n",
    "    a=10/0\n",
    "except:\n",
    "    pass"
   ]
  },
  {
   "cell_type": "code",
   "execution_count": 117,
   "metadata": {},
   "outputs": [
    {
     "name": "stdout",
     "output_type": "stream",
     "text": [
      "리스트에 없는 목록입니다. \n"
     ]
    }
   ],
   "source": [
    "# Error를 직접 생성시키고 싶은 경우,\n",
    "\n",
    "def check(a):\n",
    "    allowed = ['가위', '바위']\n",
    "    if a not in allowed:\n",
    "        raise ValueError\n",
    "\n",
    "try:\n",
    "    check('보')\n",
    "except ValueError:\n",
    "    print('리스트에 없는 목록입니다. ') \n"
   ]
  },
  {
   "cell_type": "markdown",
   "metadata": {},
   "source": [
    "#### [실습] Input함수로 숫자를 입력받았을 때, 입력 숫자가 숫자이면 숫자로 변환하고, 문자이면 ValueError가 발생하고, “숫자가 아닌 문자가 입력되었습니다.”라는 구문이 출력되도록 try except 문을 사용하여 코드를 작성하시오 \n"
   ]
  },
  {
   "cell_type": "code",
   "execution_count": null,
   "metadata": {},
   "outputs": [],
   "source": [
    "a = input(\"숫자를 입력하세요?\")\n",
    "try:\n",
    "    int_a=int(a)\n",
    "except ValueError:\n",
    "    print(\"숫자가 아닌 문자가 입력되었습니다. \")\n"
   ]
  },
  {
   "cell_type": "markdown",
   "metadata": {},
   "source": [
    "#### [실습] a='abc‘, b=123, c=a+b가 어떤 에러가 발생시키는지, try except문을 이용하여 “에러가 발생하였습니다.”와 함께 에러종류를 출력하는 코드를 작성하시오. \n"
   ]
  },
  {
   "cell_type": "code",
   "execution_count": null,
   "metadata": {},
   "outputs": [],
   "source": [
    "try:\n",
    "    a='abc'\n",
    "    b=123\n",
    "    c=a+b\n",
    "except Exception as ex:\n",
    "    print(\"error가 발생했습니다. \", ex) \n"
   ]
  },
  {
   "cell_type": "code",
   "execution_count": null,
   "metadata": {},
   "outputs": [],
   "source": []
  }
 ],
 "metadata": {
  "kernelspec": {
   "display_name": "Python 3",
   "language": "python",
   "name": "python3"
  },
  "language_info": {
   "codemirror_mode": {
    "name": "ipython",
    "version": 3
   },
   "file_extension": ".py",
   "mimetype": "text/x-python",
   "name": "python",
   "nbconvert_exporter": "python",
   "pygments_lexer": "ipython3",
   "version": "3.7.6"
  }
 },
 "nbformat": 4,
 "nbformat_minor": 4
}
