{
 "cells": [
  {
   "cell_type": "code",
   "execution_count": 1,
   "metadata": {},
   "outputs": [],
   "source": [
    "from tkinter import *"
   ]
  },
  {
   "cell_type": "code",
   "execution_count": 3,
   "metadata": {},
   "outputs": [],
   "source": [
    "## 변수설정\n",
    "\n",
    "canvas_height = 400\n",
    "canvas_width = 600\n",
    "canvas_colour = 'black'\n",
    "\n",
    "# 메인\n",
    "\n",
    "window = Tk() ## 윈도우를 만드는 것\n",
    "window.title('MyEtchASketch')\n",
    "canvas = Canvas(bg = canvas_colour, height = canvas_height, width = canvas_width,\n",
    "               highlightthickness = 0) # highlightthickness : 두께\n",
    "\n",
    "canvas.pack()\n",
    "window.mainloop()"
   ]
  },
  {
   "cell_type": "code",
   "execution_count": 9,
   "metadata": {},
   "outputs": [],
   "source": [
    "from tkinter import *\n",
    "\n",
    "canvas_height = 400\n",
    "canvas_width = 600\n",
    "canvas_colour = 'black'\n",
    "\n",
    "p1_x = canvas_width / 2 ## 현재 x 좌표\n",
    "p1_y = canvas_height ## 현재 y 좌표\n",
    "p1_colour = 'green'\n",
    "line_width = 5\n",
    "line_length = 5\n",
    "\n",
    "def p1_move_N(event):\n",
    "    global p1_y # 전역변수에 있는 y 좌표값을 사용해야하기 때문에\n",
    "    canvas.create_line(p1_x, p1_y, p1_x, (p1_y-line_length), width = line_width, fill = p1_colour) # 선(박스 모양): p1_x, p1_y, p1_x, (p1_y - line_length) 이 형태로 그려줌\n",
    "    p1_y = p1_y-line_length\n",
    "\n",
    "    \n",
    "## 메인\n",
    "window = Tk() ## 윈도우를 만드는 것\n",
    "window.title('MyEtchASketch')\n",
    "canvas = Canvas(bg = canvas_colour, height = canvas_height, width = canvas_width,\n",
    "               highlightthickness = 0) # highlightthickness : 두께\n",
    "canvas.pack()    \n",
    "\n",
    "window.bind(\"<Up>\", p1_move_N) # 화살표 위를 누르면 실행하게 한다.\n",
    "window.mainloop()\n"
   ]
  },
  {
   "cell_type": "markdown",
   "metadata": {},
   "source": [
    "#### 실습 - 위쪽으로 움직이는 함수 이용해서 나머지 방향에 대해서도 함수를 만들어보시오."
   ]
  },
  {
   "cell_type": "code",
   "execution_count": 15,
   "metadata": {},
   "outputs": [],
   "source": [
    "from tkinter import *\n",
    "\n",
    "canvas_height = 400\n",
    "canvas_width = 600\n",
    "canvas_colour = 'black'\n",
    "\n",
    "p1_x = canvas_width / 2 ## 현재 x 좌표\n",
    "p1_y = canvas_height ## 현재 y 좌표\n",
    "p1_colour = 'green'\n",
    "line_width = 5\n",
    "line_length = 5\n",
    "\n",
    "def p1_move_N(event): # 위쪽방향\n",
    "    global p1_y # 전역변수에 있는 y 좌표값을 사용해야하기 때문에\n",
    "    canvas.create_line(p1_x, p1_y, p1_x, (p1_y-line_length), width = line_width, fill = p1_colour) # 선(박스 모양): p1_x, p1_y, p1_x, (p1_y - line_length) 이 형태로 그려줌\n",
    "    p1_y = p1_y-line_length\n",
    "\n",
    "def p1_move_S(event): # 아래로 내려가려면 + line_length 해야함. # 아래쪽 방향\n",
    "    global p1_y\n",
    "    canvas.create_line(p1_x, p1_y, p1_x, (p1_y+line_length), width = line_width, fill = p1_colour) # 선(박스 모양): p1_x, p1_y, p1_x, (p1_y - line_length) 이 형태로 그려줌\n",
    "    p1_y = p1_y+line_length\n",
    "\n",
    "def p1_move_E(event): # 오른쪽 방향\n",
    "    global p1_x\n",
    "    canvas.create_line(p1_x, p1_y, (p1_x+line_length), p1_y, width = line_width, fill = p1_colour) # 선(박스 모양): p1_x, p1_y, p1_x, (p1_y - line_length) 이 형태로 그려줌\n",
    "    p1_x = p1_x+line_length\n",
    "\n",
    "def p1_move_W(event): # 왼쪽 방향\n",
    "    global p1_x\n",
    "    canvas.create_line(p1_x, p1_y, (p1_x-line_length), p1_y, width = line_width, fill = p1_colour) # 선(박스 모양): p1_x, p1_y, p1_x, (p1_y - line_length) 이 형태로 그려줌\n",
    "    p1_x = p1_x-line_length\n",
    "    \n",
    "def erase_all(event):\n",
    "    canvas.delete(ALL)\n",
    "\n",
    "## 키보드랑 연동 시키기 위해서\n",
    "\n",
    "## 메인\n",
    "window = Tk() ## 윈도우를 만드는 것\n",
    "window.title('MyEtchASketch')\n",
    "canvas = Canvas(bg = canvas_colour, height = canvas_height, width = canvas_width,\n",
    "               highlightthickness = 0) # highlightthickness : 두께\n",
    "canvas.pack()    \n",
    "\n",
    "window.bind(\"<Up>\", p1_move_N) # 화살표 위를 누르면 실행하게 한다.\n",
    "window.bind(\"<Down>\", p1_move_S)\n",
    "window.bind(\"<Right>\", p1_move_E)\n",
    "window.bind(\"<Left>\", p1_move_W)\n",
    "window.bind(\"<u>\", erase_all)\n",
    "\n",
    "window.mainloop()"
   ]
  },
  {
   "cell_type": "markdown",
   "metadata": {},
   "source": [
    "#### 위의 실습코드를 조금 간단화 시키기"
   ]
  },
  {
   "cell_type": "code",
   "execution_count": 20,
   "metadata": {},
   "outputs": [],
   "source": [
    "from tkinter import *\n",
    "\n",
    "canvas_height = 400\n",
    "canvas_width = 600\n",
    "canvas_colour = 'black'\n",
    "\n",
    "p1_x = canvas_width / 2 ## 현재 x 좌표\n",
    "p1_y = canvas_height ## 현재 y 좌표\n",
    "p1_colour = 'green'\n",
    "line_width = 5\n",
    "line_length = 10\n",
    "\n",
    "def p1_move(x, y):\n",
    "    global p1_x\n",
    "    global p1_y\n",
    "    p1_new_x = p1_x + x # x: length가 추가되는 부분\n",
    "    p1_new_y = p1_y + y # x: length가 추가되는 부분\n",
    "    canvas.create_line(p1_x, p1_y, p1_new_x, p1_new_y, width = line_width, fill = p1_colour)\n",
    "    p1_x = p1_new_x\n",
    "    p1_y = p1_new_y\n",
    "    \n",
    "def p1_move_N(event):\n",
    "    p1_move(0, -line_length)\n",
    "\n",
    "def p1_move_S(event):\n",
    "    p1_move(0, line_length)\n",
    "    \n",
    "def p1_move_E(event):\n",
    "    p1_move(line_length, 0)\n",
    "    \n",
    "def p1_move_W(event):\n",
    "    p1_move(-line_length, 0)\n",
    "    \n",
    "def erase_all(event):\n",
    "    canvas.delete(ALL)\n",
    "    \n",
    "    \n",
    "## 키보드랑 연동 시키기 위해서\n",
    "\n",
    "## 메인\n",
    "window = Tk() ## 윈도우를 만드는 것\n",
    "window.title('MyEtchASketch')\n",
    "canvas = Canvas(bg = canvas_colour, height = canvas_height, width = canvas_width,\n",
    "               highlightthickness = 0) # highlightthickness : 두께\n",
    "canvas.pack()    \n",
    "\n",
    "window.bind(\"<Up>\", p1_move_N) # 화살표 위를 누르면 실행하게 한다.\n",
    "window.bind(\"<Down>\", p1_move_S)\n",
    "window.bind(\"<Right>\", p1_move_E)\n",
    "window.bind(\"<Left>\", p1_move_W)\n",
    "window.bind(\"<u>\", erase_all) # 특수기호는 <> 으로 표현함\n",
    "\n",
    "window.mainloop()"
   ]
  },
  {
   "cell_type": "markdown",
   "metadata": {},
   "source": [
    "----------------------------------------------------------------------------2교시"
   ]
  },
  {
   "cell_type": "code",
   "execution_count": 21,
   "metadata": {},
   "outputs": [
    {
     "data": {
      "text/plain": [
       "'three'"
      ]
     },
     "execution_count": 21,
     "metadata": {},
     "output_type": "execute_result"
    }
   ],
   "source": [
    "my_list = ['one', 'two', 'three', 'four']\n",
    "my_list[2]"
   ]
  },
  {
   "cell_type": "code",
   "execution_count": 25,
   "metadata": {},
   "outputs": [
    {
     "data": {
      "text/plain": [
       "'three'"
      ]
     },
     "execution_count": 25,
     "metadata": {},
     "output_type": "execute_result"
    }
   ],
   "source": [
    "my_tuple = ('one', 'two', 'three', 'four') # 메모리상에 얹혀놓고 돌아감. 훨씬 빠름\n",
    "my_tuple[2]"
   ]
  },
  {
   "cell_type": "code",
   "execution_count": 24,
   "metadata": {},
   "outputs": [
    {
     "name": "stdout",
     "output_type": "stream",
     "text": [
      "MyMagic8Ball에 오신 것을 환영합니다.\n",
      "조언을 구하고 싶으면 질문을 입력하고 엔터 키를 누르세요.\n",
      "롸\n",
      "고민 중...\n",
      "고민 중...\n",
      "고민 중...\n",
      "고민 중...\n",
      "\n",
      "당신이라면 할 수 있어요!\n",
      "\n",
      "\n",
      "마치려면 엔터 키를 누르세요.\n"
     ]
    },
    {
     "data": {
      "text/plain": [
       "''"
      ]
     },
     "execution_count": 24,
     "metadata": {},
     "output_type": "execute_result"
    }
   ],
   "source": [
    "# MyMagic8Ball\n",
    "\n",
    "import random\n",
    "\n",
    "# 답변을 입력해 봅시다.\n",
    "ans1=\"자! 해보세요!\"\n",
    "ans2=\"됐네요, 이 사람아\"\n",
    "ans3=\"뭐라고? 다시 생각해보세요.\"\n",
    "ans4=\"모르니 두려운 것입니다.\"\n",
    "ans5=\"칠푼인가요?? 제 정신이 아니군요!\"\n",
    "ans6=\"당신이라면 할 수 있어요!\"\n",
    "ans7=\"해도 그만, 안 해도 그만, 아니겠어요?\"\n",
    "ans8=\"맞아요. 당신은 올바른 선택을 했어요.\"\n",
    "\n",
    "print(\"MyMagic8Ball에 오신 것을 환영합니다.\")\n",
    "\n",
    "# 사용자의 질문 얻기\n",
    "question = input(\"조언을 구하고 싶으면 질문을 입력하고 엔터 키를 누르세요.\\n\")\n",
    "\n",
    "print(\"고민 중...\\n\" * 4)\n",
    "\n",
    "# 질문에 알맞은 답변을 하는 일에 randint() 함수를 활용합니다.\n",
    "choice=random.randint(1, 8)\n",
    "if choice==1:\n",
    "    answer=ans1\n",
    "elif choice==2:\n",
    "    answer=ans2\n",
    "elif choice==3:\n",
    "    answer=ans3\n",
    "elif choice==4:\n",
    "    answer=ans4\n",
    "elif choice==5:\n",
    "    answer=ans5\n",
    "elif choice==6:\n",
    "    answer=ans6\n",
    "elif choice==7:\n",
    "    answer=ans7\n",
    "else:\n",
    "    answer=ans8\n",
    "\n",
    "# 화면에 답변을 출력합니다.\n",
    "print(answer)\n",
    "\n",
    "input(\"\\n\\n마치려면 엔터 키를 누르세요.\")\n"
   ]
  },
  {
   "cell_type": "code",
   "execution_count": 26,
   "metadata": {
    "scrolled": true
   },
   "outputs": [
    {
     "name": "stdout",
     "output_type": "stream",
     "text": [
      "MyMagic8Ball에 오신 것을 환영합니다.\n",
      "조언을 구하고 싶으면 질문을 입력하고 엔터 키를 누르세요.\n",
      "롸\n",
      "고민 중...\n",
      "고민 중...\n",
      "고민 중...\n",
      "고민 중...\n",
      "\n",
      "칠푼인가요?? 제 정신이 아니군요!\n",
      "\n",
      "\n",
      "마치려면 엔터 키를 누르세요.\n"
     ]
    },
    {
     "data": {
      "text/plain": [
       "''"
      ]
     },
     "execution_count": 26,
     "metadata": {},
     "output_type": "execute_result"
    }
   ],
   "source": [
    "# MyMagic8Ball\n",
    "\n",
    "import random\n",
    "\n",
    "# 답변을 입력해 봅시다.\n",
    "answers = (\n",
    "   \"자! 해보세요!\",\n",
    "   \"됐네요, 이 사람아\",\n",
    "   \"뭐라고? 다시 생각해보세요.\",\n",
    "   \"모르니 두려운 것입니다.\",\n",
    "   \"칠푼인가요?? 제 정신이 아니군요!\",\n",
    "   \"당신이라면 할 수 있어요!\",\n",
    "   \"해도 그만, 안 해도 그만, 아니겠어요?\",\n",
    "   \"맞아요. 당신은 올바른 선택을 했어요.\"\n",
    ")\n",
    "print(\"MyMagic8Ball에 오신 것을 환영합니다.\")\n",
    "\n",
    "# 사용자의 질문 얻기\n",
    "question = input(\"조언을 구하고 싶으면 질문을 입력하고 엔터 키를 누르세요.\\n\")\n",
    "\n",
    "print(\"고민 중...\\n\" * 4)\n",
    "\n",
    "# 질문에 알맞은 답변을 하는 일에 randint() 함수를 활용합니다.\n",
    "choice=random.randint(0, 7)\n",
    "\n",
    "# 화면에 답변을 출력합니다.\n",
    "print(answers[choice])\n",
    "\n",
    "input(\"\\n\\n마치려면 엔터 키를 누르세요.\")\n"
   ]
  },
  {
   "cell_type": "code",
   "execution_count": 27,
   "metadata": {},
   "outputs": [
    {
     "name": "stdout",
     "output_type": "stream",
     "text": [
      "MyMagic8Ball에 오신 것을 환영합니다.\n",
      "조언을 구하고 싶으면 질문을 입력하고 엔터 키를 누르세요.\n",
      "롸\n",
      "고민 중...\n",
      "고민 중...\n",
      "고민 중...\n",
      "고민 중...\n",
      "\n",
      "됐네요, 이 사람아\n",
      "\n",
      "\n",
      "마치려면 엔터 키를 누르세요.\n"
     ]
    },
    {
     "data": {
      "text/plain": [
       "''"
      ]
     },
     "execution_count": 27,
     "metadata": {},
     "output_type": "execute_result"
    }
   ],
   "source": [
    "# MyMagic8Ball\n",
    "\n",
    "import random\n",
    "\n",
    "# 답변을 입력해 봅시다.\n",
    "answers = [\n",
    "   \"자! 해보세요!\",\n",
    "   \"됐네요, 이 사람아\",\n",
    "   \"뭐라고? 다시 생각해보세요.\",\n",
    "   \"모르니 두려운 것입니다.\",\n",
    "   \"칠푼인가요?? 제 정신이 아니군요!\",\n",
    "   \"당신이라면 할 수 있어요!\",\n",
    "   \"해도 그만, 안 해도 그만, 아니겠어요?\",\n",
    "   \"맞아요. 당신은 올바른 선택을 했어요.\"\n",
    "]\n",
    "print(\"MyMagic8Ball에 오신 것을 환영합니다.\")\n",
    "\n",
    "# 사용자의 질문 얻기\n",
    "question = input(\"조언을 구하고 싶으면 질문을 입력하고 엔터 키를 누르세요.\\n\")\n",
    "\n",
    "print(\"고민 중...\\n\" * 4)\n",
    "\n",
    "# 질문에 알맞은 답변을 하는 일에 randint() 함수를 활용합니다.\n",
    "choice=random.randint(0, 7)\n",
    "\n",
    "# 화면에 답변을 출력합니다.\n",
    "print(answers[choice])\n",
    "\n",
    "input(\"\\n\\n마치려면 엔터 키를 누르세요.\")\n"
   ]
  },
  {
   "cell_type": "markdown",
   "metadata": {},
   "source": [
    "#### 리스트 관련 기능"
   ]
  },
  {
   "cell_type": "code",
   "execution_count": 30,
   "metadata": {},
   "outputs": [
    {
     "name": "stdout",
     "output_type": "stream",
     "text": [
      "['b', 'c']\n",
      "['b', 'c', 'a', 'd']\n",
      "['p', 'b', 'c', 'a', 'd']\n",
      "['p', 'b', 'c', 'a', 'd', 'f', 'e', 'g']\n",
      "['a', 'b', 'c', 'd', 'p']\n",
      "['start', 'b', 'c', 'd', 'p']\n",
      "1\n",
      "5\n",
      "start.b.c.d.p\n",
      "start/b/c/d/p\n",
      "start\n",
      "b\n",
      "c\n",
      "d\n",
      "p\n"
     ]
    }
   ],
   "source": [
    "L = ['b', 'c', 'a']\n",
    "\n",
    "print(L[0:2])\n",
    "\n",
    "L.append('d') # 'd' 추가\n",
    "print(L)\n",
    "\n",
    "L.insert(0, 'p') # 0 위치에 p 추가\n",
    "print(L)\n",
    "\n",
    "S = L + ['f', 'e', 'g']\n",
    "M = ['f', 'e', 'g']\n",
    "S = L + M\n",
    "print(S)\n",
    "\n",
    "L.sort() # 정렬\n",
    "print(L)\n",
    "\n",
    "# del(L[1:3]) # 1이상 3미만 삭제\n",
    "L[0] = \"start\" # 치환\n",
    "\n",
    "print(L)\n",
    "print(L.index('b')) # 'b'가 위치한 자리 찾기\n",
    "print(len(L))\n",
    "print('.'.join(L)) # 각 요소들이 문자열인 경우. 하나로 합친 문자열을 반환\n",
    "print('/'.join(L))\n",
    "print('\\n'.join(L))"
   ]
  },
  {
   "cell_type": "code",
   "execution_count": 48,
   "metadata": {},
   "outputs": [
    {
     "name": "stdout",
     "output_type": "stream",
     "text": [
      "명지대학교\n"
     ]
    }
   ],
   "source": [
    "list1 = ['명', '지', '대', '학', '교']\n",
    "print(''.join(list1))"
   ]
  },
  {
   "cell_type": "markdown",
   "metadata": {},
   "source": [
    "#### 실습(1)\n",
    "#### - 리스트 rainbow 에 무지개 색을 입력한 후 , 사용자에게 몇번째 색을 알고 싶은 지 물어보고 , \n",
    "####   이에 대한 답으로 '무지개의 *번째 색은 ***입니다' 를 출력하는 코드를 작성하시오\n",
    "#### - 리스트 rainbow “ 주황 보라 ” 를 지우고 , 빨강 ” 앞뒤에 흰색 과 검정색 을 각각 추가하시오 . \n",
    "#### rainbow=['빨강','주황','노랑','초록','파랑','남색','보라'] --> rainbow=['흰색', '빨강', '검정색']"
   ]
  },
  {
   "cell_type": "code",
   "execution_count": 49,
   "metadata": {},
   "outputs": [
    {
     "name": "stdout",
     "output_type": "stream",
     "text": [
      "몇 번째 색을 알고 싶나요?\n",
      "5\n",
      "무지개의 5 번째 색은 파랑 입니다.\n"
     ]
    }
   ],
   "source": [
    "rainbow = ['빨강', '주황', '노랑', '초록', '파랑', '남색', '보라색']\n",
    "\n",
    "question = int(input(\"몇 번째 색을 알고 싶나요?\\n\"))\n",
    "\n",
    "print('무지개의', question, '번째 색은', rainbow[question - 1], '입니다.')\n"
   ]
  },
  {
   "cell_type": "code",
   "execution_count": 51,
   "metadata": {},
   "outputs": [
    {
     "name": "stdout",
     "output_type": "stream",
     "text": [
      "['빨강', '흰색', '검정색']\n"
     ]
    }
   ],
   "source": [
    "del rainbow[1: 7]\n",
    "rainbow.append('흰색')\n",
    "rainbow.insert(2, '검정색')\n",
    "print(rainbow)"
   ]
  },
  {
   "cell_type": "code",
   "execution_count": 52,
   "metadata": {},
   "outputs": [],
   "source": [
    "my_dictionary = {1: '고양이', 2:'개', 3:'말', 4: '물고기'}"
   ]
  },
  {
   "cell_type": "code",
   "execution_count": 58,
   "metadata": {},
   "outputs": [
    {
     "name": "stdout",
     "output_type": "stream",
     "text": [
      "고양이\n",
      "개\n",
      "말\n",
      "물고기\n",
      "dict_keys([1, 2, 3, 4])\n",
      "dict_values(['고양이', '개', '말', '물고기'])\n",
      "dict_items([(1, '고양이'), (2, '개'), (3, '말'), (4, '물고기')])\n"
     ]
    }
   ],
   "source": [
    "print(my_dictionary[1])\n",
    "print(my_dictionary[2])\n",
    "print(my_dictionary[3])\n",
    "print(my_dictionary[4])\n",
    "\n",
    "print(my_dictionary.keys())\n",
    "print(my_dictionary.values())\n",
    "print(my_dictionary.items())"
   ]
  },
  {
   "cell_type": "code",
   "execution_count": 59,
   "metadata": {},
   "outputs": [
    {
     "ename": "ValueError",
     "evalue": "too many values to unpack (expected 2)",
     "output_type": "error",
     "traceback": [
      "\u001b[1;31m---------------------------------------------------------------------------\u001b[0m",
      "\u001b[1;31mValueError\u001b[0m                                Traceback (most recent call last)",
      "\u001b[1;32m<ipython-input-59-85d9c5cb23a9>\u001b[0m in \u001b[0;36m<module>\u001b[1;34m\u001b[0m\n\u001b[1;32m----> 1\u001b[1;33m \u001b[0ma\u001b[0m\u001b[1;33m,\u001b[0m \u001b[0mb\u001b[0m \u001b[1;33m=\u001b[0m \u001b[0mmy_dictionary\u001b[0m\u001b[1;33m.\u001b[0m\u001b[0mitems\u001b[0m\u001b[1;33m(\u001b[0m\u001b[1;33m)\u001b[0m\u001b[1;33m\u001b[0m\u001b[1;33m\u001b[0m\u001b[0m\n\u001b[0m\u001b[0;32m      2\u001b[0m \u001b[0mprint\u001b[0m\u001b[1;33m(\u001b[0m\u001b[0ma\u001b[0m\u001b[1;33m)\u001b[0m\u001b[1;33m\u001b[0m\u001b[1;33m\u001b[0m\u001b[0m\n\u001b[0;32m      3\u001b[0m \u001b[0mprint\u001b[0m\u001b[1;33m(\u001b[0m\u001b[0mb\u001b[0m\u001b[1;33m)\u001b[0m\u001b[1;33m\u001b[0m\u001b[1;33m\u001b[0m\u001b[0m\n",
      "\u001b[1;31mValueError\u001b[0m: too many values to unpack (expected 2)"
     ]
    }
   ],
   "source": [
    "a, b = my_dictionary.items()\n",
    "print(a)\n",
    "print(b)"
   ]
  },
  {
   "cell_type": "markdown",
   "metadata": {},
   "source": [
    "#### 실습(2) - ['김도현', '김경민', '김종만', '유우연'], ['데이터마이닝', '경영과학', '신뢰성공학', '생산계획 및 통제']을 professors와 courses 라는 key 로 갖는 dictionary 를 만든 후 , 교수 이름순으로 sorting하시오"
   ]
  },
  {
   "cell_type": "code",
   "execution_count": 76,
   "metadata": {},
   "outputs": [
    {
     "name": "stdout",
     "output_type": "stream",
     "text": [
      "['courses', 'professors']\n",
      "['김경민', '김도현', '김종만', '유우연']\n",
      "['유우연', '김종만', '김도현', '김경민']\n",
      "['경영과학', '데이터마이닝', '생산계획 및 통제', '신뢰성공학']\n"
     ]
    }
   ],
   "source": [
    "dic = {}\n",
    "dic = {'professors': ['김도현', '김경민', '김종만', '유우연'],\n",
    "        'courses': ['데이터마이닝', '경영과학', '신뢰성공학', '생산계획 및 통제']}\n",
    "\n",
    "print(sorted(dic))\n",
    "print(sorted(dic['professors']))\n",
    "print(sorted(dic['professors'], reverse = True))\n",
    "print(sorted(dic['courses']))"
   ]
  },
  {
   "cell_type": "markdown",
   "metadata": {},
   "source": [
    "#### 실습(3) \n",
    "#### - for 문을 활용해서 list 의 내용을 한줄씩 출력하는 프로그램을 작성해 보세요 List=[‘가위 ’, 바위 ’, 보']\n",
    "#### - for 문을 활용해서 3 부터 10 까지 쉼표로 구분하면서 한 줄에 출력하는 프로그램을 작성해 보세요 3, 4, 5, 6, 7, 8, 9, 10"
   ]
  },
  {
   "cell_type": "code",
   "execution_count": 86,
   "metadata": {},
   "outputs": [
    {
     "name": "stdout",
     "output_type": "stream",
     "text": [
      "가위\n",
      "바위\n",
      "보\n",
      "가위\n",
      "바위\n",
      "보\n",
      "가위\n",
      "바위\n",
      "보\n",
      "(0, '가위')\n",
      "(1, '바위')\n",
      "(2, '보')\n",
      "0 ,  가위\n",
      "1 ,  바위\n",
      "2 ,  보\n"
     ]
    }
   ],
   "source": [
    "List=['가위', '바위', '보']\n",
    "for i in List:\n",
    "    print(i)\n",
    "\n",
    "for i in range(3):\n",
    "    print(List[i])\n",
    "for i in range(len(List)):\n",
    "    print(List[i])\n",
    "for i in enumerate(List):\n",
    "    print(i)\n",
    "for i, names in enumerate(List):\n",
    "    print(i, ', ', names)"
   ]
  },
  {
   "cell_type": "code",
   "execution_count": 81,
   "metadata": {
    "scrolled": true
   },
   "outputs": [
    {
     "name": "stdout",
     "output_type": "stream",
     "text": [
      "3,4,5,6,7,8,9,10\n"
     ]
    }
   ],
   "source": [
    "list1 = []\n",
    "for i in range(3, 11):\n",
    "    list1.append(str(i))\n",
    "print(','.join(list1))"
   ]
  }
 ],
 "metadata": {
  "kernelspec": {
   "display_name": "Python 3",
   "language": "python",
   "name": "python3"
  },
  "language_info": {
   "codemirror_mode": {
    "name": "ipython",
    "version": 3
   },
   "file_extension": ".py",
   "mimetype": "text/x-python",
   "name": "python",
   "nbconvert_exporter": "python",
   "pygments_lexer": "ipython3",
   "version": "3.7.6"
  }
 },
 "nbformat": 4,
 "nbformat_minor": 4
}
