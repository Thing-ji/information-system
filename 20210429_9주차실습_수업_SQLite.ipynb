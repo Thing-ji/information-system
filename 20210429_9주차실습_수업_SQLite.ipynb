{
 "cells": [
  {
   "cell_type": "markdown",
   "metadata": {},
   "source": [
    "### 데이터베이스"
   ]
  },
  {
   "cell_type": "code",
   "execution_count": 1,
   "metadata": {},
   "outputs": [
    {
     "data": {
      "text/plain": [
       "[('Central Africa', 330993)]"
      ]
     },
     "execution_count": 1,
     "metadata": {},
     "output_type": "execute_result"
    }
   ],
   "source": [
    "import sqlite3\n",
    "con=sqlite3.connect('example.db')\n",
    "cur=con.cursor()\n",
    "cur.execute('CREATE TABLE PopByRegion(Region TEXT, Population INTEGER)') # execute: sql문 실행\n",
    "cur.execute('INSERT INTO PopByRegion VALUES(\"Central Africa\", 330993)')\n",
    "cur.execute('SELECT Region, Population FROM PopByRegion')\n",
    "cur.fetchall() # 결과값 보고 싶을 때, 여기에 있는 모든 결과값을 보겠다."
   ]
  },
  {
   "cell_type": "code",
   "execution_count": 2,
   "metadata": {},
   "outputs": [],
   "source": [
    "con.commit() # 저장\n",
    "con.close() # db연동 끊기"
   ]
  },
  {
   "cell_type": "code",
   "execution_count": 3,
   "metadata": {},
   "outputs": [
    {
     "data": {
      "text/html": [
       "<div>\n",
       "<style scoped>\n",
       "    .dataframe tbody tr th:only-of-type {\n",
       "        vertical-align: middle;\n",
       "    }\n",
       "\n",
       "    .dataframe tbody tr th {\n",
       "        vertical-align: top;\n",
       "    }\n",
       "\n",
       "    .dataframe thead th {\n",
       "        text-align: right;\n",
       "    }\n",
       "</style>\n",
       "<table border=\"1\" class=\"dataframe\">\n",
       "  <thead>\n",
       "    <tr style=\"text-align: right;\">\n",
       "      <th></th>\n",
       "      <th>Region</th>\n",
       "      <th>Population</th>\n",
       "    </tr>\n",
       "  </thead>\n",
       "  <tbody>\n",
       "    <tr>\n",
       "      <th>0</th>\n",
       "      <td>Asia Pacific</td>\n",
       "      <td>785468</td>\n",
       "    </tr>\n",
       "    <tr>\n",
       "      <th>1</th>\n",
       "      <td>Central Africa</td>\n",
       "      <td>330993</td>\n",
       "    </tr>\n",
       "    <tr>\n",
       "      <th>2</th>\n",
       "      <td>Eastern Asia</td>\n",
       "      <td>1362955</td>\n",
       "    </tr>\n",
       "    <tr>\n",
       "      <th>3</th>\n",
       "      <td>Eastern Europe</td>\n",
       "      <td>223427</td>\n",
       "    </tr>\n",
       "    <tr>\n",
       "      <th>4</th>\n",
       "      <td>Japan</td>\n",
       "      <td>100562</td>\n",
       "    </tr>\n",
       "    <tr>\n",
       "      <th>5</th>\n",
       "      <td>Middle East</td>\n",
       "      <td>687630</td>\n",
       "    </tr>\n",
       "    <tr>\n",
       "      <th>6</th>\n",
       "      <td>North America</td>\n",
       "      <td>661157</td>\n",
       "    </tr>\n",
       "    <tr>\n",
       "      <th>7</th>\n",
       "      <td>Northern Africa</td>\n",
       "      <td>1037463</td>\n",
       "    </tr>\n",
       "    <tr>\n",
       "      <th>8</th>\n",
       "      <td>South America</td>\n",
       "      <td>593121</td>\n",
       "    </tr>\n",
       "    <tr>\n",
       "      <th>9</th>\n",
       "      <td>Southeastern Africa</td>\n",
       "      <td>743112</td>\n",
       "    </tr>\n",
       "    <tr>\n",
       "      <th>10</th>\n",
       "      <td>Southern Asia</td>\n",
       "      <td>2051941</td>\n",
       "    </tr>\n",
       "    <tr>\n",
       "      <th>11</th>\n",
       "      <td>Western Europe</td>\n",
       "      <td>387933</td>\n",
       "    </tr>\n",
       "  </tbody>\n",
       "</table>\n",
       "</div>"
      ],
      "text/plain": [
       "                 Region  Population\n",
       "0          Asia Pacific      785468\n",
       "1        Central Africa      330993\n",
       "2          Eastern Asia     1362955\n",
       "3        Eastern Europe      223427\n",
       "4                 Japan      100562\n",
       "5           Middle East      687630\n",
       "6         North America      661157\n",
       "7       Northern Africa     1037463\n",
       "8         South America      593121\n",
       "9   Southeastern Africa      743112\n",
       "10        Southern Asia     2051941\n",
       "11       Western Europe      387933"
      ]
     },
     "metadata": {},
     "output_type": "display_data"
    },
    {
     "data": {
      "text/html": [
       "<div>\n",
       "<style scoped>\n",
       "    .dataframe tbody tr th:only-of-type {\n",
       "        vertical-align: middle;\n",
       "    }\n",
       "\n",
       "    .dataframe tbody tr th {\n",
       "        vertical-align: top;\n",
       "    }\n",
       "\n",
       "    .dataframe thead th {\n",
       "        text-align: right;\n",
       "    }\n",
       "</style>\n",
       "<table border=\"1\" class=\"dataframe\">\n",
       "  <thead>\n",
       "    <tr style=\"text-align: right;\">\n",
       "      <th></th>\n",
       "      <th>Region</th>\n",
       "      <th>Country</th>\n",
       "      <th>Population</th>\n",
       "    </tr>\n",
       "  </thead>\n",
       "  <tbody>\n",
       "    <tr>\n",
       "      <th>0</th>\n",
       "      <td>Eastern Asia</td>\n",
       "      <td>China</td>\n",
       "      <td>1285238</td>\n",
       "    </tr>\n",
       "    <tr>\n",
       "      <th>1</th>\n",
       "      <td>Eastern Asia</td>\n",
       "      <td>DPR Korea</td>\n",
       "      <td>24056</td>\n",
       "    </tr>\n",
       "    <tr>\n",
       "      <th>2</th>\n",
       "      <td>Eastern Asia</td>\n",
       "      <td>Hong Kong</td>\n",
       "      <td>8764</td>\n",
       "    </tr>\n",
       "    <tr>\n",
       "      <th>3</th>\n",
       "      <td>Eastern Asia</td>\n",
       "      <td>Mongolia</td>\n",
       "      <td>3407</td>\n",
       "    </tr>\n",
       "    <tr>\n",
       "      <th>4</th>\n",
       "      <td>Eastern Asia</td>\n",
       "      <td>Republic of Korea</td>\n",
       "      <td>41491</td>\n",
       "    </tr>\n",
       "    <tr>\n",
       "      <th>5</th>\n",
       "      <td>Eastern Asia</td>\n",
       "      <td>Taiwan</td>\n",
       "      <td>1433</td>\n",
       "    </tr>\n",
       "    <tr>\n",
       "      <th>6</th>\n",
       "      <td>North America</td>\n",
       "      <td>Bahamas</td>\n",
       "      <td>368</td>\n",
       "    </tr>\n",
       "    <tr>\n",
       "      <th>7</th>\n",
       "      <td>North America</td>\n",
       "      <td>Canada</td>\n",
       "      <td>40876</td>\n",
       "    </tr>\n",
       "    <tr>\n",
       "      <th>8</th>\n",
       "      <td>North America</td>\n",
       "      <td>Greenland</td>\n",
       "      <td>43</td>\n",
       "    </tr>\n",
       "    <tr>\n",
       "      <th>9</th>\n",
       "      <td>North America</td>\n",
       "      <td>Mexico</td>\n",
       "      <td>126875</td>\n",
       "    </tr>\n",
       "    <tr>\n",
       "      <th>10</th>\n",
       "      <td>North America</td>\n",
       "      <td>United States</td>\n",
       "      <td>493038</td>\n",
       "    </tr>\n",
       "  </tbody>\n",
       "</table>\n",
       "</div>"
      ],
      "text/plain": [
       "           Region            Country  Population\n",
       "0    Eastern Asia              China     1285238\n",
       "1    Eastern Asia          DPR Korea       24056\n",
       "2    Eastern Asia          Hong Kong        8764\n",
       "3    Eastern Asia           Mongolia        3407\n",
       "4    Eastern Asia  Republic of Korea       41491\n",
       "5    Eastern Asia             Taiwan        1433\n",
       "6   North America            Bahamas         368\n",
       "7   North America             Canada       40876\n",
       "8   North America          Greenland          43\n",
       "9   North America             Mexico      126875\n",
       "10  North America      United States      493038"
      ]
     },
     "metadata": {},
     "output_type": "display_data"
    }
   ],
   "source": [
    "# CSV 파일 불러오기\n",
    "import pandas as pd\n",
    "PopByRegion_df = pd.read_csv('PopByRegion.csv')\n",
    "PopByCountry_df = pd.read_csv('PopByCountry.csv')\n",
    "display(PopByRegion_df)\n",
    "display(PopByCountry_df)\n",
    "\n",
    "# DataFrame을 DB에 저장\n",
    "import sqlite3\n",
    "con=sqlite3.connect('population.db') # 만약 db가 없으면 새로 만들어짐\n",
    "PopByRegion_df.to_sql('PopByRegion', con, index=False) # PopByRegion라는 db에 PopByRegion_df를 con이라는 객체에 저장하겠다.\n",
    "PopByCountry_df.to_sql('PopByCountry', con, index=False) \n",
    "con.commit()"
   ]
  },
  {
   "cell_type": "markdown",
   "metadata": {},
   "source": [
    "#### 데이터베이스에 저장된 테이블과 데이터를 보여주는 프로그램 설치 (DB Browser for SQLite)\n",
    "#### 웹사이트 주소 http://sqlitebrowser.org/"
   ]
  },
  {
   "cell_type": "code",
   "execution_count": 4,
   "metadata": {},
   "outputs": [
    {
     "data": {
      "text/html": [
       "<div>\n",
       "<style scoped>\n",
       "    .dataframe tbody tr th:only-of-type {\n",
       "        vertical-align: middle;\n",
       "    }\n",
       "\n",
       "    .dataframe tbody tr th {\n",
       "        vertical-align: top;\n",
       "    }\n",
       "\n",
       "    .dataframe thead th {\n",
       "        text-align: right;\n",
       "    }\n",
       "</style>\n",
       "<table border=\"1\" class=\"dataframe\">\n",
       "  <thead>\n",
       "    <tr style=\"text-align: right;\">\n",
       "      <th></th>\n",
       "      <th>Region</th>\n",
       "      <th>Population</th>\n",
       "    </tr>\n",
       "  </thead>\n",
       "  <tbody>\n",
       "    <tr>\n",
       "      <th>0</th>\n",
       "      <td>Asia Pacific</td>\n",
       "      <td>785468</td>\n",
       "    </tr>\n",
       "    <tr>\n",
       "      <th>1</th>\n",
       "      <td>Central Africa</td>\n",
       "      <td>330993</td>\n",
       "    </tr>\n",
       "    <tr>\n",
       "      <th>2</th>\n",
       "      <td>Eastern Asia</td>\n",
       "      <td>1362955</td>\n",
       "    </tr>\n",
       "    <tr>\n",
       "      <th>3</th>\n",
       "      <td>Eastern Europe</td>\n",
       "      <td>223427</td>\n",
       "    </tr>\n",
       "    <tr>\n",
       "      <th>4</th>\n",
       "      <td>Japan</td>\n",
       "      <td>100562</td>\n",
       "    </tr>\n",
       "    <tr>\n",
       "      <th>5</th>\n",
       "      <td>Middle East</td>\n",
       "      <td>687630</td>\n",
       "    </tr>\n",
       "    <tr>\n",
       "      <th>6</th>\n",
       "      <td>North America</td>\n",
       "      <td>661157</td>\n",
       "    </tr>\n",
       "    <tr>\n",
       "      <th>7</th>\n",
       "      <td>Northern Africa</td>\n",
       "      <td>1037463</td>\n",
       "    </tr>\n",
       "    <tr>\n",
       "      <th>8</th>\n",
       "      <td>South America</td>\n",
       "      <td>593121</td>\n",
       "    </tr>\n",
       "    <tr>\n",
       "      <th>9</th>\n",
       "      <td>Southeastern Africa</td>\n",
       "      <td>743112</td>\n",
       "    </tr>\n",
       "    <tr>\n",
       "      <th>10</th>\n",
       "      <td>Southern Asia</td>\n",
       "      <td>2051941</td>\n",
       "    </tr>\n",
       "    <tr>\n",
       "      <th>11</th>\n",
       "      <td>Western Europe</td>\n",
       "      <td>387933</td>\n",
       "    </tr>\n",
       "  </tbody>\n",
       "</table>\n",
       "</div>"
      ],
      "text/plain": [
       "                 Region  Population\n",
       "0          Asia Pacific      785468\n",
       "1        Central Africa      330993\n",
       "2          Eastern Asia     1362955\n",
       "3        Eastern Europe      223427\n",
       "4                 Japan      100562\n",
       "5           Middle East      687630\n",
       "6         North America      661157\n",
       "7       Northern Africa     1037463\n",
       "8         South America      593121\n",
       "9   Southeastern Africa      743112\n",
       "10        Southern Asia     2051941\n",
       "11       Western Europe      387933"
      ]
     },
     "metadata": {},
     "output_type": "display_data"
    },
    {
     "data": {
      "text/html": [
       "<div>\n",
       "<style scoped>\n",
       "    .dataframe tbody tr th:only-of-type {\n",
       "        vertical-align: middle;\n",
       "    }\n",
       "\n",
       "    .dataframe tbody tr th {\n",
       "        vertical-align: top;\n",
       "    }\n",
       "\n",
       "    .dataframe thead th {\n",
       "        text-align: right;\n",
       "    }\n",
       "</style>\n",
       "<table border=\"1\" class=\"dataframe\">\n",
       "  <thead>\n",
       "    <tr style=\"text-align: right;\">\n",
       "      <th></th>\n",
       "      <th>Region</th>\n",
       "      <th>Country</th>\n",
       "      <th>Population</th>\n",
       "    </tr>\n",
       "  </thead>\n",
       "  <tbody>\n",
       "    <tr>\n",
       "      <th>0</th>\n",
       "      <td>Eastern Asia</td>\n",
       "      <td>China</td>\n",
       "      <td>1285238</td>\n",
       "    </tr>\n",
       "    <tr>\n",
       "      <th>1</th>\n",
       "      <td>Eastern Asia</td>\n",
       "      <td>DPR Korea</td>\n",
       "      <td>24056</td>\n",
       "    </tr>\n",
       "    <tr>\n",
       "      <th>2</th>\n",
       "      <td>Eastern Asia</td>\n",
       "      <td>Hong Kong</td>\n",
       "      <td>8764</td>\n",
       "    </tr>\n",
       "    <tr>\n",
       "      <th>3</th>\n",
       "      <td>Eastern Asia</td>\n",
       "      <td>Mongolia</td>\n",
       "      <td>3407</td>\n",
       "    </tr>\n",
       "    <tr>\n",
       "      <th>4</th>\n",
       "      <td>Eastern Asia</td>\n",
       "      <td>Republic of Korea</td>\n",
       "      <td>41491</td>\n",
       "    </tr>\n",
       "    <tr>\n",
       "      <th>5</th>\n",
       "      <td>Eastern Asia</td>\n",
       "      <td>Taiwan</td>\n",
       "      <td>1433</td>\n",
       "    </tr>\n",
       "    <tr>\n",
       "      <th>6</th>\n",
       "      <td>North America</td>\n",
       "      <td>Bahamas</td>\n",
       "      <td>368</td>\n",
       "    </tr>\n",
       "    <tr>\n",
       "      <th>7</th>\n",
       "      <td>North America</td>\n",
       "      <td>Canada</td>\n",
       "      <td>40876</td>\n",
       "    </tr>\n",
       "    <tr>\n",
       "      <th>8</th>\n",
       "      <td>North America</td>\n",
       "      <td>Greenland</td>\n",
       "      <td>43</td>\n",
       "    </tr>\n",
       "    <tr>\n",
       "      <th>9</th>\n",
       "      <td>North America</td>\n",
       "      <td>Mexico</td>\n",
       "      <td>126875</td>\n",
       "    </tr>\n",
       "    <tr>\n",
       "      <th>10</th>\n",
       "      <td>North America</td>\n",
       "      <td>United States</td>\n",
       "      <td>493038</td>\n",
       "    </tr>\n",
       "  </tbody>\n",
       "</table>\n",
       "</div>"
      ],
      "text/plain": [
       "           Region            Country  Population\n",
       "0    Eastern Asia              China     1285238\n",
       "1    Eastern Asia          DPR Korea       24056\n",
       "2    Eastern Asia          Hong Kong        8764\n",
       "3    Eastern Asia           Mongolia        3407\n",
       "4    Eastern Asia  Republic of Korea       41491\n",
       "5    Eastern Asia             Taiwan        1433\n",
       "6   North America            Bahamas         368\n",
       "7   North America             Canada       40876\n",
       "8   North America          Greenland          43\n",
       "9   North America             Mexico      126875\n",
       "10  North America      United States      493038"
      ]
     },
     "metadata": {},
     "output_type": "display_data"
    }
   ],
   "source": [
    "# DB의 내용을 DataFrame에 저장\n",
    "DF_Region = pd.read_sql(\"SELECT * FROM PopByRegion\", con)\n",
    "DF_Country = pd.read_sql(\"SELECT * FROM PopByCountry\", con)\n",
    "\n",
    "display(DF_Region)\n",
    "display(DF_Country)"
   ]
  },
  {
   "cell_type": "code",
   "execution_count": 5,
   "metadata": {},
   "outputs": [
    {
     "data": {
      "text/plain": [
       "[('Asia Pacific',),\n",
       " ('Central Africa',),\n",
       " ('Eastern Asia',),\n",
       " ('Eastern Europe',),\n",
       " ('Japan',),\n",
       " ('Middle East',),\n",
       " ('North America',),\n",
       " ('Northern Africa',),\n",
       " ('South America',),\n",
       " ('Southeastern Africa',),\n",
       " ('Southern Asia',),\n",
       " ('Western Europe',)]"
      ]
     },
     "execution_count": 5,
     "metadata": {},
     "output_type": "execute_result"
    }
   ],
   "source": [
    "# 데이터 추출\n",
    "cur = con.cursor() # 커서 위치시키기\n",
    "cur.execute('SELECT Region FROM PopByRegion')\n",
    "# cur.execute('SELECT Region, Population FROM PopByRegion')\n",
    "cur.fetchall()"
   ]
  },
  {
   "cell_type": "code",
   "execution_count": 6,
   "metadata": {
    "scrolled": true
   },
   "outputs": [
    {
     "data": {
      "text/plain": [
       "[('Asia Pacific', 785468),\n",
       " ('Central Africa', 330993),\n",
       " ('Eastern Asia', 1362955),\n",
       " ('Eastern Europe', 223427),\n",
       " ('Japan', 100562),\n",
       " ('Middle East', 687630),\n",
       " ('North America', 661157),\n",
       " ('Northern Africa', 1037463),\n",
       " ('South America', 593121),\n",
       " ('Southeastern Africa', 743112),\n",
       " ('Southern Asia', 2051941),\n",
       " ('Western Europe', 387933)]"
      ]
     },
     "execution_count": 6,
     "metadata": {},
     "output_type": "execute_result"
    }
   ],
   "source": [
    "# 데이터 추출\n",
    "cur = con.cursor() # 커서 위치시키기\n",
    "# cur.execute('SELECT Region FROM PopByRegion')\n",
    "cur.execute('SELECT Region, Population FROM PopByRegion')\n",
    "cur.fetchall()"
   ]
  },
  {
   "cell_type": "code",
   "execution_count": 7,
   "metadata": {},
   "outputs": [
    {
     "data": {
      "text/plain": [
       "[('Asia Pacific', 785468),\n",
       " ('Central Africa', 330993),\n",
       " ('Eastern Asia', 1362955),\n",
       " ('Eastern Europe', 223427),\n",
       " ('Japan', 100562),\n",
       " ('Middle East', 687630),\n",
       " ('North America', 661157),\n",
       " ('Northern Africa', 1037463),\n",
       " ('South America', 593121),\n",
       " ('Southeastern Africa', 743112),\n",
       " ('Southern Asia', 2051941),\n",
       " ('Western Europe', 387933)]"
      ]
     },
     "execution_count": 7,
     "metadata": {},
     "output_type": "execute_result"
    }
   ],
   "source": [
    "# 데이터 추출\n",
    "cur.execute('SELECT * FROM PopByRegion')\n",
    "cur.fetchall()"
   ]
  },
  {
   "cell_type": "code",
   "execution_count": 9,
   "metadata": {},
   "outputs": [
    {
     "data": {
      "text/plain": [
       "[('Asia Pacific', 785468),\n",
       " ('Central Africa', 330993),\n",
       " ('Eastern Asia', 1362955),\n",
       " ('Eastern Europe', 223427),\n",
       " ('Japan', 100562),\n",
       " ('Middle East', 687630),\n",
       " ('North America', 661157),\n",
       " ('Northern Africa', 1037463),\n",
       " ('South America', 593121),\n",
       " ('Southeastern Africa', 743112),\n",
       " ('Southern Asia', 2051941),\n",
       " ('Western Europe', 387933)]"
      ]
     },
     "execution_count": 9,
     "metadata": {},
     "output_type": "execute_result"
    }
   ],
   "source": [
    "#데이터 추출 + 정렬\n",
    "cur.execute('SELECT Region, Population FROM PopByRegion ORDER BY Region') # ORDER BY Region은 Region 기준으로 정렬\n",
    "cur.fetchall()"
   ]
  },
  {
   "cell_type": "code",
   "execution_count": 10,
   "metadata": {},
   "outputs": [
    {
     "data": {
      "text/plain": [
       "[('Western Europe', 387933),\n",
       " ('Southern Asia', 2051941),\n",
       " ('Southeastern Africa', 743112),\n",
       " ('South America', 593121),\n",
       " ('Northern Africa', 1037463),\n",
       " ('North America', 661157),\n",
       " ('Middle East', 687630),\n",
       " ('Japan', 100562),\n",
       " ('Eastern Europe', 223427),\n",
       " ('Eastern Asia', 1362955),\n",
       " ('Central Africa', 330993),\n",
       " ('Asia Pacific', 785468)]"
      ]
     },
     "execution_count": 10,
     "metadata": {},
     "output_type": "execute_result"
    }
   ],
   "source": [
    "#데이터 추출 + 내림차순 정렬\n",
    "# cur.execute('SELECT Region, Population FROM PopByRegion ORDER BY Region ASC') # 오름차순\n",
    "cur.execute('SELECT Region, Population FROM PopByRegion ORDER BY Region DESC') # 역순\n",
    "cur.fetchall()"
   ]
  },
  {
   "cell_type": "code",
   "execution_count": 12,
   "metadata": {},
   "outputs": [
    {
     "data": {
      "text/plain": [
       "[('Western Europe',),\n",
       " ('Southern Asia',),\n",
       " ('Southeastern Africa',),\n",
       " ('South America',),\n",
       " ('Northern Africa',),\n",
       " ('North America',),\n",
       " ('Middle East',),\n",
       " ('Eastern Asia',),\n",
       " ('Central Africa',),\n",
       " ('Asia Pacific',)]"
      ]
     },
     "execution_count": 12,
     "metadata": {},
     "output_type": "execute_result"
    }
   ],
   "source": [
    "#조건에 맞는 데이터 추출\n",
    "cur.execute('SELECT Region FROM PopByRegion WHERE Population > 300000 ORDER BY Region DESC') # WHERE문 사용\n",
    "cur.fetchall()"
   ]
  },
  {
   "cell_type": "code",
   "execution_count": 13,
   "metadata": {},
   "outputs": [
    {
     "data": {
      "text/plain": [
       "[('Asia Pacific', 785468),\n",
       " ('Central Africa', 330993),\n",
       " ('Eastern Asia', 1362955),\n",
       " ('Middle East', 687630),\n",
       " ('North America', 661157),\n",
       " ('Northern Africa', 1037463),\n",
       " ('South America', 593121),\n",
       " ('Southeastern Africa', 743112),\n",
       " ('Southern Asia', 2051941),\n",
       " ('Western Europe', 387933)]"
      ]
     },
     "execution_count": 13,
     "metadata": {},
     "output_type": "execute_result"
    }
   ],
   "source": [
    "#조건에 맞는 데이터 추출\n",
    "cur.execute('SELECT Region, Population FROM PopByRegion WHERE Population > 300000') # WHERE문 사용\n",
    "cur.fetchall()"
   ]
  },
  {
   "cell_type": "code",
   "execution_count": 14,
   "metadata": {},
   "outputs": [
    {
     "data": {
      "text/plain": [
       "[('Asia Pacific',), ('Central Africa',)]"
      ]
     },
     "execution_count": 14,
     "metadata": {},
     "output_type": "execute_result"
    }
   ],
   "source": [
    "#조건에 맞는 데이터 추출\n",
    "cur.execute('SELECT Region FROM PopByRegion WHERE Population > 300000 AND Region < \"E\"') # E보다 먼저나온 것들만 뽑아줌\n",
    "cur.fetchall()"
   ]
  },
  {
   "cell_type": "code",
   "execution_count": 15,
   "metadata": {},
   "outputs": [
    {
     "data": {
      "text/plain": [
       "[('Eastern Asia',),\n",
       " ('Middle East',),\n",
       " ('North America',),\n",
       " ('Northern Africa',),\n",
       " ('South America',),\n",
       " ('Southeastern Africa',),\n",
       " ('Southern Asia',),\n",
       " ('Western Europe',)]"
      ]
     },
     "execution_count": 15,
     "metadata": {},
     "output_type": "execute_result"
    }
   ],
   "source": [
    "#조건에 맞는 데이터 추출\n",
    "cur.execute('SELECT Region FROM PopByRegion WHERE Population > 300000 AND Region > \"E\"') # E보다 먼저나온 것들만 뽑아줌\n",
    "cur.fetchall()"
   ]
  },
  {
   "cell_type": "markdown",
   "metadata": {},
   "source": [
    "데이터 수정"
   ]
  },
  {
   "cell_type": "code",
   "execution_count": 16,
   "metadata": {},
   "outputs": [
    {
     "name": "stdout",
     "output_type": "stream",
     "text": [
      "('Japan', 100562)\n"
     ]
    }
   ],
   "source": [
    "#데이터 업데이트 \n",
    "cur.execute('SELECT * FROM PopByRegion WHERE Region = \"Japan\"')\n",
    "print(cur.fetchone())"
   ]
  },
  {
   "cell_type": "code",
   "execution_count": 17,
   "metadata": {},
   "outputs": [
    {
     "name": "stdout",
     "output_type": "stream",
     "text": [
      "('Japan', 100562)\n",
      "('Japan', 100600)\n"
     ]
    }
   ],
   "source": [
    "#데이터 업데이트 \n",
    "cur.execute('SELECT * FROM PopByRegion WHERE Region = \"Japan\"')\n",
    "print(cur.fetchone()) # fetchone은 하나만 보여줌\n",
    "cur.execute('UPDATE PopByRegion SET Population = 100600 WHERE Region = \"Japan\"') # SET Population = 100600 <- 으로바꿔주는 부분\n",
    "cur.execute('SELECT * FROM PopByRegion WHERE Region = \"Japan\"')\n",
    "print(cur.fetchone())\n"
   ]
  },
  {
   "cell_type": "code",
   "execution_count": 21,
   "metadata": {},
   "outputs": [
    {
     "name": "stdout",
     "output_type": "stream",
     "text": [
      "('Japan', 100600)\n"
     ]
    }
   ],
   "source": [
    "#데이터 업데이트 \n",
    "cur.execute('SELECT * FROM PopByRegion WHERE Region = \"Japan\"')\n",
    "print(cur.fetchone())"
   ]
  },
  {
   "cell_type": "markdown",
   "metadata": {},
   "source": [
    "업데이트 되었음."
   ]
  },
  {
   "cell_type": "code",
   "execution_count": 22,
   "metadata": {},
   "outputs": [
    {
     "data": {
      "text/plain": [
       "[('Asia Pacific', 785468),\n",
       " ('Central Africa', 330993),\n",
       " ('Eastern Asia', 1362955),\n",
       " ('Eastern Europe', 223427),\n",
       " ('Japan', 100600),\n",
       " ('Middle East', 687630),\n",
       " ('North America', 661157),\n",
       " ('Northern Africa', 1037463),\n",
       " ('South America', 593121),\n",
       " ('Southeastern Africa', 743112),\n",
       " ('Southern Asia', 2051941),\n",
       " ('Western Europe', 387933)]"
      ]
     },
     "metadata": {},
     "output_type": "display_data"
    },
    {
     "data": {
      "text/plain": [
       "[('Asia Pacific', 785468),\n",
       " ('Central Africa', 330993),\n",
       " ('Eastern Asia', 1362955),\n",
       " ('Eastern Europe', 223427),\n",
       " ('Middle East', 687630),\n",
       " ('North America', 661157),\n",
       " ('Northern Africa', 1037463),\n",
       " ('South America', 593121),\n",
       " ('Southeastern Africa', 743112),\n",
       " ('Southern Asia', 2051941),\n",
       " ('Western Europe', 387933)]"
      ]
     },
     "metadata": {},
     "output_type": "display_data"
    }
   ],
   "source": [
    "#데이터 삭제\n",
    "cur.execute('SELECT * FROM PopByRegion')\n",
    "display(cur.fetchall())\n",
    "cur.execute('DELETE FROM PopByRegion WHERE Region = \"Japan\"')\n",
    "cur.execute('SELECT * FROM PopByRegion')\n",
    "display(cur.fetchall())\n"
   ]
  },
  {
   "cell_type": "code",
   "execution_count": 23,
   "metadata": {},
   "outputs": [
    {
     "data": {
      "text/plain": [
       "[('Asia Pacific', 785468),\n",
       " ('Central Africa', 330993),\n",
       " ('Eastern Asia', 1362955),\n",
       " ('Eastern Europe', 223427),\n",
       " ('Middle East', 687630),\n",
       " ('North America', 661157),\n",
       " ('Northern Africa', 1037463),\n",
       " ('South America', 593121),\n",
       " ('Southeastern Africa', 743112),\n",
       " ('Southern Asia', 2051941),\n",
       " ('Western Europe', 387933),\n",
       " ('Japan', 100562)]"
      ]
     },
     "execution_count": 23,
     "metadata": {},
     "output_type": "execute_result"
    }
   ],
   "source": [
    "# 데이터 추가\n",
    "cur.execute('INSERT INTO PopByRegion VALUES (\"Japan\", 100562)') \n",
    "cur.execute('SELECT * FROM PopByRegion')\n",
    "cur.fetchall()\n"
   ]
  },
  {
   "cell_type": "code",
   "execution_count": 24,
   "metadata": {},
   "outputs": [
    {
     "ename": "IntegrityError",
     "evalue": "NOT NULL constraint failed: NullTest.Region",
     "output_type": "error",
     "traceback": [
      "\u001b[1;31m---------------------------------------------------------------------------\u001b[0m",
      "\u001b[1;31mIntegrityError\u001b[0m                            Traceback (most recent call last)",
      "\u001b[1;32m<ipython-input-24-ac6035d78892>\u001b[0m in \u001b[0;36m<module>\u001b[1;34m\u001b[0m\n\u001b[0;32m      2\u001b[0m \u001b[0mcur\u001b[0m\u001b[1;33m.\u001b[0m\u001b[0mexecute\u001b[0m\u001b[1;33m(\u001b[0m\u001b[1;34m'CREATE TABLE NullTest (Region TEXT NOT NULL, Population INTEGER)'\u001b[0m\u001b[1;33m)\u001b[0m \u001b[1;31m# Null Test라는 데이블을 만듬,\u001b[0m\u001b[1;33m\u001b[0m\u001b[1;33m\u001b[0m\u001b[0m\n\u001b[0;32m      3\u001b[0m \u001b[0mcur\u001b[0m\u001b[1;33m.\u001b[0m\u001b[0mexecute\u001b[0m\u001b[1;33m(\u001b[0m\u001b[1;34m'INSERT INTO NullTest VALUES (\"Mars\", NULL)'\u001b[0m\u001b[1;33m)\u001b[0m\u001b[1;33m\u001b[0m\u001b[1;33m\u001b[0m\u001b[0m\n\u001b[1;32m----> 4\u001b[1;33m \u001b[0mcur\u001b[0m\u001b[1;33m.\u001b[0m\u001b[0mexecute\u001b[0m\u001b[1;33m(\u001b[0m\u001b[1;34m'INSERT INTO NullTest VALUES (NULL, 456789)'\u001b[0m\u001b[1;33m)\u001b[0m \u001b[1;31m# Error\u001b[0m\u001b[1;33m\u001b[0m\u001b[1;33m\u001b[0m\u001b[0m\n\u001b[0m",
      "\u001b[1;31mIntegrityError\u001b[0m: NOT NULL constraint failed: NullTest.Region"
     ]
    }
   ],
   "source": [
    "#NULL 사용\n",
    "cur.execute('CREATE TABLE NullTest (Region TEXT NOT NULL, Population INTEGER)') # Null Test라는 데이블을 만듬, Region엔 Not NULL\n",
    "cur.execute('INSERT INTO NullTest VALUES (\"Mars\", NULL)')\n",
    "cur.execute('INSERT INTO NullTest VALUES (NULL, 456789)') # Error\n"
   ]
  },
  {
   "cell_type": "code",
   "execution_count": 25,
   "metadata": {},
   "outputs": [
    {
     "data": {
      "text/plain": [
       "<sqlite3.Cursor at 0x1c305192880>"
      ]
     },
     "execution_count": 25,
     "metadata": {},
     "output_type": "execute_result"
    }
   ],
   "source": [
    "# 테이블 삭제\n",
    "cur.execute('DROP TABLE NullTest') # 테이블 지울 땐 DROP\n"
   ]
  },
  {
   "cell_type": "markdown",
   "metadata": {},
   "source": [
    "#### PopByRegion 테이블에서 전체 인구의 합을 계산하시오\n"
   ]
  },
  {
   "cell_type": "code",
   "execution_count": 26,
   "metadata": {},
   "outputs": [
    {
     "data": {
      "text/plain": [
       "[('Asia Pacific', 785468),\n",
       " ('Central Africa', 330993),\n",
       " ('Eastern Asia', 1362955),\n",
       " ('Eastern Europe', 223427),\n",
       " ('Middle East', 687630),\n",
       " ('North America', 661157),\n",
       " ('Northern Africa', 1037463),\n",
       " ('South America', 593121),\n",
       " ('Southeastern Africa', 743112),\n",
       " ('Southern Asia', 2051941),\n",
       " ('Western Europe', 387933),\n",
       " ('Japan', 100562)]"
      ]
     },
     "metadata": {},
     "output_type": "display_data"
    },
    {
     "name": "stdout",
     "output_type": "stream",
     "text": [
      "(8965762,)\n"
     ]
    }
   ],
   "source": [
    "# 고급기능 > 함수\n",
    "cur.execute('SELECT * FROM PopByRegion')\n",
    "display(cur.fetchall())\n",
    "cur.execute('SELECT SUM(Population) FROM PopByRegion')\n",
    "print(cur.fetchone())\n",
    "\n",
    "# AVG, MIN, MAX, COUNT, SUM"
   ]
  },
  {
   "cell_type": "markdown",
   "metadata": {},
   "source": [
    "#### PopByRegion 테이블에서 지역별 인구의 합을 계산하시오"
   ]
  },
  {
   "cell_type": "code",
   "execution_count": 27,
   "metadata": {},
   "outputs": [
    {
     "data": {
      "text/plain": [
       "[('Eastern Asia', 'China', 1285238),\n",
       " ('Eastern Asia', 'DPR Korea', 24056),\n",
       " ('Eastern Asia', 'Hong Kong', 8764),\n",
       " ('Eastern Asia', 'Mongolia', 3407),\n",
       " ('Eastern Asia', 'Republic of Korea', 41491),\n",
       " ('Eastern Asia', 'Taiwan', 1433),\n",
       " ('North America', 'Bahamas', 368),\n",
       " ('North America', 'Canada', 40876),\n",
       " ('North America', 'Greenland', 43),\n",
       " ('North America', 'Mexico', 126875),\n",
       " ('North America', 'United States', 493038)]"
      ]
     },
     "metadata": {},
     "output_type": "display_data"
    },
    {
     "data": {
      "text/plain": [
       "[('Eastern Asia', 1364389), ('North America', 661200)]"
      ]
     },
     "execution_count": 27,
     "metadata": {},
     "output_type": "execute_result"
    }
   ],
   "source": [
    "# 고급기능 > Grouping\n",
    "cur.execute('SELECT * FROM PopByCountry')\n",
    "display(cur.fetchall())\n",
    "cur.execute('SELECT Region, SUM(Population) FROM PopByCountry GROUP BY Region') # 지역별로 그룹한 후 합 구하기\n",
    "cur.fetchall()\n"
   ]
  },
  {
   "cell_type": "markdown",
   "metadata": {},
   "source": [
    "#### PopByCountry 테이블에서 인구가 493038 인 국가를 포함하지 없는 지역을 나타내시오"
   ]
  },
  {
   "cell_type": "code",
   "execution_count": 29,
   "metadata": {},
   "outputs": [
    {
     "data": {
      "text/plain": [
       "[('Eastern Asia', 'China', 1285238),\n",
       " ('Eastern Asia', 'DPR Korea', 24056),\n",
       " ('Eastern Asia', 'Hong Kong', 8764),\n",
       " ('Eastern Asia', 'Mongolia', 3407),\n",
       " ('Eastern Asia', 'Republic of Korea', 41491),\n",
       " ('Eastern Asia', 'Taiwan', 1433),\n",
       " ('North America', 'Bahamas', 368),\n",
       " ('North America', 'Canada', 40876),\n",
       " ('North America', 'Greenland', 43),\n",
       " ('North America', 'Mexico', 126875),\n",
       " ('North America', 'United States', 493038)]"
      ]
     },
     "metadata": {},
     "output_type": "display_data"
    },
    {
     "data": {
      "text/plain": [
       "[('Eastern Asia',),\n",
       " ('Eastern Asia',),\n",
       " ('Eastern Asia',),\n",
       " ('Eastern Asia',),\n",
       " ('Eastern Asia',),\n",
       " ('Eastern Asia',)]"
      ]
     },
     "metadata": {},
     "output_type": "display_data"
    },
    {
     "data": {
      "text/plain": [
       "[('Eastern Asia',)]"
      ]
     },
     "metadata": {},
     "output_type": "display_data"
    }
   ],
   "source": [
    "# 고급기능 > 중첩쿼리\n",
    "cur.execute('SELECT * FROM PopByCountry')\n",
    "display(cur.fetchall())\n",
    "\n",
    "cur.execute('''SELECT Region \n",
    "\tFROM PopByCountry \n",
    "\tWHERE Region NOT IN \n",
    "\t(SELECT Region \n",
    "\tFROM PopByCountry \n",
    "\tWHERE (PopByCountry.Population =  493038)) \n",
    "\t''') # 위의 select에 포함하지 않는 지역을 찾기\n",
    "display(cur.fetchall())\n",
    "\n",
    "cur.execute('''SELECT DISTINCT Region \n",
    "\tFROM PopByCountry \n",
    "\tWHERE Region NOT IN \n",
    "\t(SELECT Region \n",
    "\tFROM PopByCountry \n",
    "\tWHERE (PopByCountry.Population =  493038))\n",
    "\t''')\n",
    "display(cur.fetchall()) # DISTINCT 중복 없이 하나만 뽑아줌\n",
    "\n",
    "\n"
   ]
  },
  {
   "cell_type": "code",
   "execution_count": 30,
   "metadata": {},
   "outputs": [
    {
     "data": {
      "text/plain": [
       "[('Eastern Asia',),\n",
       " ('Eastern Asia',),\n",
       " ('Eastern Asia',),\n",
       " ('Eastern Asia',),\n",
       " ('Eastern Asia',),\n",
       " ('Eastern Asia',)]"
      ]
     },
     "metadata": {},
     "output_type": "display_data"
    },
    {
     "data": {
      "text/plain": [
       "[('Eastern Asia',)]"
      ]
     },
     "metadata": {},
     "output_type": "display_data"
    }
   ],
   "source": [
    "# 고급기능 > 중첩쿼리\n",
    "\n",
    "cur.execute('''SELECT Region \n",
    "\tFROM PopByCountry \n",
    "\tWHERE Region NOT IN \n",
    "\t(SELECT Region \n",
    "\tFROM PopByCountry \n",
    "\tWHERE (PopByCountry.Population =  493038)) \n",
    "\t''') # 위의 select에 포함하지 않는 지역을 찾기\n",
    "display(cur.fetchall())\n",
    "\n",
    "cur.execute('''SELECT DISTINCT Region \n",
    "\tFROM PopByCountry \n",
    "\tWHERE Region NOT IN \n",
    "\t(SELECT Region \n",
    "\tFROM PopByCountry \n",
    "\tWHERE (PopByCountry.Population =  493038))\n",
    "\t''')\n",
    "display(cur.fetchall()) # DISTINCT 중복 없이 하나만 뽑아줌"
   ]
  },
  {
   "cell_type": "markdown",
   "metadata": {},
   "source": [
    "#### Population 이 1,000,000 명 이상의 지역에 속한 국가들을 찾으시오"
   ]
  },
  {
   "cell_type": "code",
   "execution_count": 31,
   "metadata": {
    "scrolled": false
   },
   "outputs": [
    {
     "data": {
      "text/plain": [
       "[('Eastern Asia', 'China', 1285238),\n",
       " ('Eastern Asia', 'DPR Korea', 24056),\n",
       " ('Eastern Asia', 'Hong Kong', 8764),\n",
       " ('Eastern Asia', 'Mongolia', 3407),\n",
       " ('Eastern Asia', 'Republic of Korea', 41491),\n",
       " ('Eastern Asia', 'Taiwan', 1433),\n",
       " ('North America', 'Bahamas', 368),\n",
       " ('North America', 'Canada', 40876),\n",
       " ('North America', 'Greenland', 43),\n",
       " ('North America', 'Mexico', 126875),\n",
       " ('North America', 'United States', 493038)]"
      ]
     },
     "metadata": {},
     "output_type": "display_data"
    },
    {
     "data": {
      "text/plain": [
       "[('Asia Pacific', 785468),\n",
       " ('Central Africa', 330993),\n",
       " ('Eastern Asia', 1362955),\n",
       " ('Eastern Europe', 223427),\n",
       " ('Middle East', 687630),\n",
       " ('North America', 661157),\n",
       " ('Northern Africa', 1037463),\n",
       " ('South America', 593121),\n",
       " ('Southeastern Africa', 743112),\n",
       " ('Southern Asia', 2051941),\n",
       " ('Western Europe', 387933),\n",
       " ('Japan', 100562)]"
      ]
     },
     "metadata": {},
     "output_type": "display_data"
    },
    {
     "data": {
      "text/plain": [
       "[('Eastern Asia', 'China'),\n",
       " ('Eastern Asia', 'DPR Korea'),\n",
       " ('Eastern Asia', 'Hong Kong'),\n",
       " ('Eastern Asia', 'Mongolia'),\n",
       " ('Eastern Asia', 'Republic of Korea'),\n",
       " ('Eastern Asia', 'Taiwan')]"
      ]
     },
     "execution_count": 31,
     "metadata": {},
     "output_type": "execute_result"
    }
   ],
   "source": [
    "# 고급기능 > Inner Join\n",
    "cur.execute('SELECT * FROM PopByCountry')\n",
    "display(cur.fetchall())\n",
    "cur.execute('SELECT * FROM PopByRegion')\n",
    "display(cur.fetchall())\n",
    "\n",
    "\n",
    "cur.execute('''\n",
    "\tSELECT PopByRegion.Region, PopByCountry.Country\n",
    "\tFROM PopByRegion INNER JOIN PopByCountry\n",
    "\tWHERE (PopByRegion.Region = PopByCountry.Region)\n",
    "\tAND (PopByRegion.Population > 1000000)\n",
    "    \t''') # 두 테이블을 JOIN 함!\n",
    "cur.fetchall()\n"
   ]
  },
  {
   "cell_type": "code",
   "execution_count": 33,
   "metadata": {
    "scrolled": true
   },
   "outputs": [
    {
     "data": {
      "text/plain": [
       "[('Eastern Asia', 'China'),\n",
       " ('Eastern Asia', 'DPR Korea'),\n",
       " ('Eastern Asia', 'Hong Kong'),\n",
       " ('Eastern Asia', 'Mongolia'),\n",
       " ('Eastern Asia', 'Republic of Korea'),\n",
       " ('Eastern Asia', 'Taiwan')]"
      ]
     },
     "execution_count": 33,
     "metadata": {},
     "output_type": "execute_result"
    }
   ],
   "source": [
    "# # 고급기능 > Inner Join\n",
    "# cur.execute('SELECT * FROM PopByCountry')\n",
    "# display(cur.fetchall())\n",
    "# cur.execute('SELECT * FROM PopByRegion')\n",
    "# display(cur.fetchall())\n",
    "\n",
    "\n",
    "cur.execute('''\n",
    "\tSELECT PopByCountry.Region, PopByCountry.Country\n",
    "\tFROM PopByRegion INNER JOIN PopByCountry\n",
    "\tWHERE (PopByRegion.Region = PopByCountry.Region)\n",
    "\tAND (PopByRegion.Population > 1000000)\n",
    "    \t''') # (PopByRegion.Region = PopByCountry.Region) 와 (PopByRegion.Population > 1000000)\n",
    "cur.fetchall()"
   ]
  },
  {
   "cell_type": "markdown",
   "metadata": {},
   "source": [
    "#### 한 국가가 그 지역 전체 인구의 10% 이상을 차지하는 지역을 찾으시오 ."
   ]
  },
  {
   "cell_type": "code",
   "execution_count": 35,
   "metadata": {
    "scrolled": true
   },
   "outputs": [
    {
     "data": {
      "text/plain": [
       "[('Eastern Asia',), ('North America',)]"
      ]
     },
     "metadata": {},
     "output_type": "display_data"
    },
    {
     "data": {
      "text/plain": [
       "[('Eastern Asia', 'China'),\n",
       " ('North America', 'Mexico'),\n",
       " ('North America', 'United States')]"
      ]
     },
     "metadata": {},
     "output_type": "display_data"
    }
   ],
   "source": [
    "# 고급기능 > 중복제거\n",
    "cur.execute('''\n",
    "\tSELECT DISTINCT PopByRegion.Region\n",
    "\tFROM PopByRegion INNER JOIN PopByCountry\n",
    "\tWHERE (PopByRegion.Region = PopByCountry.Region)\n",
    "\tAND (PopByCountry.Population > (PopByRegion.Population * 0.10))\n",
    "    \t''') # (PopByCountry.Population > (PopByRegion.Population * 0.10))\n",
    "display(cur.fetchall())\n",
    "\n",
    "cur.execute('''\n",
    "\tSELECT PopByRegion.Region, PopByCountry.Country\n",
    "\tFROM PopByRegion INNER JOIN PopByCountry\n",
    "\tWHERE (PopByRegion.Region = PopByCountry.Region)\n",
    "\tAND (PopByCountry.Population > (PopByRegion.Population * 0.10))\n",
    "    \t''')\n",
    "display(cur.fetchall())\n",
    "\n"
   ]
  },
  {
   "cell_type": "markdown",
   "metadata": {},
   "source": [
    "#### 인구의 차이가 1000 이하인 국가쌍을 찾으시오 ."
   ]
  },
  {
   "cell_type": "code",
   "execution_count": 36,
   "metadata": {
    "scrolled": true
   },
   "outputs": [
    {
     "data": {
      "text/plain": [
       "[('China',),\n",
       " ('DPR Korea',),\n",
       " ('Hong Kong',),\n",
       " ('Mongolia',),\n",
       " ('Republic of Korea',),\n",
       " ('Taiwan',),\n",
       " ('Bahamas',),\n",
       " ('Canada',),\n",
       " ('Greenland',),\n",
       " ('Mexico',),\n",
       " ('United States',)]"
      ]
     },
     "execution_count": 36,
     "metadata": {},
     "output_type": "execute_result"
    }
   ],
   "source": [
    "# 고급기능 > self join (X)\n",
    "# 하나의 테이블에서 두개의 관측치를 비교해야하는 경우임\n",
    "cur.execute('''SELECT Country \n",
    "\tFROM PopByCountry \n",
    "\tWHERE ABS(Population - Population) < 1000 \n",
    "\t''') # 1000보다 작은 경우에 출력시켜라!\n",
    "cur.fetchall()\n"
   ]
  },
  {
   "cell_type": "code",
   "execution_count": 37,
   "metadata": {},
   "outputs": [
    {
     "data": {
      "text/plain": [
       "[('Republic of Korea', 'Canada'),\n",
       " ('Bahamas', 'Greenland'),\n",
       " ('Canada', 'Republic of Korea'),\n",
       " ('Greenland', 'Bahamas')]"
      ]
     },
     "execution_count": 37,
     "metadata": {},
     "output_type": "execute_result"
    }
   ],
   "source": [
    "# 고급기능 > self join (O)\n",
    "cur.execute('''SELECT A.Country, B.Country \n",
    "\tFROM PopByCountry A INNER JOIN PopByCountry B\n",
    "\tWHERE (ABS(A.Population - B.Population) < 1000)\n",
    "\tAND (A.Country != B.Country)\n",
    "\t''') # A, B를 임의로 정하는 것\n",
    "cur.fetchall()\n"
   ]
  },
  {
   "cell_type": "code",
   "execution_count": null,
   "metadata": {},
   "outputs": [],
   "source": []
  }
 ],
 "metadata": {
  "kernelspec": {
   "display_name": "Python 3",
   "language": "python",
   "name": "python3"
  },
  "language_info": {
   "codemirror_mode": {
    "name": "ipython",
    "version": 3
   },
   "file_extension": ".py",
   "mimetype": "text/x-python",
   "name": "python",
   "nbconvert_exporter": "python",
   "pygments_lexer": "ipython3",
   "version": "3.7.6"
  }
 },
 "nbformat": 4,
 "nbformat_minor": 2
}
