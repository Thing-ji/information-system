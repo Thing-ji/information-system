{
 "cells": [
  {
   "cell_type": "markdown",
   "metadata": {},
   "source": [
    "### Part1. 모두를 위한 파이썬 기초\n",
    "#### 4장. 함수"
   ]
  },
  {
   "cell_type": "code",
   "execution_count": null,
   "metadata": {},
   "outputs": [],
   "source": [
    "def f(x):\n",
    "    return(2 * x + 7)\n",
    "\n",
    "def g(x):\n",
    "    return(x ** 2)\n",
    "\n",
    "\n",
    "f(2) + g(2) + f(g(2)) + g(f(2))"
   ]
  },
  {
   "cell_type": "code",
   "execution_count": null,
   "metadata": {},
   "outputs": [],
   "source": [
    "def a_rectangleArea():\t\t# 인자 X , 리턴값 X\n",
    "    result = 4 * 6\t\t\t# 함수 내에서 계산\n",
    "def b_rectangleArea(x, y):\t\t# 인자 O , 리턴값 X\n",
    "    result = x * y\t\t \t# 두 숫자의 곱을 함수 내에서 계산\n",
    "def c_rectangleArea():\t\t# 인자 X , 리턴값 O \n",
    "    return(4 * 6)\t\t\t# 인자없이 결과 값http://localhost:10000/notebooks/2021_%EB%B4%84%ED%95%99%EA%B8%B0_%EC%A0%95%EB%B3%B4%EC%8B%9C%EC%8A%A4%ED%85%9C/20210318_3%EC%A3%BC%EC%B0%A8%EC%8B%A4%EC%8A%B5%EC%BD%94%EB%93%9C.ipynb# 반환\n",
    "def d_rectangleArea(x, y):\t\t# 인자 O , 리턴값 O\t\n",
    "    return(x * y)\t\t\t# 인자값으로 넓이를 계산, 결과 값 반환\n",
    "\n",
    "print(a_rectangleArea())\n",
    "print(b_rectangleArea(5, 7))\n",
    "print(b_rectangleArea(x=5, y=7))\n",
    "print(c_rectangleArea())               # 반환값이 있으면 반환 값을 사용\n",
    "print(d_rectangleArea(100, 107))\n"
   ]
  },
  {
   "cell_type": "code",
   "execution_count": null,
   "metadata": {},
   "outputs": [],
   "source": [
    "Professor = \"Dohyun Kim\"\n",
    "print(Professor)\n"
   ]
  },
  {
   "cell_type": "code",
   "execution_count": null,
   "metadata": {},
   "outputs": [],
   "source": [
    "a = 7\n",
    "b = 5\n",
    "print(a+b)\n"
   ]
  },
  {
   "cell_type": "code",
   "execution_count": null,
   "metadata": {},
   "outputs": [],
   "source": [
    "a = 7\n",
    "b = 5\n",
    "print(\"a+b\")\n"
   ]
  },
  {
   "cell_type": "code",
   "execution_count": null,
   "metadata": {},
   "outputs": [],
   "source": [
    "keyboard_input=input(\" 아무거나 입력해보세요 \") # 5 입력\n",
    "print(keyboard_input)\n"
   ]
  },
  {
   "cell_type": "code",
   "execution_count": null,
   "metadata": {},
   "outputs": [],
   "source": [
    "a = 5\t\t # a와 b는 전역변수\n",
    "b = 7\n",
    "total = 0\t             \t # total은 전역변수\n",
    "\n",
    "def calculate(x, y):\n",
    "    total = x + y\t # 새로운 값이 할당되어 함수내 total은 지역변수가 됨 \n",
    "    print(\"a:\", a, \"b:\", b, \"a+b:\", a+b, \"total :\", total)\n",
    "    return(total)\n",
    "\n",
    "print(\"a:\", a, \"b:\", b, \"a+b:\", a+b, \"total :\", total)\n",
    "\n",
    "sum = calculate(a, b)\n",
    "print(\"total :\", total, \"Sum :\", sum)   # 지역변수는 전역변수에 영향 X\n"
   ]
  },
  {
   "cell_type": "code",
   "execution_count": null,
   "metadata": {},
   "outputs": [],
   "source": [
    "a = 5\t\t # a와 b는 전역변수\n",
    "b = 7\n",
    "tobal = 0\t             \t # total은 전역변수\n",
    "\n",
    "def calculate(x, y): # x=5, y=7\n",
    "    global total\n",
    "    total = x + y\t # 새로운 값이 할당되어 함수내 total은 지역변수가 됨  total = 12\n",
    "    print(\"a:\", a, \"b:\", b, \"a+b:\", a+b, \"total :\", total) # a=5, b =7, a+7 =12. total =12\n",
    "    return(total)\n",
    "\n",
    "print(\"a:\", a, \"b:\", b, \"a+b:\", a+b, \"total :\", total) #a=5, b=7, a+b=12, total=0\n",
    "\n",
    "sum = calculate(a, b)  #sum=12\n",
    "\n",
    "print(\"total :\", total, \"Sum :\", sum)   # 지역변수는 전역변수에 영향 X total=12, sum =-12\n"
   ]
  },
  {
   "cell_type": "code",
   "execution_count": null,
   "metadata": {},
   "outputs": [],
   "source": [
    "def count(number):\n",
    "    n=1 \n",
    "    while n <= number:\n",
    "        print(n)\n",
    "        n = n + 1\n",
    "\n",
    "count(12)"
   ]
  },
  {
   "cell_type": "markdown",
   "metadata": {},
   "source": [
    "#### 구구단"
   ]
  },
  {
   "cell_type": "code",
   "execution_count": null,
   "metadata": {},
   "outputs": [],
   "source": [
    "def times_tables(num):\n",
    "    n = 1\n",
    "    while n <= 10:\n",
    "        print(n, \"x\", num, \" = \", n*num)\n",
    "        n = n + 1\n",
    "        \n",
    "times_tables(12)"
   ]
  },
  {
   "cell_type": "code",
   "execution_count": null,
   "metadata": {},
   "outputs": [],
   "source": [
    "def times_tables(how_far, num):\n",
    "    n = 1\n",
    "    while n <= how_far:\n",
    "        print(n, \"x\", num, \" = \", n*num)\n",
    "        n = n + 1\n",
    "        \n",
    "times_tables(13, 17)"
   ]
  },
  {
   "cell_type": "markdown",
   "metadata": {},
   "source": [
    "#### 숫자 맞추기 게임"
   ]
  },
  {
   "cell_type": "code",
   "execution_count": null,
   "metadata": {},
   "outputs": [],
   "source": [
    "import random\n",
    "\n",
    "computer_number = random.randint(1, 100)\n",
    "print(computer_number)\n",
    "\n",
    "def is_same(target, number):\n",
    "    if target == number:\n",
    "        result = \"Win\"\n",
    "    elif target > number :\n",
    "        result = \"Low\"\n",
    "    else:\n",
    "        result = \"High\"\n",
    "    return result\n",
    "\n",
    "print(\"안녕\\n난 1부터 100중 숫자 하나를 골랐어요.\")\n",
    "\n",
    "guess = int(input(\"뭔지 쓰고 엔터키를 누르세요. \"))\n",
    "\n",
    "higher_or_lower = is_same(computer_number, guess)\n",
    "\n",
    "while higher_or_lower != \"Win\":\n",
    "    if higher_or_lower == \"Low\":\n",
    "        guess = int(input(\"그것 보단 높습니다. 다시 생각해보세요.\"))\n",
    "    else:\n",
    "        guess = int(input(\"그것 보단 낮습니다. 다시 생각해보세요.\"))\n",
    "        \n",
    "    higher_or_lower = is_same(computer_number, guess)\n",
    "    \n",
    "input(\"정답!\\n 잘 했어요. \\n\\n\\n마치려면 엔터키를 누르세요\")"
   ]
  },
  {
   "cell_type": "markdown",
   "metadata": {},
   "source": [
    "#### 실습 : 구구단 코드를 수정하여 몇 단의 구구단을 원하는 지 물어보는 프로그램으로 코드를 수정하시오."
   ]
  },
  {
   "cell_type": "code",
   "execution_count": null,
   "metadata": {},
   "outputs": [
    {
     "name": "stdout",
     "output_type": "stream",
     "text": [
      "안녕하세요. \n",
      "어느 구구단을 좋아하시나요?. 숫자를 입력하세요. : \n",
      "123\n",
      "원하는 행이 몇개인가요? 숫자를 입력하세요. : \n",
      "3\n",
      "\n",
      "1 x 123  =  123\n",
      "2 x 123  =  246\n",
      "3 x 123  =  369\n"
     ]
    }
   ],
   "source": [
    "which_table = int(input(\"안녕하세요. \\n어느 구구단을 좋아하시나요?. 숫자를 입력하세요. : \\n\")) # 구구단 몇단까지를 받는 코드\n",
    "how_many_rows = int(input(\"원하는 행이 몇개인가요? 숫자를 입력하세요. : \\n\")) # 몇 행까지 실행하는 코드\n",
    "\n",
    "def times_tables(how_far, num):\n",
    "    n = 1\n",
    "    while n <= how_far:\n",
    "        print(n, \"x\", num, \" = \", n*num)\n",
    "        n = n + 1\n",
    "        \n",
    "print()\n",
    "\n",
    "times_tables(how_many_rows, which_table)\n",
    "\n",
    "input(\"\\n\\n종료하려면 리턴 키를 누르세요.\")"
   ]
  },
  {
   "cell_type": "markdown",
   "metadata": {},
   "source": [
    "#### 실습 : 숫자맞추기 게임코드를 수정하여 몇번만에 맞췄는 지를 세어서 알려주는 프로그램을 작성하시오 (while문 수정)"
   ]
  },
  {
   "cell_type": "code",
   "execution_count": 4,
   "metadata": {},
   "outputs": [
    {
     "name": "stdout",
     "output_type": "stream",
     "text": [
      "74\n",
      "안녕\n",
      "난 1부터 100중 숫자 하나를 골랐어요.\n",
      "뭔지 쓰고 엔터키를 누르세요. 80\n",
      "그것 보다는 낮습니다. 다시 생각해보세요.76\n",
      "그것 보다는 낮습니다. 다시 생각해보세요.75\n",
      "그것 보다는 낮습니다. 다시 생각해보세요.74\n",
      "정답!\n",
      " 잘 했어요. 당신이 맞췄군요. 4 번만에 맞췄네요.\n"
     ]
    }
   ],
   "source": [
    "import random\n",
    "\n",
    "computer_number = random.randint(1, 100)\n",
    "print(computer_number)\n",
    "counter = 1\n",
    "\n",
    "def is_same(target, number):\n",
    "    if target == number:\n",
    "        result = \"Win\"\n",
    "    elif target > number :\n",
    "        result = \"Low\"\n",
    "    else:\n",
    "        result = \"High\"\n",
    "    return result\n",
    "\n",
    "print(\"안녕\\n난 1부터 100중 숫자 하나를 골랐어요.\")\n",
    "\n",
    "guess = int(input(\"뭔지 쓰고 엔터키를 누르세요. \"))\n",
    "\n",
    "higher_or_lower = is_same(computer_number, guess)\n",
    "\n",
    "while higher_or_lower != \"Win\":\n",
    "    \n",
    "    if higher_or_lower == \"Low\":\n",
    "        guess = int(input(\"그것 보다는 높습니다. 다시 생각해보세요.\"))\n",
    "        counter = counter + 1\n",
    "    else:\n",
    "        guess = int(input(\"그것 보다는 낮습니다. 다시 생각해보세요.\"))\n",
    "        counter = counter + 1\n",
    "        \n",
    "    higher_or_lower = is_same(computer_number, guess)\n",
    "    \n",
    "print(\"정답!\\n 잘 했어요. 당신이 맞췄군요.\",  counter, \"번만에 맞췄네요.\")"
   ]
  },
  {
   "cell_type": "markdown",
   "metadata": {},
   "source": [
    "#### 실습 : 숫자맞추기 게임코드를 수정하여 난이도를 선택할 수 있도록 코드를 수정하시오. \n",
    "#### 하 : 1-10, 중 : 1-20, 상 : 1-100 사이의 숫자생성\n",
    "    "
   ]
  },
  {
   "cell_type": "code",
   "execution_count": 6,
   "metadata": {},
   "outputs": [
    {
     "name": "stdout",
     "output_type": "stream",
     "text": [
      "안녕하세요 \n",
      "게임 레벨을 고르세요 : 상/중/하미듐\n",
      "죄송합니다. 엉뚱한 글자를 입력하셨네요. 다음 글자중에 하나를 골라야 합니다.'상', '중', '하' 중\n",
      "1과 20 사이의 값을 선택하였습니다.\n",
      "2\n",
      "1과 20 사이의 값을 선택하시오.\n",
      "뭔지 쓰고 엔터키를 누르세요. 5\n",
      "그것 보다는 낮습니다. 다시 생각해보세요.1\n",
      "그것 보다는 높습니다. 다시 생각해보세요.2\n",
      "정답!\n",
      " 잘 했어요. 당신이 맞췄군요. 3 번만에 맞췄네요.\n"
     ]
    }
   ],
   "source": [
    "import random\n",
    "\n",
    "level = input(\"안녕하세요 \\n게임 레벨을 고르세요 : 상/중/하\")\n",
    "\n",
    "while level != \"상\" and level != \"중\" and level != \"하\" :\n",
    "    level = input(\"죄송합니다. 엉뚱한 글자를 입력하셨네요. 다음 글자중에 하나를 골라야 합니다.'상', '중', '하' \")\n",
    "    \n",
    "if level == '하':\n",
    "    upper_limit = 10\n",
    "elif level == '중':\n",
    "    upper_limit = 20\n",
    "else:\n",
    "    upper_limit = 100\n",
    "    \n",
    "computer_number = random.randint(1, upper_limit)\n",
    "print(\"1과\", upper_limit, \"사이의 값을 선택하였습니다.\")\n",
    "print(computer_number)\n",
    "\n",
    "print(\"1과\", upper_limit, \"사이의 값을 선택하시오.\")\n",
    "\n",
    "counter = 1\n",
    "\n",
    "def is_same(target, number):\n",
    "    if target == number:\n",
    "        result = \"Win\"\n",
    "    elif target > number :\n",
    "        result = \"Low\"\n",
    "    else:\n",
    "        result = \"High\"\n",
    "    return result\n",
    "\n",
    "\n",
    "guess = int(input(\"뭔지 쓰고 엔터키를 누르세요. \"))\n",
    "\n",
    "higher_or_lower = is_same(computer_number, guess)\n",
    "\n",
    "while higher_or_lower != \"Win\":\n",
    "    \n",
    "    if higher_or_lower == \"Low\":\n",
    "        guess = int(input(\"그것 보다는 높습니다. 다시 생각해보세요.\"))\n",
    "        counter = counter + 1\n",
    "    else:\n",
    "        guess = int(input(\"그것 보다는 낮습니다. 다시 생각해보세요.\"))\n",
    "        counter = counter + 1\n",
    "        \n",
    "    higher_or_lower = is_same(computer_number, guess)\n",
    "    \n",
    "print(\"정답!\\n 잘 했어요. 당신이 맞췄군요.\",  counter, \"번만에 맞췄네요.\")"
   ]
  },
  {
   "cell_type": "code",
   "execution_count": null,
   "metadata": {},
   "outputs": [],
   "source": []
  }
 ],
 "metadata": {
  "kernelspec": {
   "display_name": "Python 3",
   "language": "python",
   "name": "python3"
  },
  "language_info": {
   "codemirror_mode": {
    "name": "ipython",
    "version": 3
   },
   "file_extension": ".py",
   "mimetype": "text/x-python",
   "name": "python",
   "nbconvert_exporter": "python",
   "pygments_lexer": "ipython3",
   "version": "3.8.5"
  }
 },
 "nbformat": 4,
 "nbformat_minor": 4
}
