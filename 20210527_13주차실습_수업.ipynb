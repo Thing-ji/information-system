{
 "cells": [
  {
   "cell_type": "markdown",
   "metadata": {},
   "source": [
    "### 프로젝트 관련 코드 설명"
   ]
  },
  {
   "cell_type": "markdown",
   "metadata": {},
   "source": [
    "#### print방법 (revisit)"
   ]
  },
  {
   "cell_type": "code",
   "execution_count": 1,
   "metadata": {},
   "outputs": [
    {
     "name": "stdout",
     "output_type": "stream",
     "text": [
      "파이의 값은 3.141592653589793 입니다.\n",
      "파이의 값은 3.141592653589793 입니다.\n",
      "파이의 값은 3.1416입니다.\n",
      "파이의 값은 3.141592653589793입니다.\n",
      "파이의 값은 3.14입니다.\n"
     ]
    }
   ],
   "source": [
    "from math import *\n",
    "print(\"파이의 값은\", pi,\"입니다.\")\n",
    "print(\"파이의 값은 %s 입니다.\" %pi)\n",
    "print(\"파이의 값은 {:2.4f}입니다.\".format(pi))\n",
    "print(f\"파이의 값은 {pi}입니다.\")\n",
    "print(f\"파이의 값은 {pi:2.2f}입니다.\")"
   ]
  },
  {
   "cell_type": "markdown",
   "metadata": {},
   "source": [
    "#### 특정 문자열 포함 데이터 검색"
   ]
  },
  {
   "cell_type": "code",
   "execution_count": 2,
   "metadata": {},
   "outputs": [
    {
     "data": {
      "text/plain": [
       "[('데이터마이닝', 167), ('마이닝학습', 67), ('데이터애널리틱스', 153), ('정보시스템', 40)]"
      ]
     },
     "execution_count": 2,
     "metadata": {},
     "output_type": "execute_result"
    }
   ],
   "source": [
    "import sqlite3\n",
    "con=sqlite3.connect('example3.db')\n",
    "cur=con.cursor()\n",
    "cur.execute('CREATE TABLE IE2021(Subject TEXT, Member INTEGER)')\n",
    "cur.execute('INSERT INTO IE2021 VALUES(\"데이터마이닝\", 167)')\n",
    "cur.execute('INSERT INTO IE2021 VALUES(\"마이닝학습\", 67)')\n",
    "cur.execute('INSERT INTO IE2021 VALUES(\"데이터애널리틱스\", 153)')\n",
    "cur.execute('INSERT INTO IE2021 VALUES(\"정보시스템\", 40)')\n",
    "cur.execute('SELECT Subject, Member FROM IE2021')\n",
    "cur.fetchall()"
   ]
  },
  {
   "cell_type": "code",
   "execution_count": 65,
   "metadata": {},
   "outputs": [
    {
     "name": "stdout",
     "output_type": "stream",
     "text": [
      "[('데이터마이닝', 167), ('마이닝학습', 67), ('데이터애널리틱스', 153), ('정보시스템', 40)]\n",
      "[('데이터마이닝', 167)]\n",
      "[]\n",
      "[('데이터마이닝', 167), ('데이터애널리틱스', 153)]\n",
      "[('데이터마이닝', 167), ('마이닝학습', 67)]\n",
      "[('마이닝학습', 67), ('정보시스템', 40)]\n",
      "<class 'list'>\n",
      "첫번째 값은 ('마이닝학습', 67), 두번째 값은 ('정보시스템', 40) 입니다.\n",
      "첫번째 과목은 마이닝학습, 첫번째 수강인원은 67 입니다.\n"
     ]
    }
   ],
   "source": [
    "# 모든 데이터 추출\n",
    "cur.execute('SELECT * FROM IE2021')\n",
    "A = cur.fetchall()\n",
    "print(A)\n",
    "\n",
    "\n",
    "# '데이터마이닝' 데이터 추출\n",
    "b = '데이터마이닝'\n",
    "cur.execute('SELECT * FROM IE2021 WHERE Subject = \"%s\"'%b)\n",
    "B = cur.fetchall()\n",
    "print(B)\n",
    "\n",
    "# '데이터' + 한 글자 데이터 추출\n",
    "c = '데이터?'\n",
    "cur.execute('SELECT * FROM IE2021 WHERE Subject LIKE \"%s\"'%c)\n",
    "C = cur.fetchall()\n",
    "print(C)\n",
    "\n",
    "# '데이터' 포함 데이터 추출\n",
    "d = '데이터%'\n",
    "cur.execute('SELECT * FROM IE2021 WHERE Subject LIKE \"%s\"'%d)\n",
    "D = cur.fetchall()\n",
    "print(D)\n",
    "\n",
    "# '마이닝' 포함 데이터 추출\n",
    "e = '%마이닝%'\n",
    "cur.execute('SELECT * FROM IE2021 WHERE Subject LIKE \"%s\"'%e)\n",
    "E = cur.fetchall()\n",
    "print(E)\n",
    "\n",
    "# 100보다 작은 데이터 추출\n",
    "f = 100\n",
    "cur.execute('SELECT * FROM IE2021 WHERE Member < \"%d\"'%f)\n",
    "F = cur.fetchall()\n",
    "print(F)\n",
    "print(type(F))\n",
    "print(f\"첫번째 값은 {F[0]}, 두번째 값은 {F[1]} 입니다.\")\n",
    "print(f\"첫번째 과목은 {F[0][0]}, 첫번째 수강인원은 {F[0][1]} 입니다.\")\n"
   ]
  },
  {
   "cell_type": "markdown",
   "metadata": {},
   "source": [
    "#### 메뉴 인터페이스"
   ]
  },
  {
   "cell_type": "code",
   "execution_count": 57,
   "metadata": {},
   "outputs": [],
   "source": [
    "from tkinter import *\n",
    "from tkinter import messagebox\n",
    "from tkinter.filedialog import askopenfilename\n",
    "import pandas as pd\n",
    "\n",
    "window = Tk()\n",
    "window.title(\"My Project\")\n",
    "\n",
    "def donothing():\n",
    "    pass\n",
    "\n",
    "def close():\n",
    "    window.quit()\n",
    "    window.destroy()\n",
    "\n",
    "def openFile():\n",
    "    global fname\n",
    "    fname = askopenfilename(filetypes=((\"xlsx\",\"*.xlsx\"), (\"All Files\",\"*.*\") ))\n",
    "    df_excel = pd.read_excel(fname, 0, header=None)\n",
    "    messagebox.showinfo(\"불러온 파일 정보\", fname)\n",
    "    \n",
    "    # Entry table 생성하기\n",
    "    height = 6\n",
    "    width = 5\n",
    "    for i in range(height): #Rows\n",
    "        for j in range(width): #Columns\n",
    "            b = Entry(window, text=\"\")\n",
    "            b.grid(row=i+1, column=j)\n",
    "            b.insert(0, df_excel.iloc[i, j])\n",
    "\n",
    "# Menu 생성하기\n",
    "menubar = Menu(window)\n",
    "\n",
    "filemenu = Menu(menubar, tearoff=0)\n",
    "menubar.add_cascade(label=\"File\", menu=filemenu)\n",
    "filemenu.add_command(label=\"New\", command=donothing)\n",
    "filemenu.add_command(label=\"Open\", command=openFile)\n",
    "filemenu.add_command(label=\"Save\", command=donothing)\n",
    "filemenu.add_command(label=\"Save as...\", command=donothing)\n",
    "filemenu.add_separator()\n",
    "filemenu.add_command(label=\"Exit\", command=close)\n",
    "\n",
    "filemenu1 = Menu(menubar, tearoff=0)\n",
    "menubar.add_cascade(label=\"Etc\", menu=filemenu1)\n",
    "filemenu1.add_command(label=\"New\", command=donothing)\n",
    "\n",
    "window.config(menu=menubar)\n",
    "\n",
    "# Label 생성하기\n",
    "Label(window, text=\"Infomation System Project\").grid(row=0, column=0, columnspan=5)\n",
    "        \n",
    "window.mainloop()\n",
    "\n"
   ]
  },
  {
   "cell_type": "markdown",
   "metadata": {},
   "source": [
    "tkinter 참고 매뉴얼 (소스코드에서 import Tkinter 는 import tkinter로 변환하여 실행)\n",
    "1. https://www.tutorialspoint.com/python/python_gui_programming.htm\n",
    "2. http://www.dummies.com/programming/python/using-tkinter-widgets-in-python/\n",
    "3. https://076923.github.io/posts/#Python-Tkinter\n"
   ]
  },
  {
   "cell_type": "code",
   "execution_count": null,
   "metadata": {},
   "outputs": [],
   "source": []
  }
 ],
 "metadata": {
  "kernelspec": {
   "display_name": "Python 3",
   "language": "python",
   "name": "python3"
  },
  "language_info": {
   "codemirror_mode": {
    "name": "ipython",
    "version": 3
   },
   "file_extension": ".py",
   "mimetype": "text/x-python",
   "name": "python",
   "nbconvert_exporter": "python",
   "pygments_lexer": "ipython3",
   "version": "3.8.5"
  }
 },
 "nbformat": 4,
 "nbformat_minor": 2
}
